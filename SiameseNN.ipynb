{
 "cells": [
  {
   "cell_type": "code",
   "execution_count": 1,
   "metadata": {},
   "outputs": [],
   "source": [
    "import torch\n",
    "import torch.nn as nn\n",
    "import numpy as np\n",
    "import matplotlib.pyplot as plt\n",
    "import torchvision\n",
    "from torch.autograd import Variable\n",
    "from sklearn import datasets\n",
    "from sklearn.model_selection import train_test_split\n",
    "from numpy import random"
   ]
  },
  {
   "cell_type": "code",
   "execution_count": 2,
   "metadata": {},
   "outputs": [],
   "source": [
    "from matplotlib import rc\n",
    "rc('font',**{'family':'serif','serif':['Palatino']})\n",
    "plt.rcParams['pdf.fonttype'] = 42"
   ]
  },
  {
   "cell_type": "code",
   "execution_count": 2,
   "metadata": {},
   "outputs": [
    {
     "ename": "AssertionError",
     "evalue": "Torch not compiled with CUDA enabled",
     "output_type": "error",
     "traceback": [
      "\u001b[0;31m---------------------------------------------------------------------------\u001b[0m",
      "\u001b[0;31mAssertionError\u001b[0m                            Traceback (most recent call last)",
      "Cell \u001b[0;32mIn[2], line 2\u001b[0m\n\u001b[1;32m      1\u001b[0m device \u001b[38;5;241m=\u001b[39m torch\u001b[38;5;241m.\u001b[39mdevice(\u001b[38;5;124m'\u001b[39m\u001b[38;5;124mcuda:0\u001b[39m\u001b[38;5;124m'\u001b[39m \u001b[38;5;28;01mif\u001b[39;00m torch\u001b[38;5;241m.\u001b[39mcuda\u001b[38;5;241m.\u001b[39mis_available() \u001b[38;5;28;01melse\u001b[39;00m \u001b[38;5;124m'\u001b[39m\u001b[38;5;124mcpu\u001b[39m\u001b[38;5;124m'\u001b[39m)\n\u001b[0;32m----> 2\u001b[0m \u001b[38;5;28mprint\u001b[39m(device, \u001b[43mtorch\u001b[49m\u001b[38;5;241;43m.\u001b[39;49m\u001b[43mcuda\u001b[49m\u001b[38;5;241;43m.\u001b[39;49m\u001b[43mget_device_name\u001b[49m\u001b[43m(\u001b[49m\u001b[43m)\u001b[49m)\n",
      "File \u001b[0;32m~/.pyenv/versions/3.9.2/lib/python3.9/site-packages/torch/cuda/__init__.py:493\u001b[0m, in \u001b[0;36mget_device_name\u001b[0;34m(device)\u001b[0m\n\u001b[1;32m    481\u001b[0m \u001b[38;5;28;01mdef\u001b[39;00m \u001b[38;5;21mget_device_name\u001b[39m(device: Optional[_device_t] \u001b[38;5;241m=\u001b[39m \u001b[38;5;28;01mNone\u001b[39;00m) \u001b[38;5;241m-\u001b[39m\u001b[38;5;241m>\u001b[39m \u001b[38;5;28mstr\u001b[39m:\n\u001b[1;32m    482\u001b[0m \u001b[38;5;250m    \u001b[39m\u001b[38;5;124mr\u001b[39m\u001b[38;5;124;03m\"\"\"Get the name of a device.\u001b[39;00m\n\u001b[1;32m    483\u001b[0m \n\u001b[1;32m    484\u001b[0m \u001b[38;5;124;03m    Args:\u001b[39;00m\n\u001b[0;32m   (...)\u001b[0m\n\u001b[1;32m    491\u001b[0m \u001b[38;5;124;03m        str: the name of the device\u001b[39;00m\n\u001b[1;32m    492\u001b[0m \u001b[38;5;124;03m    \"\"\"\u001b[39;00m\n\u001b[0;32m--> 493\u001b[0m     \u001b[38;5;28;01mreturn\u001b[39;00m \u001b[43mget_device_properties\u001b[49m\u001b[43m(\u001b[49m\u001b[43mdevice\u001b[49m\u001b[43m)\u001b[49m\u001b[38;5;241m.\u001b[39mname\n",
      "File \u001b[0;32m~/.pyenv/versions/3.9.2/lib/python3.9/site-packages/torch/cuda/__init__.py:523\u001b[0m, in \u001b[0;36mget_device_properties\u001b[0;34m(device)\u001b[0m\n\u001b[1;32m    513\u001b[0m \u001b[38;5;28;01mdef\u001b[39;00m \u001b[38;5;21mget_device_properties\u001b[39m(device: _device_t) \u001b[38;5;241m-\u001b[39m\u001b[38;5;241m>\u001b[39m _CudaDeviceProperties:\n\u001b[1;32m    514\u001b[0m \u001b[38;5;250m    \u001b[39m\u001b[38;5;124mr\u001b[39m\u001b[38;5;124;03m\"\"\"Get the properties of a device.\u001b[39;00m\n\u001b[1;32m    515\u001b[0m \n\u001b[1;32m    516\u001b[0m \u001b[38;5;124;03m    Args:\u001b[39;00m\n\u001b[0;32m   (...)\u001b[0m\n\u001b[1;32m    521\u001b[0m \u001b[38;5;124;03m        _CudaDeviceProperties: the properties of the device\u001b[39;00m\n\u001b[1;32m    522\u001b[0m \u001b[38;5;124;03m    \"\"\"\u001b[39;00m\n\u001b[0;32m--> 523\u001b[0m     \u001b[43m_lazy_init\u001b[49m\u001b[43m(\u001b[49m\u001b[43m)\u001b[49m  \u001b[38;5;66;03m# will define _get_device_properties\u001b[39;00m\n\u001b[1;32m    524\u001b[0m     device \u001b[38;5;241m=\u001b[39m _get_device_index(device, optional\u001b[38;5;241m=\u001b[39m\u001b[38;5;28;01mTrue\u001b[39;00m)\n\u001b[1;32m    525\u001b[0m     \u001b[38;5;28;01mif\u001b[39;00m device \u001b[38;5;241m<\u001b[39m \u001b[38;5;241m0\u001b[39m \u001b[38;5;129;01mor\u001b[39;00m device \u001b[38;5;241m>\u001b[39m\u001b[38;5;241m=\u001b[39m device_count():\n",
      "File \u001b[0;32m~/.pyenv/versions/3.9.2/lib/python3.9/site-packages/torch/cuda/__init__.py:310\u001b[0m, in \u001b[0;36m_lazy_init\u001b[0;34m()\u001b[0m\n\u001b[1;32m    305\u001b[0m     \u001b[38;5;28;01mraise\u001b[39;00m \u001b[38;5;167;01mRuntimeError\u001b[39;00m(\n\u001b[1;32m    306\u001b[0m         \u001b[38;5;124m\"\u001b[39m\u001b[38;5;124mCannot re-initialize CUDA in forked subprocess. To use CUDA with \u001b[39m\u001b[38;5;124m\"\u001b[39m\n\u001b[1;32m    307\u001b[0m         \u001b[38;5;124m\"\u001b[39m\u001b[38;5;124mmultiprocessing, you must use the \u001b[39m\u001b[38;5;124m'\u001b[39m\u001b[38;5;124mspawn\u001b[39m\u001b[38;5;124m'\u001b[39m\u001b[38;5;124m start method\u001b[39m\u001b[38;5;124m\"\u001b[39m\n\u001b[1;32m    308\u001b[0m     )\n\u001b[1;32m    309\u001b[0m \u001b[38;5;28;01mif\u001b[39;00m \u001b[38;5;129;01mnot\u001b[39;00m \u001b[38;5;28mhasattr\u001b[39m(torch\u001b[38;5;241m.\u001b[39m_C, \u001b[38;5;124m\"\u001b[39m\u001b[38;5;124m_cuda_getDeviceCount\u001b[39m\u001b[38;5;124m\"\u001b[39m):\n\u001b[0;32m--> 310\u001b[0m     \u001b[38;5;28;01mraise\u001b[39;00m \u001b[38;5;167;01mAssertionError\u001b[39;00m(\u001b[38;5;124m\"\u001b[39m\u001b[38;5;124mTorch not compiled with CUDA enabled\u001b[39m\u001b[38;5;124m\"\u001b[39m)\n\u001b[1;32m    311\u001b[0m \u001b[38;5;28;01mif\u001b[39;00m _cudart \u001b[38;5;129;01mis\u001b[39;00m \u001b[38;5;28;01mNone\u001b[39;00m:\n\u001b[1;32m    312\u001b[0m     \u001b[38;5;28;01mraise\u001b[39;00m \u001b[38;5;167;01mAssertionError\u001b[39;00m(\n\u001b[1;32m    313\u001b[0m         \u001b[38;5;124m\"\u001b[39m\u001b[38;5;124mlibcudart functions unavailable. It looks like you have a broken build?\u001b[39m\u001b[38;5;124m\"\u001b[39m\n\u001b[1;32m    314\u001b[0m     )\n",
      "\u001b[0;31mAssertionError\u001b[0m: Torch not compiled with CUDA enabled"
     ]
    }
   ],
   "source": [
    "device = torch.device('cuda:0' if torch.cuda.is_available() else 'cpu')\n",
    "print(device, torch.cuda.get_device_name())"
   ]
  },
  {
   "cell_type": "code",
   "execution_count": 3,
   "metadata": {},
   "outputs": [],
   "source": [
    "# FloatTensor = torch.cuda.FloatTensor\n",
    "# LongTensor = torch.cuda.LongTensor\n",
    "\n",
    "FloatTensor = torch.FloatTensor\n",
    "LongTensor = torch.LongTensor"
   ]
  },
  {
   "cell_type": "code",
   "execution_count": null,
   "metadata": {},
   "outputs": [],
   "source": []
  },
  {
   "cell_type": "code",
   "execution_count": null,
   "metadata": {},
   "outputs": [],
   "source": [
    "import kagglehub"
   ]
  },
  {
   "cell_type": "code",
   "execution_count": 4,
   "metadata": {},
   "outputs": [],
   "source": [
    "import pandas as pd"
   ]
  },
  {
   "cell_type": "code",
   "execution_count": 5,
   "metadata": {},
   "outputs": [
    {
     "name": "stdout",
     "output_type": "stream",
     "text": [
      "Warning: Looks like you're using an outdated `kagglehub` version, please consider updating (latest version: 0.3.10)\n",
      "Downloading from https://www.kaggle.com/api/v1/datasets/download/johnsmith88/heart-disease-dataset?dataset_version_number=2...\n"
     ]
    },
    {
     "name": "stderr",
     "output_type": "stream",
     "text": [
      "100%|█████████████████████████████████████████████████████████████████████████████| 6.18k/6.18k [00:00<00:00, 6.32MB/s]"
     ]
    },
    {
     "name": "stdout",
     "output_type": "stream",
     "text": [
      "Extracting model files...\n",
      "Path to dataset files: C:\\Users\\Илья\\.cache\\kagglehub\\datasets\\johnsmith88\\heart-disease-dataset\\versions\\2\n"
     ]
    },
    {
     "name": "stderr",
     "output_type": "stream",
     "text": [
      "\n"
     ]
    }
   ],
   "source": [
    "path = kagglehub.dataset_download(\"johnsmith88/heart-disease-dataset\")\n",
    "\n",
    "print(\"Path to dataset files:\", path)"
   ]
  },
  {
   "cell_type": "code",
   "execution_count": 10,
   "metadata": {},
   "outputs": [],
   "source": [
    "df = pd.read_csv('data/heart.csv')"
   ]
  },
  {
   "cell_type": "code",
   "execution_count": 11,
   "metadata": {},
   "outputs": [
    {
     "data": {
      "text/html": [
       "<div>\n",
       "<style scoped>\n",
       "    .dataframe tbody tr th:only-of-type {\n",
       "        vertical-align: middle;\n",
       "    }\n",
       "\n",
       "    .dataframe tbody tr th {\n",
       "        vertical-align: top;\n",
       "    }\n",
       "\n",
       "    .dataframe thead th {\n",
       "        text-align: right;\n",
       "    }\n",
       "</style>\n",
       "<table border=\"1\" class=\"dataframe\">\n",
       "  <thead>\n",
       "    <tr style=\"text-align: right;\">\n",
       "      <th></th>\n",
       "      <th>age</th>\n",
       "      <th>sex</th>\n",
       "      <th>cp</th>\n",
       "      <th>trestbps</th>\n",
       "      <th>chol</th>\n",
       "      <th>fbs</th>\n",
       "      <th>restecg</th>\n",
       "      <th>thalach</th>\n",
       "      <th>exang</th>\n",
       "      <th>oldpeak</th>\n",
       "      <th>slope</th>\n",
       "      <th>ca</th>\n",
       "      <th>thal</th>\n",
       "      <th>target</th>\n",
       "    </tr>\n",
       "  </thead>\n",
       "  <tbody>\n",
       "    <tr>\n",
       "      <th>0</th>\n",
       "      <td>52</td>\n",
       "      <td>1</td>\n",
       "      <td>0</td>\n",
       "      <td>125</td>\n",
       "      <td>212</td>\n",
       "      <td>0</td>\n",
       "      <td>1</td>\n",
       "      <td>168</td>\n",
       "      <td>0</td>\n",
       "      <td>1.0</td>\n",
       "      <td>2</td>\n",
       "      <td>2</td>\n",
       "      <td>3</td>\n",
       "      <td>0</td>\n",
       "    </tr>\n",
       "    <tr>\n",
       "      <th>1</th>\n",
       "      <td>53</td>\n",
       "      <td>1</td>\n",
       "      <td>0</td>\n",
       "      <td>140</td>\n",
       "      <td>203</td>\n",
       "      <td>1</td>\n",
       "      <td>0</td>\n",
       "      <td>155</td>\n",
       "      <td>1</td>\n",
       "      <td>3.1</td>\n",
       "      <td>0</td>\n",
       "      <td>0</td>\n",
       "      <td>3</td>\n",
       "      <td>0</td>\n",
       "    </tr>\n",
       "    <tr>\n",
       "      <th>2</th>\n",
       "      <td>70</td>\n",
       "      <td>1</td>\n",
       "      <td>0</td>\n",
       "      <td>145</td>\n",
       "      <td>174</td>\n",
       "      <td>0</td>\n",
       "      <td>1</td>\n",
       "      <td>125</td>\n",
       "      <td>1</td>\n",
       "      <td>2.6</td>\n",
       "      <td>0</td>\n",
       "      <td>0</td>\n",
       "      <td>3</td>\n",
       "      <td>0</td>\n",
       "    </tr>\n",
       "    <tr>\n",
       "      <th>3</th>\n",
       "      <td>61</td>\n",
       "      <td>1</td>\n",
       "      <td>0</td>\n",
       "      <td>148</td>\n",
       "      <td>203</td>\n",
       "      <td>0</td>\n",
       "      <td>1</td>\n",
       "      <td>161</td>\n",
       "      <td>0</td>\n",
       "      <td>0.0</td>\n",
       "      <td>2</td>\n",
       "      <td>1</td>\n",
       "      <td>3</td>\n",
       "      <td>0</td>\n",
       "    </tr>\n",
       "    <tr>\n",
       "      <th>4</th>\n",
       "      <td>62</td>\n",
       "      <td>0</td>\n",
       "      <td>0</td>\n",
       "      <td>138</td>\n",
       "      <td>294</td>\n",
       "      <td>1</td>\n",
       "      <td>1</td>\n",
       "      <td>106</td>\n",
       "      <td>0</td>\n",
       "      <td>1.9</td>\n",
       "      <td>1</td>\n",
       "      <td>3</td>\n",
       "      <td>2</td>\n",
       "      <td>0</td>\n",
       "    </tr>\n",
       "    <tr>\n",
       "      <th>...</th>\n",
       "      <td>...</td>\n",
       "      <td>...</td>\n",
       "      <td>...</td>\n",
       "      <td>...</td>\n",
       "      <td>...</td>\n",
       "      <td>...</td>\n",
       "      <td>...</td>\n",
       "      <td>...</td>\n",
       "      <td>...</td>\n",
       "      <td>...</td>\n",
       "      <td>...</td>\n",
       "      <td>...</td>\n",
       "      <td>...</td>\n",
       "      <td>...</td>\n",
       "    </tr>\n",
       "    <tr>\n",
       "      <th>1020</th>\n",
       "      <td>59</td>\n",
       "      <td>1</td>\n",
       "      <td>1</td>\n",
       "      <td>140</td>\n",
       "      <td>221</td>\n",
       "      <td>0</td>\n",
       "      <td>1</td>\n",
       "      <td>164</td>\n",
       "      <td>1</td>\n",
       "      <td>0.0</td>\n",
       "      <td>2</td>\n",
       "      <td>0</td>\n",
       "      <td>2</td>\n",
       "      <td>1</td>\n",
       "    </tr>\n",
       "    <tr>\n",
       "      <th>1021</th>\n",
       "      <td>60</td>\n",
       "      <td>1</td>\n",
       "      <td>0</td>\n",
       "      <td>125</td>\n",
       "      <td>258</td>\n",
       "      <td>0</td>\n",
       "      <td>0</td>\n",
       "      <td>141</td>\n",
       "      <td>1</td>\n",
       "      <td>2.8</td>\n",
       "      <td>1</td>\n",
       "      <td>1</td>\n",
       "      <td>3</td>\n",
       "      <td>0</td>\n",
       "    </tr>\n",
       "    <tr>\n",
       "      <th>1022</th>\n",
       "      <td>47</td>\n",
       "      <td>1</td>\n",
       "      <td>0</td>\n",
       "      <td>110</td>\n",
       "      <td>275</td>\n",
       "      <td>0</td>\n",
       "      <td>0</td>\n",
       "      <td>118</td>\n",
       "      <td>1</td>\n",
       "      <td>1.0</td>\n",
       "      <td>1</td>\n",
       "      <td>1</td>\n",
       "      <td>2</td>\n",
       "      <td>0</td>\n",
       "    </tr>\n",
       "    <tr>\n",
       "      <th>1023</th>\n",
       "      <td>50</td>\n",
       "      <td>0</td>\n",
       "      <td>0</td>\n",
       "      <td>110</td>\n",
       "      <td>254</td>\n",
       "      <td>0</td>\n",
       "      <td>0</td>\n",
       "      <td>159</td>\n",
       "      <td>0</td>\n",
       "      <td>0.0</td>\n",
       "      <td>2</td>\n",
       "      <td>0</td>\n",
       "      <td>2</td>\n",
       "      <td>1</td>\n",
       "    </tr>\n",
       "    <tr>\n",
       "      <th>1024</th>\n",
       "      <td>54</td>\n",
       "      <td>1</td>\n",
       "      <td>0</td>\n",
       "      <td>120</td>\n",
       "      <td>188</td>\n",
       "      <td>0</td>\n",
       "      <td>1</td>\n",
       "      <td>113</td>\n",
       "      <td>0</td>\n",
       "      <td>1.4</td>\n",
       "      <td>1</td>\n",
       "      <td>1</td>\n",
       "      <td>3</td>\n",
       "      <td>0</td>\n",
       "    </tr>\n",
       "  </tbody>\n",
       "</table>\n",
       "<p>1025 rows × 14 columns</p>\n",
       "</div>"
      ],
      "text/plain": [
       "      age  sex  cp  trestbps  chol  fbs  restecg  thalach  exang  oldpeak  \\\n",
       "0      52    1   0       125   212    0        1      168      0      1.0   \n",
       "1      53    1   0       140   203    1        0      155      1      3.1   \n",
       "2      70    1   0       145   174    0        1      125      1      2.6   \n",
       "3      61    1   0       148   203    0        1      161      0      0.0   \n",
       "4      62    0   0       138   294    1        1      106      0      1.9   \n",
       "...   ...  ...  ..       ...   ...  ...      ...      ...    ...      ...   \n",
       "1020   59    1   1       140   221    0        1      164      1      0.0   \n",
       "1021   60    1   0       125   258    0        0      141      1      2.8   \n",
       "1022   47    1   0       110   275    0        0      118      1      1.0   \n",
       "1023   50    0   0       110   254    0        0      159      0      0.0   \n",
       "1024   54    1   0       120   188    0        1      113      0      1.4   \n",
       "\n",
       "      slope  ca  thal  target  \n",
       "0         2   2     3       0  \n",
       "1         0   0     3       0  \n",
       "2         0   0     3       0  \n",
       "3         2   1     3       0  \n",
       "4         1   3     2       0  \n",
       "...     ...  ..   ...     ...  \n",
       "1020      2   0     2       1  \n",
       "1021      1   1     3       0  \n",
       "1022      1   1     2       0  \n",
       "1023      2   0     2       1  \n",
       "1024      1   1     3       0  \n",
       "\n",
       "[1025 rows x 14 columns]"
      ]
     },
     "execution_count": 11,
     "metadata": {},
     "output_type": "execute_result"
    }
   ],
   "source": [
    "df"
   ]
  },
  {
   "cell_type": "code",
   "execution_count": 19,
   "metadata": {},
   "outputs": [
    {
     "data": {
      "text/plain": [
       "(1025, 13)"
      ]
     },
     "execution_count": 19,
     "metadata": {},
     "output_type": "execute_result"
    }
   ],
   "source": [
    "X = df.loc[:, df.columns != 'target'].to_numpy()\n",
    "X.shape"
   ]
  },
  {
   "cell_type": "code",
   "execution_count": 21,
   "metadata": {},
   "outputs": [
    {
     "data": {
      "text/plain": [
       "(1025,)"
      ]
     },
     "execution_count": 21,
     "metadata": {},
     "output_type": "execute_result"
    }
   ],
   "source": [
    "y = df.loc[:, df.columns == 'target'].to_numpy().flatten()\n",
    "y.shape"
   ]
  },
  {
   "cell_type": "code",
   "execution_count": null,
   "metadata": {},
   "outputs": [],
   "source": []
  },
  {
   "cell_type": "code",
   "execution_count": 22,
   "metadata": {},
   "outputs": [
    {
     "data": {
      "text/html": [
       "<div>\n",
       "<style scoped>\n",
       "    .dataframe tbody tr th:only-of-type {\n",
       "        vertical-align: middle;\n",
       "    }\n",
       "\n",
       "    .dataframe tbody tr th {\n",
       "        vertical-align: top;\n",
       "    }\n",
       "\n",
       "    .dataframe thead th {\n",
       "        text-align: right;\n",
       "    }\n",
       "</style>\n",
       "<table border=\"1\" class=\"dataframe\">\n",
       "  <thead>\n",
       "    <tr style=\"text-align: right;\">\n",
       "      <th></th>\n",
       "      <th>PassengerId</th>\n",
       "      <th>Survived</th>\n",
       "      <th>Pclass</th>\n",
       "      <th>Name</th>\n",
       "      <th>Sex</th>\n",
       "      <th>Age</th>\n",
       "      <th>SibSp</th>\n",
       "      <th>Parch</th>\n",
       "      <th>Ticket</th>\n",
       "      <th>Fare</th>\n",
       "      <th>Cabin</th>\n",
       "      <th>Embarked</th>\n",
       "    </tr>\n",
       "  </thead>\n",
       "  <tbody>\n",
       "    <tr>\n",
       "      <th>0</th>\n",
       "      <td>1</td>\n",
       "      <td>0</td>\n",
       "      <td>3</td>\n",
       "      <td>Braund, Mr. Owen Harris</td>\n",
       "      <td>male</td>\n",
       "      <td>22.0</td>\n",
       "      <td>1</td>\n",
       "      <td>0</td>\n",
       "      <td>A/5 21171</td>\n",
       "      <td>7.2500</td>\n",
       "      <td>NaN</td>\n",
       "      <td>S</td>\n",
       "    </tr>\n",
       "    <tr>\n",
       "      <th>1</th>\n",
       "      <td>2</td>\n",
       "      <td>1</td>\n",
       "      <td>1</td>\n",
       "      <td>Cumings, Mrs. John Bradley (Florence Briggs Th...</td>\n",
       "      <td>female</td>\n",
       "      <td>38.0</td>\n",
       "      <td>1</td>\n",
       "      <td>0</td>\n",
       "      <td>PC 17599</td>\n",
       "      <td>71.2833</td>\n",
       "      <td>C85</td>\n",
       "      <td>C</td>\n",
       "    </tr>\n",
       "    <tr>\n",
       "      <th>2</th>\n",
       "      <td>3</td>\n",
       "      <td>1</td>\n",
       "      <td>3</td>\n",
       "      <td>Heikkinen, Miss. Laina</td>\n",
       "      <td>female</td>\n",
       "      <td>26.0</td>\n",
       "      <td>0</td>\n",
       "      <td>0</td>\n",
       "      <td>STON/O2. 3101282</td>\n",
       "      <td>7.9250</td>\n",
       "      <td>NaN</td>\n",
       "      <td>S</td>\n",
       "    </tr>\n",
       "    <tr>\n",
       "      <th>3</th>\n",
       "      <td>4</td>\n",
       "      <td>1</td>\n",
       "      <td>1</td>\n",
       "      <td>Futrelle, Mrs. Jacques Heath (Lily May Peel)</td>\n",
       "      <td>female</td>\n",
       "      <td>35.0</td>\n",
       "      <td>1</td>\n",
       "      <td>0</td>\n",
       "      <td>113803</td>\n",
       "      <td>53.1000</td>\n",
       "      <td>C123</td>\n",
       "      <td>S</td>\n",
       "    </tr>\n",
       "    <tr>\n",
       "      <th>4</th>\n",
       "      <td>5</td>\n",
       "      <td>0</td>\n",
       "      <td>3</td>\n",
       "      <td>Allen, Mr. William Henry</td>\n",
       "      <td>male</td>\n",
       "      <td>35.0</td>\n",
       "      <td>0</td>\n",
       "      <td>0</td>\n",
       "      <td>373450</td>\n",
       "      <td>8.0500</td>\n",
       "      <td>NaN</td>\n",
       "      <td>S</td>\n",
       "    </tr>\n",
       "  </tbody>\n",
       "</table>\n",
       "</div>"
      ],
      "text/plain": [
       "   PassengerId  Survived  Pclass  \\\n",
       "0            1         0       3   \n",
       "1            2         1       1   \n",
       "2            3         1       3   \n",
       "3            4         1       1   \n",
       "4            5         0       3   \n",
       "\n",
       "                                                Name     Sex   Age  SibSp  \\\n",
       "0                            Braund, Mr. Owen Harris    male  22.0      1   \n",
       "1  Cumings, Mrs. John Bradley (Florence Briggs Th...  female  38.0      1   \n",
       "2                             Heikkinen, Miss. Laina  female  26.0      0   \n",
       "3       Futrelle, Mrs. Jacques Heath (Lily May Peel)  female  35.0      1   \n",
       "4                           Allen, Mr. William Henry    male  35.0      0   \n",
       "\n",
       "   Parch            Ticket     Fare Cabin Embarked  \n",
       "0      0         A/5 21171   7.2500   NaN        S  \n",
       "1      0          PC 17599  71.2833   C85        C  \n",
       "2      0  STON/O2. 3101282   7.9250   NaN        S  \n",
       "3      0            113803  53.1000  C123        S  \n",
       "4      0            373450   8.0500   NaN        S  "
      ]
     },
     "execution_count": 22,
     "metadata": {},
     "output_type": "execute_result"
    }
   ],
   "source": [
    "train_data = pd.read_csv(\"data/titanic/train.csv\")\n",
    "train_data.head()"
   ]
  },
  {
   "cell_type": "code",
   "execution_count": 27,
   "metadata": {},
   "outputs": [
    {
     "data": {
      "text/html": [
       "<div>\n",
       "<style scoped>\n",
       "    .dataframe tbody tr th:only-of-type {\n",
       "        vertical-align: middle;\n",
       "    }\n",
       "\n",
       "    .dataframe tbody tr th {\n",
       "        vertical-align: top;\n",
       "    }\n",
       "\n",
       "    .dataframe thead th {\n",
       "        text-align: right;\n",
       "    }\n",
       "</style>\n",
       "<table border=\"1\" class=\"dataframe\">\n",
       "  <thead>\n",
       "    <tr style=\"text-align: right;\">\n",
       "      <th></th>\n",
       "      <th>PassengerId</th>\n",
       "      <th>Survived</th>\n",
       "      <th>Pclass</th>\n",
       "      <th>Name</th>\n",
       "      <th>Sex</th>\n",
       "      <th>Age</th>\n",
       "      <th>SibSp</th>\n",
       "      <th>Parch</th>\n",
       "      <th>Ticket</th>\n",
       "      <th>Fare</th>\n",
       "      <th>Cabin</th>\n",
       "      <th>Embarked</th>\n",
       "    </tr>\n",
       "  </thead>\n",
       "  <tbody>\n",
       "    <tr>\n",
       "      <th>0</th>\n",
       "      <td>1</td>\n",
       "      <td>0</td>\n",
       "      <td>3</td>\n",
       "      <td>Braund, Mr. Owen Harris</td>\n",
       "      <td>male</td>\n",
       "      <td>22.0</td>\n",
       "      <td>1</td>\n",
       "      <td>0</td>\n",
       "      <td>A/5 21171</td>\n",
       "      <td>7.2500</td>\n",
       "      <td>NaN</td>\n",
       "      <td>S</td>\n",
       "    </tr>\n",
       "    <tr>\n",
       "      <th>1</th>\n",
       "      <td>2</td>\n",
       "      <td>1</td>\n",
       "      <td>1</td>\n",
       "      <td>Cumings, Mrs. John Bradley (Florence Briggs Th...</td>\n",
       "      <td>female</td>\n",
       "      <td>38.0</td>\n",
       "      <td>1</td>\n",
       "      <td>0</td>\n",
       "      <td>PC 17599</td>\n",
       "      <td>71.2833</td>\n",
       "      <td>C85</td>\n",
       "      <td>C</td>\n",
       "    </tr>\n",
       "    <tr>\n",
       "      <th>2</th>\n",
       "      <td>3</td>\n",
       "      <td>1</td>\n",
       "      <td>3</td>\n",
       "      <td>Heikkinen, Miss. Laina</td>\n",
       "      <td>female</td>\n",
       "      <td>26.0</td>\n",
       "      <td>0</td>\n",
       "      <td>0</td>\n",
       "      <td>STON/O2. 3101282</td>\n",
       "      <td>7.9250</td>\n",
       "      <td>NaN</td>\n",
       "      <td>S</td>\n",
       "    </tr>\n",
       "    <tr>\n",
       "      <th>3</th>\n",
       "      <td>4</td>\n",
       "      <td>1</td>\n",
       "      <td>1</td>\n",
       "      <td>Futrelle, Mrs. Jacques Heath (Lily May Peel)</td>\n",
       "      <td>female</td>\n",
       "      <td>35.0</td>\n",
       "      <td>1</td>\n",
       "      <td>0</td>\n",
       "      <td>113803</td>\n",
       "      <td>53.1000</td>\n",
       "      <td>C123</td>\n",
       "      <td>S</td>\n",
       "    </tr>\n",
       "    <tr>\n",
       "      <th>4</th>\n",
       "      <td>5</td>\n",
       "      <td>0</td>\n",
       "      <td>3</td>\n",
       "      <td>Allen, Mr. William Henry</td>\n",
       "      <td>male</td>\n",
       "      <td>35.0</td>\n",
       "      <td>0</td>\n",
       "      <td>0</td>\n",
       "      <td>373450</td>\n",
       "      <td>8.0500</td>\n",
       "      <td>NaN</td>\n",
       "      <td>S</td>\n",
       "    </tr>\n",
       "    <tr>\n",
       "      <th>...</th>\n",
       "      <td>...</td>\n",
       "      <td>...</td>\n",
       "      <td>...</td>\n",
       "      <td>...</td>\n",
       "      <td>...</td>\n",
       "      <td>...</td>\n",
       "      <td>...</td>\n",
       "      <td>...</td>\n",
       "      <td>...</td>\n",
       "      <td>...</td>\n",
       "      <td>...</td>\n",
       "      <td>...</td>\n",
       "    </tr>\n",
       "    <tr>\n",
       "      <th>886</th>\n",
       "      <td>887</td>\n",
       "      <td>0</td>\n",
       "      <td>2</td>\n",
       "      <td>Montvila, Rev. Juozas</td>\n",
       "      <td>male</td>\n",
       "      <td>27.0</td>\n",
       "      <td>0</td>\n",
       "      <td>0</td>\n",
       "      <td>211536</td>\n",
       "      <td>13.0000</td>\n",
       "      <td>NaN</td>\n",
       "      <td>S</td>\n",
       "    </tr>\n",
       "    <tr>\n",
       "      <th>887</th>\n",
       "      <td>888</td>\n",
       "      <td>1</td>\n",
       "      <td>1</td>\n",
       "      <td>Graham, Miss. Margaret Edith</td>\n",
       "      <td>female</td>\n",
       "      <td>19.0</td>\n",
       "      <td>0</td>\n",
       "      <td>0</td>\n",
       "      <td>112053</td>\n",
       "      <td>30.0000</td>\n",
       "      <td>B42</td>\n",
       "      <td>S</td>\n",
       "    </tr>\n",
       "    <tr>\n",
       "      <th>888</th>\n",
       "      <td>889</td>\n",
       "      <td>0</td>\n",
       "      <td>3</td>\n",
       "      <td>Johnston, Miss. Catherine Helen \"Carrie\"</td>\n",
       "      <td>female</td>\n",
       "      <td>NaN</td>\n",
       "      <td>1</td>\n",
       "      <td>2</td>\n",
       "      <td>W./C. 6607</td>\n",
       "      <td>23.4500</td>\n",
       "      <td>NaN</td>\n",
       "      <td>S</td>\n",
       "    </tr>\n",
       "    <tr>\n",
       "      <th>889</th>\n",
       "      <td>890</td>\n",
       "      <td>1</td>\n",
       "      <td>1</td>\n",
       "      <td>Behr, Mr. Karl Howell</td>\n",
       "      <td>male</td>\n",
       "      <td>26.0</td>\n",
       "      <td>0</td>\n",
       "      <td>0</td>\n",
       "      <td>111369</td>\n",
       "      <td>30.0000</td>\n",
       "      <td>C148</td>\n",
       "      <td>C</td>\n",
       "    </tr>\n",
       "    <tr>\n",
       "      <th>890</th>\n",
       "      <td>891</td>\n",
       "      <td>0</td>\n",
       "      <td>3</td>\n",
       "      <td>Dooley, Mr. Patrick</td>\n",
       "      <td>male</td>\n",
       "      <td>32.0</td>\n",
       "      <td>0</td>\n",
       "      <td>0</td>\n",
       "      <td>370376</td>\n",
       "      <td>7.7500</td>\n",
       "      <td>NaN</td>\n",
       "      <td>Q</td>\n",
       "    </tr>\n",
       "  </tbody>\n",
       "</table>\n",
       "<p>891 rows × 12 columns</p>\n",
       "</div>"
      ],
      "text/plain": [
       "     PassengerId  Survived  Pclass  \\\n",
       "0              1         0       3   \n",
       "1              2         1       1   \n",
       "2              3         1       3   \n",
       "3              4         1       1   \n",
       "4              5         0       3   \n",
       "..           ...       ...     ...   \n",
       "886          887         0       2   \n",
       "887          888         1       1   \n",
       "888          889         0       3   \n",
       "889          890         1       1   \n",
       "890          891         0       3   \n",
       "\n",
       "                                                  Name     Sex   Age  SibSp  \\\n",
       "0                              Braund, Mr. Owen Harris    male  22.0      1   \n",
       "1    Cumings, Mrs. John Bradley (Florence Briggs Th...  female  38.0      1   \n",
       "2                               Heikkinen, Miss. Laina  female  26.0      0   \n",
       "3         Futrelle, Mrs. Jacques Heath (Lily May Peel)  female  35.0      1   \n",
       "4                             Allen, Mr. William Henry    male  35.0      0   \n",
       "..                                                 ...     ...   ...    ...   \n",
       "886                              Montvila, Rev. Juozas    male  27.0      0   \n",
       "887                       Graham, Miss. Margaret Edith  female  19.0      0   \n",
       "888           Johnston, Miss. Catherine Helen \"Carrie\"  female   NaN      1   \n",
       "889                              Behr, Mr. Karl Howell    male  26.0      0   \n",
       "890                                Dooley, Mr. Patrick    male  32.0      0   \n",
       "\n",
       "     Parch            Ticket     Fare Cabin Embarked  \n",
       "0        0         A/5 21171   7.2500   NaN        S  \n",
       "1        0          PC 17599  71.2833   C85        C  \n",
       "2        0  STON/O2. 3101282   7.9250   NaN        S  \n",
       "3        0            113803  53.1000  C123        S  \n",
       "4        0            373450   8.0500   NaN        S  \n",
       "..     ...               ...      ...   ...      ...  \n",
       "886      0            211536  13.0000   NaN        S  \n",
       "887      0            112053  30.0000   B42        S  \n",
       "888      2        W./C. 6607  23.4500   NaN        S  \n",
       "889      0            111369  30.0000  C148        C  \n",
       "890      0            370376   7.7500   NaN        Q  \n",
       "\n",
       "[891 rows x 12 columns]"
      ]
     },
     "execution_count": 27,
     "metadata": {},
     "output_type": "execute_result"
    }
   ],
   "source": [
    "train_data"
   ]
  },
  {
   "cell_type": "code",
   "execution_count": 23,
   "metadata": {},
   "outputs": [
    {
     "data": {
      "text/html": [
       "<div>\n",
       "<style scoped>\n",
       "    .dataframe tbody tr th:only-of-type {\n",
       "        vertical-align: middle;\n",
       "    }\n",
       "\n",
       "    .dataframe tbody tr th {\n",
       "        vertical-align: top;\n",
       "    }\n",
       "\n",
       "    .dataframe thead th {\n",
       "        text-align: right;\n",
       "    }\n",
       "</style>\n",
       "<table border=\"1\" class=\"dataframe\">\n",
       "  <thead>\n",
       "    <tr style=\"text-align: right;\">\n",
       "      <th></th>\n",
       "      <th>PassengerId</th>\n",
       "      <th>Survived</th>\n",
       "      <th>Pclass</th>\n",
       "      <th>Name</th>\n",
       "      <th>Sex</th>\n",
       "      <th>Age</th>\n",
       "      <th>SibSp</th>\n",
       "      <th>Parch</th>\n",
       "      <th>Ticket</th>\n",
       "      <th>Fare</th>\n",
       "      <th>Cabin</th>\n",
       "      <th>Embarked</th>\n",
       "    </tr>\n",
       "  </thead>\n",
       "  <tbody>\n",
       "    <tr>\n",
       "      <th>0</th>\n",
       "      <td>1</td>\n",
       "      <td>0</td>\n",
       "      <td>3</td>\n",
       "      <td>Braund, Mr. Owen Harris</td>\n",
       "      <td>male</td>\n",
       "      <td>22.0</td>\n",
       "      <td>1</td>\n",
       "      <td>0</td>\n",
       "      <td>A/5 21171</td>\n",
       "      <td>7.2500</td>\n",
       "      <td>NaN</td>\n",
       "      <td>S</td>\n",
       "    </tr>\n",
       "    <tr>\n",
       "      <th>1</th>\n",
       "      <td>2</td>\n",
       "      <td>1</td>\n",
       "      <td>1</td>\n",
       "      <td>Cumings, Mrs. John Bradley (Florence Briggs Th...</td>\n",
       "      <td>female</td>\n",
       "      <td>38.0</td>\n",
       "      <td>1</td>\n",
       "      <td>0</td>\n",
       "      <td>PC 17599</td>\n",
       "      <td>71.2833</td>\n",
       "      <td>C85</td>\n",
       "      <td>C</td>\n",
       "    </tr>\n",
       "    <tr>\n",
       "      <th>2</th>\n",
       "      <td>3</td>\n",
       "      <td>1</td>\n",
       "      <td>3</td>\n",
       "      <td>Heikkinen, Miss. Laina</td>\n",
       "      <td>female</td>\n",
       "      <td>26.0</td>\n",
       "      <td>0</td>\n",
       "      <td>0</td>\n",
       "      <td>STON/O2. 3101282</td>\n",
       "      <td>7.9250</td>\n",
       "      <td>NaN</td>\n",
       "      <td>S</td>\n",
       "    </tr>\n",
       "    <tr>\n",
       "      <th>3</th>\n",
       "      <td>4</td>\n",
       "      <td>1</td>\n",
       "      <td>1</td>\n",
       "      <td>Futrelle, Mrs. Jacques Heath (Lily May Peel)</td>\n",
       "      <td>female</td>\n",
       "      <td>35.0</td>\n",
       "      <td>1</td>\n",
       "      <td>0</td>\n",
       "      <td>113803</td>\n",
       "      <td>53.1000</td>\n",
       "      <td>C123</td>\n",
       "      <td>S</td>\n",
       "    </tr>\n",
       "    <tr>\n",
       "      <th>4</th>\n",
       "      <td>5</td>\n",
       "      <td>0</td>\n",
       "      <td>3</td>\n",
       "      <td>Allen, Mr. William Henry</td>\n",
       "      <td>male</td>\n",
       "      <td>35.0</td>\n",
       "      <td>0</td>\n",
       "      <td>0</td>\n",
       "      <td>373450</td>\n",
       "      <td>8.0500</td>\n",
       "      <td>NaN</td>\n",
       "      <td>S</td>\n",
       "    </tr>\n",
       "  </tbody>\n",
       "</table>\n",
       "</div>"
      ],
      "text/plain": [
       "   PassengerId  Survived  Pclass  \\\n",
       "0            1         0       3   \n",
       "1            2         1       1   \n",
       "2            3         1       3   \n",
       "3            4         1       1   \n",
       "4            5         0       3   \n",
       "\n",
       "                                                Name     Sex   Age  SibSp  \\\n",
       "0                            Braund, Mr. Owen Harris    male  22.0      1   \n",
       "1  Cumings, Mrs. John Bradley (Florence Briggs Th...  female  38.0      1   \n",
       "2                             Heikkinen, Miss. Laina  female  26.0      0   \n",
       "3       Futrelle, Mrs. Jacques Heath (Lily May Peel)  female  35.0      1   \n",
       "4                           Allen, Mr. William Henry    male  35.0      0   \n",
       "\n",
       "   Parch            Ticket     Fare Cabin Embarked  \n",
       "0      0         A/5 21171   7.2500   NaN        S  \n",
       "1      0          PC 17599  71.2833   C85        C  \n",
       "2      0  STON/O2. 3101282   7.9250   NaN        S  \n",
       "3      0            113803  53.1000  C123        S  \n",
       "4      0            373450   8.0500   NaN        S  "
      ]
     },
     "execution_count": 23,
     "metadata": {},
     "output_type": "execute_result"
    }
   ],
   "source": [
    "test_data = pd.read_csv(\"data/titanic/train.csv\")\n",
    "test_data.head()"
   ]
  },
  {
   "cell_type": "code",
   "execution_count": 24,
   "metadata": {},
   "outputs": [
    {
     "name": "stdout",
     "output_type": "stream",
     "text": [
      "% of women who survived: 0.7420382165605095\n"
     ]
    }
   ],
   "source": [
    "women = train_data.loc[train_data.Sex == 'female'][\"Survived\"]\n",
    "rate_women = sum(women)/len(women)\n",
    "\n",
    "print(\"% of women who survived:\", rate_women)"
   ]
  },
  {
   "cell_type": "code",
   "execution_count": 25,
   "metadata": {},
   "outputs": [
    {
     "name": "stdout",
     "output_type": "stream",
     "text": [
      "% of men who survived: 0.18890814558058924\n"
     ]
    }
   ],
   "source": [
    "men = train_data.loc[train_data.Sex == 'male'][\"Survived\"]\n",
    "rate_men = sum(men)/len(men)\n",
    "\n",
    "print(\"% of men who survived:\", rate_men)"
   ]
  },
  {
   "cell_type": "code",
   "execution_count": 26,
   "metadata": {},
   "outputs": [
    {
     "data": {
      "text/plain": [
       "(891,)"
      ]
     },
     "execution_count": 26,
     "metadata": {},
     "output_type": "execute_result"
    }
   ],
   "source": [
    "y = train_data[\"Survived\"]\n",
    "y.shape"
   ]
  },
  {
   "cell_type": "code",
   "execution_count": 32,
   "metadata": {},
   "outputs": [
    {
     "data": {
      "text/html": [
       "<div>\n",
       "<style scoped>\n",
       "    .dataframe tbody tr th:only-of-type {\n",
       "        vertical-align: middle;\n",
       "    }\n",
       "\n",
       "    .dataframe tbody tr th {\n",
       "        vertical-align: top;\n",
       "    }\n",
       "\n",
       "    .dataframe thead th {\n",
       "        text-align: right;\n",
       "    }\n",
       "</style>\n",
       "<table border=\"1\" class=\"dataframe\">\n",
       "  <thead>\n",
       "    <tr style=\"text-align: right;\">\n",
       "      <th></th>\n",
       "      <th>PassengerId</th>\n",
       "      <th>Pclass</th>\n",
       "      <th>Name</th>\n",
       "      <th>Sex</th>\n",
       "      <th>Age</th>\n",
       "      <th>SibSp</th>\n",
       "      <th>Parch</th>\n",
       "      <th>Ticket</th>\n",
       "      <th>Fare</th>\n",
       "      <th>Cabin</th>\n",
       "      <th>Embarked</th>\n",
       "    </tr>\n",
       "  </thead>\n",
       "  <tbody>\n",
       "    <tr>\n",
       "      <th>0</th>\n",
       "      <td>1</td>\n",
       "      <td>3</td>\n",
       "      <td>Braund, Mr. Owen Harris</td>\n",
       "      <td>male</td>\n",
       "      <td>22.0</td>\n",
       "      <td>1</td>\n",
       "      <td>0</td>\n",
       "      <td>A/5 21171</td>\n",
       "      <td>7.2500</td>\n",
       "      <td>NaN</td>\n",
       "      <td>S</td>\n",
       "    </tr>\n",
       "    <tr>\n",
       "      <th>1</th>\n",
       "      <td>2</td>\n",
       "      <td>1</td>\n",
       "      <td>Cumings, Mrs. John Bradley (Florence Briggs Th...</td>\n",
       "      <td>female</td>\n",
       "      <td>38.0</td>\n",
       "      <td>1</td>\n",
       "      <td>0</td>\n",
       "      <td>PC 17599</td>\n",
       "      <td>71.2833</td>\n",
       "      <td>C85</td>\n",
       "      <td>C</td>\n",
       "    </tr>\n",
       "    <tr>\n",
       "      <th>2</th>\n",
       "      <td>3</td>\n",
       "      <td>3</td>\n",
       "      <td>Heikkinen, Miss. Laina</td>\n",
       "      <td>female</td>\n",
       "      <td>26.0</td>\n",
       "      <td>0</td>\n",
       "      <td>0</td>\n",
       "      <td>STON/O2. 3101282</td>\n",
       "      <td>7.9250</td>\n",
       "      <td>NaN</td>\n",
       "      <td>S</td>\n",
       "    </tr>\n",
       "    <tr>\n",
       "      <th>3</th>\n",
       "      <td>4</td>\n",
       "      <td>1</td>\n",
       "      <td>Futrelle, Mrs. Jacques Heath (Lily May Peel)</td>\n",
       "      <td>female</td>\n",
       "      <td>35.0</td>\n",
       "      <td>1</td>\n",
       "      <td>0</td>\n",
       "      <td>113803</td>\n",
       "      <td>53.1000</td>\n",
       "      <td>C123</td>\n",
       "      <td>S</td>\n",
       "    </tr>\n",
       "    <tr>\n",
       "      <th>4</th>\n",
       "      <td>5</td>\n",
       "      <td>3</td>\n",
       "      <td>Allen, Mr. William Henry</td>\n",
       "      <td>male</td>\n",
       "      <td>35.0</td>\n",
       "      <td>0</td>\n",
       "      <td>0</td>\n",
       "      <td>373450</td>\n",
       "      <td>8.0500</td>\n",
       "      <td>NaN</td>\n",
       "      <td>S</td>\n",
       "    </tr>\n",
       "    <tr>\n",
       "      <th>...</th>\n",
       "      <td>...</td>\n",
       "      <td>...</td>\n",
       "      <td>...</td>\n",
       "      <td>...</td>\n",
       "      <td>...</td>\n",
       "      <td>...</td>\n",
       "      <td>...</td>\n",
       "      <td>...</td>\n",
       "      <td>...</td>\n",
       "      <td>...</td>\n",
       "      <td>...</td>\n",
       "    </tr>\n",
       "    <tr>\n",
       "      <th>886</th>\n",
       "      <td>887</td>\n",
       "      <td>2</td>\n",
       "      <td>Montvila, Rev. Juozas</td>\n",
       "      <td>male</td>\n",
       "      <td>27.0</td>\n",
       "      <td>0</td>\n",
       "      <td>0</td>\n",
       "      <td>211536</td>\n",
       "      <td>13.0000</td>\n",
       "      <td>NaN</td>\n",
       "      <td>S</td>\n",
       "    </tr>\n",
       "    <tr>\n",
       "      <th>887</th>\n",
       "      <td>888</td>\n",
       "      <td>1</td>\n",
       "      <td>Graham, Miss. Margaret Edith</td>\n",
       "      <td>female</td>\n",
       "      <td>19.0</td>\n",
       "      <td>0</td>\n",
       "      <td>0</td>\n",
       "      <td>112053</td>\n",
       "      <td>30.0000</td>\n",
       "      <td>B42</td>\n",
       "      <td>S</td>\n",
       "    </tr>\n",
       "    <tr>\n",
       "      <th>888</th>\n",
       "      <td>889</td>\n",
       "      <td>3</td>\n",
       "      <td>Johnston, Miss. Catherine Helen \"Carrie\"</td>\n",
       "      <td>female</td>\n",
       "      <td>NaN</td>\n",
       "      <td>1</td>\n",
       "      <td>2</td>\n",
       "      <td>W./C. 6607</td>\n",
       "      <td>23.4500</td>\n",
       "      <td>NaN</td>\n",
       "      <td>S</td>\n",
       "    </tr>\n",
       "    <tr>\n",
       "      <th>889</th>\n",
       "      <td>890</td>\n",
       "      <td>1</td>\n",
       "      <td>Behr, Mr. Karl Howell</td>\n",
       "      <td>male</td>\n",
       "      <td>26.0</td>\n",
       "      <td>0</td>\n",
       "      <td>0</td>\n",
       "      <td>111369</td>\n",
       "      <td>30.0000</td>\n",
       "      <td>C148</td>\n",
       "      <td>C</td>\n",
       "    </tr>\n",
       "    <tr>\n",
       "      <th>890</th>\n",
       "      <td>891</td>\n",
       "      <td>3</td>\n",
       "      <td>Dooley, Mr. Patrick</td>\n",
       "      <td>male</td>\n",
       "      <td>32.0</td>\n",
       "      <td>0</td>\n",
       "      <td>0</td>\n",
       "      <td>370376</td>\n",
       "      <td>7.7500</td>\n",
       "      <td>NaN</td>\n",
       "      <td>Q</td>\n",
       "    </tr>\n",
       "  </tbody>\n",
       "</table>\n",
       "<p>891 rows × 11 columns</p>\n",
       "</div>"
      ],
      "text/plain": [
       "     PassengerId  Pclass                                               Name  \\\n",
       "0              1       3                            Braund, Mr. Owen Harris   \n",
       "1              2       1  Cumings, Mrs. John Bradley (Florence Briggs Th...   \n",
       "2              3       3                             Heikkinen, Miss. Laina   \n",
       "3              4       1       Futrelle, Mrs. Jacques Heath (Lily May Peel)   \n",
       "4              5       3                           Allen, Mr. William Henry   \n",
       "..           ...     ...                                                ...   \n",
       "886          887       2                              Montvila, Rev. Juozas   \n",
       "887          888       1                       Graham, Miss. Margaret Edith   \n",
       "888          889       3           Johnston, Miss. Catherine Helen \"Carrie\"   \n",
       "889          890       1                              Behr, Mr. Karl Howell   \n",
       "890          891       3                                Dooley, Mr. Patrick   \n",
       "\n",
       "        Sex   Age  SibSp  Parch            Ticket     Fare Cabin Embarked  \n",
       "0      male  22.0      1      0         A/5 21171   7.2500   NaN        S  \n",
       "1    female  38.0      1      0          PC 17599  71.2833   C85        C  \n",
       "2    female  26.0      0      0  STON/O2. 3101282   7.9250   NaN        S  \n",
       "3    female  35.0      1      0            113803  53.1000  C123        S  \n",
       "4      male  35.0      0      0            373450   8.0500   NaN        S  \n",
       "..      ...   ...    ...    ...               ...      ...   ...      ...  \n",
       "886    male  27.0      0      0            211536  13.0000   NaN        S  \n",
       "887  female  19.0      0      0            112053  30.0000   B42        S  \n",
       "888  female   NaN      1      2        W./C. 6607  23.4500   NaN        S  \n",
       "889    male  26.0      0      0            111369  30.0000  C148        C  \n",
       "890    male  32.0      0      0            370376   7.7500   NaN        Q  \n",
       "\n",
       "[891 rows x 11 columns]"
      ]
     },
     "execution_count": 32,
     "metadata": {},
     "output_type": "execute_result"
    }
   ],
   "source": [
    "X = train_data.loc[:, train_data.columns != 'Survived']\n",
    "X"
   ]
  },
  {
   "cell_type": "code",
   "execution_count": 34,
   "metadata": {},
   "outputs": [
    {
     "data": {
      "text/html": [
       "<div>\n",
       "<style scoped>\n",
       "    .dataframe tbody tr th:only-of-type {\n",
       "        vertical-align: middle;\n",
       "    }\n",
       "\n",
       "    .dataframe tbody tr th {\n",
       "        vertical-align: top;\n",
       "    }\n",
       "\n",
       "    .dataframe thead th {\n",
       "        text-align: right;\n",
       "    }\n",
       "</style>\n",
       "<table border=\"1\" class=\"dataframe\">\n",
       "  <thead>\n",
       "    <tr style=\"text-align: right;\">\n",
       "      <th></th>\n",
       "      <th>Pclass</th>\n",
       "      <th>Sex</th>\n",
       "      <th>Age</th>\n",
       "      <th>SibSp</th>\n",
       "      <th>Parch</th>\n",
       "      <th>Fare</th>\n",
       "    </tr>\n",
       "  </thead>\n",
       "  <tbody>\n",
       "    <tr>\n",
       "      <th>0</th>\n",
       "      <td>3</td>\n",
       "      <td>male</td>\n",
       "      <td>22.0</td>\n",
       "      <td>1</td>\n",
       "      <td>0</td>\n",
       "      <td>7.2500</td>\n",
       "    </tr>\n",
       "    <tr>\n",
       "      <th>1</th>\n",
       "      <td>1</td>\n",
       "      <td>female</td>\n",
       "      <td>38.0</td>\n",
       "      <td>1</td>\n",
       "      <td>0</td>\n",
       "      <td>71.2833</td>\n",
       "    </tr>\n",
       "    <tr>\n",
       "      <th>2</th>\n",
       "      <td>3</td>\n",
       "      <td>female</td>\n",
       "      <td>26.0</td>\n",
       "      <td>0</td>\n",
       "      <td>0</td>\n",
       "      <td>7.9250</td>\n",
       "    </tr>\n",
       "    <tr>\n",
       "      <th>3</th>\n",
       "      <td>1</td>\n",
       "      <td>female</td>\n",
       "      <td>35.0</td>\n",
       "      <td>1</td>\n",
       "      <td>0</td>\n",
       "      <td>53.1000</td>\n",
       "    </tr>\n",
       "    <tr>\n",
       "      <th>4</th>\n",
       "      <td>3</td>\n",
       "      <td>male</td>\n",
       "      <td>35.0</td>\n",
       "      <td>0</td>\n",
       "      <td>0</td>\n",
       "      <td>8.0500</td>\n",
       "    </tr>\n",
       "    <tr>\n",
       "      <th>...</th>\n",
       "      <td>...</td>\n",
       "      <td>...</td>\n",
       "      <td>...</td>\n",
       "      <td>...</td>\n",
       "      <td>...</td>\n",
       "      <td>...</td>\n",
       "    </tr>\n",
       "    <tr>\n",
       "      <th>886</th>\n",
       "      <td>2</td>\n",
       "      <td>male</td>\n",
       "      <td>27.0</td>\n",
       "      <td>0</td>\n",
       "      <td>0</td>\n",
       "      <td>13.0000</td>\n",
       "    </tr>\n",
       "    <tr>\n",
       "      <th>887</th>\n",
       "      <td>1</td>\n",
       "      <td>female</td>\n",
       "      <td>19.0</td>\n",
       "      <td>0</td>\n",
       "      <td>0</td>\n",
       "      <td>30.0000</td>\n",
       "    </tr>\n",
       "    <tr>\n",
       "      <th>888</th>\n",
       "      <td>3</td>\n",
       "      <td>female</td>\n",
       "      <td>NaN</td>\n",
       "      <td>1</td>\n",
       "      <td>2</td>\n",
       "      <td>23.4500</td>\n",
       "    </tr>\n",
       "    <tr>\n",
       "      <th>889</th>\n",
       "      <td>1</td>\n",
       "      <td>male</td>\n",
       "      <td>26.0</td>\n",
       "      <td>0</td>\n",
       "      <td>0</td>\n",
       "      <td>30.0000</td>\n",
       "    </tr>\n",
       "    <tr>\n",
       "      <th>890</th>\n",
       "      <td>3</td>\n",
       "      <td>male</td>\n",
       "      <td>32.0</td>\n",
       "      <td>0</td>\n",
       "      <td>0</td>\n",
       "      <td>7.7500</td>\n",
       "    </tr>\n",
       "  </tbody>\n",
       "</table>\n",
       "<p>891 rows × 6 columns</p>\n",
       "</div>"
      ],
      "text/plain": [
       "     Pclass     Sex   Age  SibSp  Parch     Fare\n",
       "0         3    male  22.0      1      0   7.2500\n",
       "1         1  female  38.0      1      0  71.2833\n",
       "2         3  female  26.0      0      0   7.9250\n",
       "3         1  female  35.0      1      0  53.1000\n",
       "4         3    male  35.0      0      0   8.0500\n",
       "..      ...     ...   ...    ...    ...      ...\n",
       "886       2    male  27.0      0      0  13.0000\n",
       "887       1  female  19.0      0      0  30.0000\n",
       "888       3  female   NaN      1      2  23.4500\n",
       "889       1    male  26.0      0      0  30.0000\n",
       "890       3    male  32.0      0      0   7.7500\n",
       "\n",
       "[891 rows x 6 columns]"
      ]
     },
     "execution_count": 34,
     "metadata": {},
     "output_type": "execute_result"
    }
   ],
   "source": [
    "X = X.drop(['PassengerId', 'Name', 'Ticket', 'Cabin', 'Embarked'], axis=1)\n",
    "X"
   ]
  },
  {
   "cell_type": "code",
   "execution_count": 35,
   "metadata": {},
   "outputs": [
    {
     "data": {
      "text/html": [
       "<div>\n",
       "<style scoped>\n",
       "    .dataframe tbody tr th:only-of-type {\n",
       "        vertical-align: middle;\n",
       "    }\n",
       "\n",
       "    .dataframe tbody tr th {\n",
       "        vertical-align: top;\n",
       "    }\n",
       "\n",
       "    .dataframe thead th {\n",
       "        text-align: right;\n",
       "    }\n",
       "</style>\n",
       "<table border=\"1\" class=\"dataframe\">\n",
       "  <thead>\n",
       "    <tr style=\"text-align: right;\">\n",
       "      <th></th>\n",
       "      <th>Sex_female</th>\n",
       "      <th>Sex_male</th>\n",
       "    </tr>\n",
       "  </thead>\n",
       "  <tbody>\n",
       "    <tr>\n",
       "      <th>0</th>\n",
       "      <td>0</td>\n",
       "      <td>1</td>\n",
       "    </tr>\n",
       "    <tr>\n",
       "      <th>1</th>\n",
       "      <td>1</td>\n",
       "      <td>0</td>\n",
       "    </tr>\n",
       "    <tr>\n",
       "      <th>2</th>\n",
       "      <td>1</td>\n",
       "      <td>0</td>\n",
       "    </tr>\n",
       "    <tr>\n",
       "      <th>3</th>\n",
       "      <td>1</td>\n",
       "      <td>0</td>\n",
       "    </tr>\n",
       "    <tr>\n",
       "      <th>4</th>\n",
       "      <td>0</td>\n",
       "      <td>1</td>\n",
       "    </tr>\n",
       "    <tr>\n",
       "      <th>...</th>\n",
       "      <td>...</td>\n",
       "      <td>...</td>\n",
       "    </tr>\n",
       "    <tr>\n",
       "      <th>886</th>\n",
       "      <td>0</td>\n",
       "      <td>1</td>\n",
       "    </tr>\n",
       "    <tr>\n",
       "      <th>887</th>\n",
       "      <td>1</td>\n",
       "      <td>0</td>\n",
       "    </tr>\n",
       "    <tr>\n",
       "      <th>888</th>\n",
       "      <td>1</td>\n",
       "      <td>0</td>\n",
       "    </tr>\n",
       "    <tr>\n",
       "      <th>889</th>\n",
       "      <td>0</td>\n",
       "      <td>1</td>\n",
       "    </tr>\n",
       "    <tr>\n",
       "      <th>890</th>\n",
       "      <td>0</td>\n",
       "      <td>1</td>\n",
       "    </tr>\n",
       "  </tbody>\n",
       "</table>\n",
       "<p>891 rows × 2 columns</p>\n",
       "</div>"
      ],
      "text/plain": [
       "     Sex_female  Sex_male\n",
       "0             0         1\n",
       "1             1         0\n",
       "2             1         0\n",
       "3             1         0\n",
       "4             0         1\n",
       "..          ...       ...\n",
       "886           0         1\n",
       "887           1         0\n",
       "888           1         0\n",
       "889           0         1\n",
       "890           0         1\n",
       "\n",
       "[891 rows x 2 columns]"
      ]
     },
     "execution_count": 35,
     "metadata": {},
     "output_type": "execute_result"
    }
   ],
   "source": [
    "features = ['Sex']\n",
    "X_dummies = pd.get_dummies(X[features])\n",
    "X_test_dummies = pd.get_dummies(test_data[features])\n",
    "X_dummies"
   ]
  },
  {
   "cell_type": "code",
   "execution_count": 36,
   "metadata": {},
   "outputs": [
    {
     "data": {
      "text/html": [
       "<div>\n",
       "<style scoped>\n",
       "    .dataframe tbody tr th:only-of-type {\n",
       "        vertical-align: middle;\n",
       "    }\n",
       "\n",
       "    .dataframe tbody tr th {\n",
       "        vertical-align: top;\n",
       "    }\n",
       "\n",
       "    .dataframe thead th {\n",
       "        text-align: right;\n",
       "    }\n",
       "</style>\n",
       "<table border=\"1\" class=\"dataframe\">\n",
       "  <thead>\n",
       "    <tr style=\"text-align: right;\">\n",
       "      <th></th>\n",
       "      <th>Pclass</th>\n",
       "      <th>Age</th>\n",
       "      <th>SibSp</th>\n",
       "      <th>Parch</th>\n",
       "      <th>Fare</th>\n",
       "      <th>Sex_female</th>\n",
       "      <th>Sex_male</th>\n",
       "    </tr>\n",
       "  </thead>\n",
       "  <tbody>\n",
       "    <tr>\n",
       "      <th>0</th>\n",
       "      <td>3</td>\n",
       "      <td>22.0</td>\n",
       "      <td>1</td>\n",
       "      <td>0</td>\n",
       "      <td>7.2500</td>\n",
       "      <td>0</td>\n",
       "      <td>1</td>\n",
       "    </tr>\n",
       "    <tr>\n",
       "      <th>1</th>\n",
       "      <td>1</td>\n",
       "      <td>38.0</td>\n",
       "      <td>1</td>\n",
       "      <td>0</td>\n",
       "      <td>71.2833</td>\n",
       "      <td>1</td>\n",
       "      <td>0</td>\n",
       "    </tr>\n",
       "    <tr>\n",
       "      <th>2</th>\n",
       "      <td>3</td>\n",
       "      <td>26.0</td>\n",
       "      <td>0</td>\n",
       "      <td>0</td>\n",
       "      <td>7.9250</td>\n",
       "      <td>1</td>\n",
       "      <td>0</td>\n",
       "    </tr>\n",
       "    <tr>\n",
       "      <th>3</th>\n",
       "      <td>1</td>\n",
       "      <td>35.0</td>\n",
       "      <td>1</td>\n",
       "      <td>0</td>\n",
       "      <td>53.1000</td>\n",
       "      <td>1</td>\n",
       "      <td>0</td>\n",
       "    </tr>\n",
       "    <tr>\n",
       "      <th>4</th>\n",
       "      <td>3</td>\n",
       "      <td>35.0</td>\n",
       "      <td>0</td>\n",
       "      <td>0</td>\n",
       "      <td>8.0500</td>\n",
       "      <td>0</td>\n",
       "      <td>1</td>\n",
       "    </tr>\n",
       "    <tr>\n",
       "      <th>...</th>\n",
       "      <td>...</td>\n",
       "      <td>...</td>\n",
       "      <td>...</td>\n",
       "      <td>...</td>\n",
       "      <td>...</td>\n",
       "      <td>...</td>\n",
       "      <td>...</td>\n",
       "    </tr>\n",
       "    <tr>\n",
       "      <th>886</th>\n",
       "      <td>2</td>\n",
       "      <td>27.0</td>\n",
       "      <td>0</td>\n",
       "      <td>0</td>\n",
       "      <td>13.0000</td>\n",
       "      <td>0</td>\n",
       "      <td>1</td>\n",
       "    </tr>\n",
       "    <tr>\n",
       "      <th>887</th>\n",
       "      <td>1</td>\n",
       "      <td>19.0</td>\n",
       "      <td>0</td>\n",
       "      <td>0</td>\n",
       "      <td>30.0000</td>\n",
       "      <td>1</td>\n",
       "      <td>0</td>\n",
       "    </tr>\n",
       "    <tr>\n",
       "      <th>888</th>\n",
       "      <td>3</td>\n",
       "      <td>NaN</td>\n",
       "      <td>1</td>\n",
       "      <td>2</td>\n",
       "      <td>23.4500</td>\n",
       "      <td>1</td>\n",
       "      <td>0</td>\n",
       "    </tr>\n",
       "    <tr>\n",
       "      <th>889</th>\n",
       "      <td>1</td>\n",
       "      <td>26.0</td>\n",
       "      <td>0</td>\n",
       "      <td>0</td>\n",
       "      <td>30.0000</td>\n",
       "      <td>0</td>\n",
       "      <td>1</td>\n",
       "    </tr>\n",
       "    <tr>\n",
       "      <th>890</th>\n",
       "      <td>3</td>\n",
       "      <td>32.0</td>\n",
       "      <td>0</td>\n",
       "      <td>0</td>\n",
       "      <td>7.7500</td>\n",
       "      <td>0</td>\n",
       "      <td>1</td>\n",
       "    </tr>\n",
       "  </tbody>\n",
       "</table>\n",
       "<p>891 rows × 7 columns</p>\n",
       "</div>"
      ],
      "text/plain": [
       "     Pclass   Age  SibSp  Parch     Fare  Sex_female  Sex_male\n",
       "0         3  22.0      1      0   7.2500           0         1\n",
       "1         1  38.0      1      0  71.2833           1         0\n",
       "2         3  26.0      0      0   7.9250           1         0\n",
       "3         1  35.0      1      0  53.1000           1         0\n",
       "4         3  35.0      0      0   8.0500           0         1\n",
       "..      ...   ...    ...    ...      ...         ...       ...\n",
       "886       2  27.0      0      0  13.0000           0         1\n",
       "887       1  19.0      0      0  30.0000           1         0\n",
       "888       3   NaN      1      2  23.4500           1         0\n",
       "889       1  26.0      0      0  30.0000           0         1\n",
       "890       3  32.0      0      0   7.7500           0         1\n",
       "\n",
       "[891 rows x 7 columns]"
      ]
     },
     "execution_count": 36,
     "metadata": {},
     "output_type": "execute_result"
    }
   ],
   "source": [
    "X = X.drop(features, axis=1)\n",
    "X['Sex_female'] = X_dummies['Sex_female']\n",
    "X['Sex_male'] = X_dummies['Sex_male']\n",
    "X"
   ]
  },
  {
   "cell_type": "code",
   "execution_count": 37,
   "metadata": {},
   "outputs": [
    {
     "data": {
      "text/plain": [
       "(891, 7)"
      ]
     },
     "execution_count": 37,
     "metadata": {},
     "output_type": "execute_result"
    }
   ],
   "source": [
    "X = X.to_numpy()\n",
    "X.shape"
   ]
  },
  {
   "cell_type": "code",
   "execution_count": null,
   "metadata": {},
   "outputs": [],
   "source": []
  },
  {
   "cell_type": "code",
   "execution_count": 391,
   "metadata": {},
   "outputs": [
    {
     "data": {
      "text/plain": [
       "{'data': array([[2.596e+03, 5.100e+01, 3.000e+00, ..., 0.000e+00, 0.000e+00,\n",
       "         0.000e+00],\n",
       "        [2.590e+03, 5.600e+01, 2.000e+00, ..., 0.000e+00, 0.000e+00,\n",
       "         0.000e+00],\n",
       "        [2.804e+03, 1.390e+02, 9.000e+00, ..., 0.000e+00, 0.000e+00,\n",
       "         0.000e+00],\n",
       "        ...,\n",
       "        [2.386e+03, 1.590e+02, 1.700e+01, ..., 0.000e+00, 0.000e+00,\n",
       "         0.000e+00],\n",
       "        [2.384e+03, 1.700e+02, 1.500e+01, ..., 0.000e+00, 0.000e+00,\n",
       "         0.000e+00],\n",
       "        [2.383e+03, 1.650e+02, 1.300e+01, ..., 0.000e+00, 0.000e+00,\n",
       "         0.000e+00]]),\n",
       " 'target': array([5, 5, 2, ..., 3, 3, 3]),\n",
       " 'frame': None,\n",
       " 'target_names': ['Cover_Type'],\n",
       " 'feature_names': ['Elevation',\n",
       "  'Aspect',\n",
       "  'Slope',\n",
       "  'Horizontal_Distance_To_Hydrology',\n",
       "  'Vertical_Distance_To_Hydrology',\n",
       "  'Horizontal_Distance_To_Roadways',\n",
       "  'Hillshade_9am',\n",
       "  'Hillshade_Noon',\n",
       "  'Hillshade_3pm',\n",
       "  'Horizontal_Distance_To_Fire_Points',\n",
       "  'Wilderness_Area_0',\n",
       "  'Wilderness_Area_1',\n",
       "  'Wilderness_Area_2',\n",
       "  'Wilderness_Area_3',\n",
       "  'Soil_Type_0',\n",
       "  'Soil_Type_1',\n",
       "  'Soil_Type_2',\n",
       "  'Soil_Type_3',\n",
       "  'Soil_Type_4',\n",
       "  'Soil_Type_5',\n",
       "  'Soil_Type_6',\n",
       "  'Soil_Type_7',\n",
       "  'Soil_Type_8',\n",
       "  'Soil_Type_9',\n",
       "  'Soil_Type_10',\n",
       "  'Soil_Type_11',\n",
       "  'Soil_Type_12',\n",
       "  'Soil_Type_13',\n",
       "  'Soil_Type_14',\n",
       "  'Soil_Type_15',\n",
       "  'Soil_Type_16',\n",
       "  'Soil_Type_17',\n",
       "  'Soil_Type_18',\n",
       "  'Soil_Type_19',\n",
       "  'Soil_Type_20',\n",
       "  'Soil_Type_21',\n",
       "  'Soil_Type_22',\n",
       "  'Soil_Type_23',\n",
       "  'Soil_Type_24',\n",
       "  'Soil_Type_25',\n",
       "  'Soil_Type_26',\n",
       "  'Soil_Type_27',\n",
       "  'Soil_Type_28',\n",
       "  'Soil_Type_29',\n",
       "  'Soil_Type_30',\n",
       "  'Soil_Type_31',\n",
       "  'Soil_Type_32',\n",
       "  'Soil_Type_33',\n",
       "  'Soil_Type_34',\n",
       "  'Soil_Type_35',\n",
       "  'Soil_Type_36',\n",
       "  'Soil_Type_37',\n",
       "  'Soil_Type_38',\n",
       "  'Soil_Type_39'],\n",
       " 'DESCR': \".. _covtype_dataset:\\n\\nForest covertypes\\n-----------------\\n\\nThe samples in this dataset correspond to 30Г—30m patches of forest in the US,\\ncollected for the task of predicting each patch's cover type,\\ni.e. the dominant species of tree.\\nThere are seven covertypes, making this a multiclass classification problem.\\nEach sample has 54 features, described on the\\n`dataset's homepage <https://archive.ics.uci.edu/ml/datasets/Covertype>`__.\\nSome of the features are boolean indicators,\\nwhile others are discrete or continuous measurements.\\n\\n**Data Set Characteristics:**\\n\\n    =================   ============\\n    Classes                        7\\n    Samples total             581012\\n    Dimensionality                54\\n    Features                     int\\n    =================   ============\\n\\n:func:`sklearn.datasets.fetch_covtype` will load the covertype dataset;\\nit returns a dictionary-like 'Bunch' object\\nwith the feature matrix in the ``data`` member\\nand the target values in ``target``. If optional argument 'as_frame' is\\nset to 'True', it will return ``data`` and ``target`` as pandas\\ndata frame, and there will be an additional member ``frame`` as well.\\nThe dataset will be downloaded from the web if necessary.\\n\"}"
      ]
     },
     "execution_count": 391,
     "metadata": {},
     "output_type": "execute_result"
    }
   ],
   "source": [
    "dataset = datasets.fetch_covtype()\n",
    "dataset"
   ]
  },
  {
   "cell_type": "code",
   "execution_count": 392,
   "metadata": {},
   "outputs": [
    {
     "data": {
      "text/plain": [
       "(581012, 54)"
      ]
     },
     "execution_count": 392,
     "metadata": {},
     "output_type": "execute_result"
    }
   ],
   "source": [
    "X = dataset['data']\n",
    "X.shape"
   ]
  },
  {
   "cell_type": "code",
   "execution_count": 393,
   "metadata": {},
   "outputs": [
    {
     "data": {
      "text/plain": [
       "(581012,)"
      ]
     },
     "execution_count": 393,
     "metadata": {},
     "output_type": "execute_result"
    }
   ],
   "source": [
    "y = dataset['target']\n",
    "y.shape"
   ]
  },
  {
   "cell_type": "code",
   "execution_count": 394,
   "metadata": {},
   "outputs": [],
   "source": [
    "X_train, X_test, y_train, y_test = train_test_split(X, y, test_size=0.33, random_state=42)\n",
    "X_train = X_train[:389000, ...]\n",
    "y_train = y_train[:389000]"
   ]
  },
  {
   "cell_type": "code",
   "execution_count": 395,
   "metadata": {},
   "outputs": [
    {
     "data": {
      "text/plain": [
       "((389000, 54), (389000,))"
      ]
     },
     "execution_count": 395,
     "metadata": {},
     "output_type": "execute_result"
    }
   ],
   "source": [
    "X_train.shape, y_train.shape"
   ]
  },
  {
   "cell_type": "code",
   "execution_count": 396,
   "metadata": {},
   "outputs": [
    {
     "data": {
      "text/plain": [
       "((191734, 54), (191734,))"
      ]
     },
     "execution_count": 396,
     "metadata": {},
     "output_type": "execute_result"
    }
   ],
   "source": [
    "X_test.shape, y_test.shape"
   ]
  },
  {
   "cell_type": "code",
   "execution_count": null,
   "metadata": {},
   "outputs": [],
   "source": []
  },
  {
   "cell_type": "code",
   "execution_count": null,
   "metadata": {},
   "outputs": [],
   "source": []
  },
  {
   "cell_type": "markdown",
   "metadata": {},
   "source": [
    "# Common"
   ]
  },
  {
   "cell_type": "code",
   "execution_count": 61,
   "metadata": {},
   "outputs": [],
   "source": [
    "from collections import Counter\n",
    "from tqdm import tqdm"
   ]
  },
  {
   "cell_type": "code",
   "execution_count": 24,
   "metadata": {},
   "outputs": [],
   "source": [
    "def make_dict(X, y):\n",
    "    result = dict()\n",
    "    for i in range(y.shape[0]):\n",
    "        target = y[i].item()\n",
    "        data = X[i]\n",
    "        if result.get(target) is None:\n",
    "            result[target] = torch.unsqueeze(data, 0)\n",
    "        else:\n",
    "            result[target] = torch.cat((result.get(target), torch.unsqueeze(data, 0)))\n",
    "    return result"
   ]
  },
  {
   "cell_type": "code",
   "execution_count": 25,
   "metadata": {},
   "outputs": [],
   "source": [
    "def get_mean_distances(test_emb, train_dict):\n",
    "    res = []\n",
    "    for key in range(10):\n",
    "        res.append((((train_dict[key] - test_emb) ** 2).sum(axis=1)).mean())\n",
    "    return np.array(res)"
   ]
  },
  {
   "cell_type": "code",
   "execution_count": 26,
   "metadata": {},
   "outputs": [],
   "source": [
    "def predict_nc(test_embeddings, train_dict):\n",
    "    pred_labels = []\n",
    "    for test_emb in test_embeddings:\n",
    "        pred_labels.append(np.argmin(get_mean_distances(test_emb, train_dict)))\n",
    "    return np.array(pred_labels)"
   ]
  },
  {
   "cell_type": "code",
   "execution_count": null,
   "metadata": {},
   "outputs": [],
   "source": []
  },
  {
   "cell_type": "code",
   "execution_count": 57,
   "metadata": {},
   "outputs": [],
   "source": [
    "def get_knn_labels(test_emb, train_dict, k):\n",
    "    train_embeddings = []\n",
    "    train_labels = []\n",
    "    for key, val in train_dict.items():\n",
    "        for train_emb in val:\n",
    "            train_embeddings.append(train_emb)\n",
    "            train_labels.append(key)\n",
    "    train_embeddings = np.stack(train_embeddings, axis=0)\n",
    "    train_labels = np.array(train_labels)\n",
    "    distances = ((train_embeddings - test_emb.numpy()) ** 2).sum(axis=1)\n",
    "    sorted_labels = train_labels[np.argsort(distances)]\n",
    "    return sorted_labels[:k]"
   ]
  },
  {
   "cell_type": "code",
   "execution_count": 59,
   "metadata": {},
   "outputs": [],
   "source": [
    "def predict_knn(test_embeddings, train_dict, k=3):\n",
    "    pred_labels = []\n",
    "    for test_emb in tqdm(test_embeddings):\n",
    "        nearest_labels = get_knn_labels(test_emb, train_dict, k)\n",
    "        pred_labels.append(Counter(nearest_labels).most_common(1)[0][0])\n",
    "    return np.array(pred_labels)"
   ]
  },
  {
   "cell_type": "code",
   "execution_count": null,
   "metadata": {},
   "outputs": [],
   "source": []
  },
  {
   "cell_type": "code",
   "execution_count": 29,
   "metadata": {},
   "outputs": [],
   "source": [
    "def calculate_accuracy(pred_labels, y_test):\n",
    "    return (pred_labels == y_test).sum() / y_test.shape[0]"
   ]
  },
  {
   "cell_type": "code",
   "execution_count": null,
   "metadata": {},
   "outputs": [],
   "source": []
  },
  {
   "cell_type": "markdown",
   "metadata": {},
   "source": [
    "# Not Siamese network"
   ]
  },
  {
   "cell_type": "code",
   "execution_count": 277,
   "metadata": {},
   "outputs": [],
   "source": [
    "# train_data = torchvision.datasets.MNIST(root='./data/', train=True, download=True)\n",
    "# test_data = torchvision.datasets.MNIST(root='./data/', train=False, download=True)"
   ]
  },
  {
   "cell_type": "code",
   "execution_count": 343,
   "metadata": {},
   "outputs": [],
   "source": [
    "# train_data = torchvision.datasets.FashionMNIST(root='./data/', train=True, download=True)\n",
    "# test_data = torchvision.datasets.FashionMNIST(root='./data/', train=False, download=True)"
   ]
  },
  {
   "cell_type": "code",
   "execution_count": 410,
   "metadata": {},
   "outputs": [],
   "source": [
    "train_data = torchvision.datasets.KMNIST(root='./data/', train=True, download=True)\n",
    "test_data = torchvision.datasets.KMNIST(root='./data/', train=False, download=True)"
   ]
  },
  {
   "cell_type": "code",
   "execution_count": 411,
   "metadata": {},
   "outputs": [],
   "source": [
    "X_train = train_data.data.reshape(60000, 784)\n",
    "y_train = train_data.targets\n",
    "X_test = test_data.data.reshape(10000, 784)\n",
    "y_test = test_data.targets"
   ]
  },
  {
   "cell_type": "code",
   "execution_count": 412,
   "metadata": {},
   "outputs": [],
   "source": [
    "batch_size = 100\n",
    "train = torch.utils.data.dataset.TensorDataset(X_train, y_train)\n",
    "train_loader = torch.utils.data.DataLoader(train, batch_size=batch_size, shuffle=True)"
   ]
  },
  {
   "cell_type": "code",
   "execution_count": 455,
   "metadata": {},
   "outputs": [],
   "source": [
    "net = torch.nn.Sequential(\n",
    "        nn.Linear(784, 512),\n",
    "        nn.PReLU(512),\n",
    "        nn.BatchNorm1d(512),\n",
    "        nn.Linear(512, 512),\n",
    "        nn.PReLU(512),\n",
    "        nn.BatchNorm1d(512),\n",
    "        nn.Linear(512, 10)\n",
    ")\n",
    "\n",
    "net = net.type(FloatTensor)"
   ]
  },
  {
   "cell_type": "code",
   "execution_count": 456,
   "metadata": {},
   "outputs": [],
   "source": [
    "params = net.parameters()\n",
    "optimizer = torch.optim.Adam(params=params, lr=0.001)\n",
    "criterion = nn.CrossEntropyLoss()"
   ]
  },
  {
   "cell_type": "code",
   "execution_count": 457,
   "metadata": {},
   "outputs": [
    {
     "name": "stdout",
     "output_type": "stream",
     "text": [
      "Epoch: 0\n",
      "Epoch: 1\n",
      "Epoch: 2\n",
      "Epoch: 3\n",
      "Epoch: 4\n"
     ]
    }
   ],
   "source": [
    "net.train()\n",
    "epochs = 5\n",
    "\n",
    "for i in range(epochs):\n",
    "    print(f'Epoch: {i}')\n",
    "    for j, (images, labels) in enumerate(train_loader):\n",
    "        images = Variable(images.type(FloatTensor))\n",
    "        labels = Variable(labels).type(LongTensor)\n",
    "\n",
    "        net.zero_grad()\n",
    "        optimizer.zero_grad()\n",
    "        \n",
    "        outputs = net(images)\n",
    "        loss = criterion(outputs, labels)\n",
    "        loss.backward()\n",
    "        optimizer.step()"
   ]
  },
  {
   "cell_type": "code",
   "execution_count": 458,
   "metadata": {},
   "outputs": [
    {
     "data": {
      "text/plain": [
       "Sequential(\n",
       "  (0): Linear(in_features=784, out_features=512, bias=True)\n",
       "  (1): PReLU(num_parameters=512)\n",
       "  (2): BatchNorm1d(512, eps=1e-05, momentum=0.1, affine=True, track_running_stats=True)\n",
       "  (3): Linear(in_features=512, out_features=512, bias=True)\n",
       "  (4): PReLU(num_parameters=512)\n",
       "  (5): BatchNorm1d(512, eps=1e-05, momentum=0.1, affine=True, track_running_stats=True)\n",
       "  (6): Linear(in_features=512, out_features=10, bias=True)\n",
       ")"
      ]
     },
     "execution_count": 458,
     "metadata": {},
     "output_type": "execute_result"
    }
   ],
   "source": [
    "net.eval()"
   ]
  },
  {
   "cell_type": "code",
   "execution_count": 459,
   "metadata": {},
   "outputs": [
    {
     "name": "stderr",
     "output_type": "stream",
     "text": [
      "/var/folders/tt/_dxmbtvs2hg3dvltgsw9jfcsb99qpj/T/ipykernel_22513/1988231417.py:1: UserWarning: To copy construct from a tensor, it is recommended to use sourceTensor.clone().detach() or sourceTensor.clone().detach().requires_grad_(True), rather than torch.tensor(sourceTensor).\n",
      "  X_test = torch.tensor(X_test).type(FloatTensor)\n"
     ]
    }
   ],
   "source": [
    "X_test = torch.tensor(X_test).type(FloatTensor)\n",
    "pred_proba_test = net(X_test).cpu().detach()"
   ]
  },
  {
   "cell_type": "code",
   "execution_count": 460,
   "metadata": {},
   "outputs": [],
   "source": [
    "pred_test = np.argmax(pred_proba_test, axis=1)"
   ]
  },
  {
   "cell_type": "code",
   "execution_count": 461,
   "metadata": {},
   "outputs": [
    {
     "data": {
      "text/plain": [
       "tensor(0.9099)"
      ]
     },
     "execution_count": 461,
     "metadata": {},
     "output_type": "execute_result"
    }
   ],
   "source": [
    "calculate_accuracy(pred_test, y_test)"
   ]
  },
  {
   "cell_type": "code",
   "execution_count": null,
   "metadata": {},
   "outputs": [],
   "source": []
  },
  {
   "cell_type": "markdown",
   "metadata": {},
   "source": [
    "MNIST: 0.9725\n",
    "\n",
    "FashionMNIST: 0.8663\n",
    "\n",
    "KMNIST: 0.9099"
   ]
  },
  {
   "cell_type": "code",
   "execution_count": null,
   "metadata": {},
   "outputs": [],
   "source": []
  },
  {
   "cell_type": "markdown",
   "metadata": {},
   "source": [
    "# Contrastive Loss"
   ]
  },
  {
   "cell_type": "code",
   "execution_count": 1127,
   "metadata": {},
   "outputs": [],
   "source": [
    "def make_pairs(data, labels, num=1000, p=0.5):\n",
    "    digits = {}\n",
    "    for i, j in enumerate(labels):\n",
    "        if not j.item() in digits:\n",
    "            digits[j.item()] = []\n",
    "        digits[j.item()].append(i)\n",
    "    \n",
    "    pairs, labels_ = [], []\n",
    "    for i in range(num):\n",
    "        if np.random.rand() > p: # same digit\n",
    "            digit = np.random.choice(range(0, 10))\n",
    "            d1, d2 = np.random.choice(digits[digit], size=2, replace=False)\n",
    "            labels_.append(1)\n",
    "        else:\n",
    "            digit1, digit2 = np.random.choice(range(1, 8), size=2, replace=False)\n",
    "            d1, d2 = np.random.choice(digits[digit1]), np.random.choice(digits[digit2])\n",
    "            labels_.append(0)\n",
    "        pairs.append(torch.cat((torch.tensor(data[d1]), torch.tensor(data[d2]))).view(1, 2, 784))\n",
    "    return torch.cat(pairs), torch.LongTensor(labels_)"
   ]
  },
  {
   "cell_type": "code",
   "execution_count": null,
   "metadata": {},
   "outputs": [],
   "source": []
  },
  {
   "cell_type": "code",
   "execution_count": 819,
   "metadata": {},
   "outputs": [],
   "source": [
    "# train_data = torchvision.datasets.MNIST(root='./data/', train=True, download=True)\n",
    "# test_data = torchvision.datasets.MNIST(root='./data/', train=False, download=True)"
   ]
  },
  {
   "cell_type": "code",
   "execution_count": 1128,
   "metadata": {},
   "outputs": [],
   "source": [
    "train_data = torchvision.datasets.FashionMNIST(root='./data/', train=True, download=True)\n",
    "test_data = torchvision.datasets.FashionMNIST(root='./data/', train=False, download=True)"
   ]
  },
  {
   "cell_type": "code",
   "execution_count": 1129,
   "metadata": {},
   "outputs": [
    {
     "data": {
      "text/plain": [
       "torch.Size([60000, 28, 28])"
      ]
     },
     "execution_count": 1129,
     "metadata": {},
     "output_type": "execute_result"
    }
   ],
   "source": [
    "train_data.data.shape"
   ]
  },
  {
   "cell_type": "code",
   "execution_count": 1130,
   "metadata": {},
   "outputs": [
    {
     "data": {
      "text/plain": [
       "torch.Size([60000])"
      ]
     },
     "execution_count": 1130,
     "metadata": {},
     "output_type": "execute_result"
    }
   ],
   "source": [
    "train_data.targets.shape"
   ]
  },
  {
   "cell_type": "code",
   "execution_count": 1131,
   "metadata": {},
   "outputs": [],
   "source": [
    "X_train = train_data.data.reshape(60000, 784)\n",
    "y_train = train_data.targets\n",
    "X_test = test_data.data.reshape(10000, 784)\n",
    "y_test = test_data.targets"
   ]
  },
  {
   "cell_type": "code",
   "execution_count": 1132,
   "metadata": {},
   "outputs": [
    {
     "name": "stderr",
     "output_type": "stream",
     "text": [
      "/var/folders/tt/_dxmbtvs2hg3dvltgsw9jfcsb99qpj/T/ipykernel_22513/2902590150.py:18: UserWarning: To copy construct from a tensor, it is recommended to use sourceTensor.clone().detach() or sourceTensor.clone().detach().requires_grad_(True), rather than torch.tensor(sourceTensor).\n",
      "  pairs.append(torch.cat((torch.tensor(data[d1]), torch.tensor(data[d2]))).view(1, 2, 784))\n"
     ]
    }
   ],
   "source": [
    "batch_size = 200\n",
    "\n",
    "pairs_train, labels_train = make_pairs(X_train, y_train, num=y_train.shape[0] * 2)\n",
    "\n",
    "train = torch.utils.data.dataset.TensorDataset(pairs_train, labels_train)\n",
    "train_loader = torch.utils.data.DataLoader(train, batch_size=batch_size, shuffle=True)"
   ]
  },
  {
   "cell_type": "code",
   "execution_count": null,
   "metadata": {},
   "outputs": [],
   "source": []
  },
  {
   "cell_type": "code",
   "execution_count": 1133,
   "metadata": {},
   "outputs": [
    {
     "data": {
      "text/plain": [
       "torch.Size([120000, 2, 784])"
      ]
     },
     "execution_count": 1133,
     "metadata": {},
     "output_type": "execute_result"
    }
   ],
   "source": [
    "pairs_train.shape"
   ]
  },
  {
   "cell_type": "code",
   "execution_count": null,
   "metadata": {},
   "outputs": [],
   "source": []
  },
  {
   "cell_type": "code",
   "execution_count": 1134,
   "metadata": {},
   "outputs": [],
   "source": [
    "net = torch.nn.Sequential(\n",
    "        nn.Linear(784, 512),\n",
    "        nn.PReLU(512),\n",
    "        nn.BatchNorm1d(512),\n",
    "        nn.Linear(512, 512),\n",
    "        nn.PReLU(512),\n",
    "        nn.BatchNorm1d(512),\n",
    "        nn.Linear(512, 10)\n",
    ")\n",
    "\n",
    "net = net.type(FloatTensor)"
   ]
  },
  {
   "cell_type": "code",
   "execution_count": 1135,
   "metadata": {},
   "outputs": [],
   "source": [
    "class ContrastiveLoss(torch.nn.Module):\n",
    "\n",
    "    def __init__(self, margin_dissim=2.0):\n",
    "        super(ContrastiveLoss, self).__init__()\n",
    "        self.margin_dissim = margin_dissim\n",
    "\n",
    "    def forward(self, dist, label):\n",
    "        loss = torch.mean(0.5 * label * torch.pow(dist, 2) + 0.5 * (1 - label) * torch.pow(torch.clamp(self.margin_dissim - dist, min=0.0), 2))\n",
    "        return loss"
   ]
  },
  {
   "cell_type": "code",
   "execution_count": 1136,
   "metadata": {},
   "outputs": [],
   "source": [
    "class ContrastiveLossModified(torch.nn.Module):\n",
    "\n",
    "    def __init__(self, margin_dissim=2.0, margin_sim=0.1):\n",
    "        super(ContrastiveLossModified, self).__init__()\n",
    "        self.margin_dissim = margin_dissim\n",
    "        self.margin_sim = margin_sim\n",
    "\n",
    "    def forward(self, dist, label):\n",
    "        loss = torch.mean(0.5 * label * torch.pow(torch.clamp(dist, min=self.margin_sim), 2) + 0.5 * (1 - label) * torch.pow(torch.clamp(self.margin_dissim - dist, min=0.0), 2))\n",
    "        return loss"
   ]
  },
  {
   "cell_type": "code",
   "execution_count": null,
   "metadata": {},
   "outputs": [],
   "source": []
  },
  {
   "cell_type": "code",
   "execution_count": 1137,
   "metadata": {},
   "outputs": [],
   "source": [
    "params = net.parameters()\n",
    "optimizer = torch.optim.Adam(params=params, lr=0.001)\n",
    "criterion = ContrastiveLoss(margin_dissim=4.0)"
   ]
  },
  {
   "cell_type": "code",
   "execution_count": 1138,
   "metadata": {},
   "outputs": [
    {
     "name": "stdout",
     "output_type": "stream",
     "text": [
      "Epoch: 0\n",
      "Loss: 1.9349573850631714\n",
      "Loss: 0.6754736304283142\n",
      "Loss: 0.6284451484680176\n",
      "Loss: 0.653510570526123\n",
      "Loss: 0.6248607635498047\n",
      "Loss: 0.6972529888153076\n",
      "Epoch: 1\n",
      "Loss: 0.6095733642578125\n",
      "Loss: 0.5627678632736206\n",
      "Loss: 0.4952542185783386\n",
      "Loss: 0.5385726690292358\n",
      "Loss: 0.6145890951156616\n",
      "Loss: 0.4789081811904907\n",
      "Epoch: 2\n",
      "Loss: 0.5343173146247864\n",
      "Loss: 0.4458535313606262\n",
      "Loss: 0.4559308886528015\n",
      "Loss: 0.4919462502002716\n",
      "Loss: 0.5175430178642273\n",
      "Loss: 0.5709326267242432\n",
      "Epoch: 3\n",
      "Loss: 0.49597984552383423\n",
      "Loss: 0.41782912611961365\n",
      "Loss: 0.4096849858760834\n",
      "Loss: 0.493522047996521\n",
      "Loss: 0.5065982937812805\n",
      "Loss: 0.3568209409713745\n",
      "Epoch: 4\n",
      "Loss: 0.5910632014274597\n",
      "Loss: 0.5107572078704834\n",
      "Loss: 0.536001980304718\n",
      "Loss: 0.429082989692688\n",
      "Loss: 0.49761080741882324\n",
      "Loss: 0.32707148790359497\n",
      "Epoch: 5\n",
      "Loss: 0.451865017414093\n",
      "Loss: 0.4531930983066559\n",
      "Loss: 0.5991296172142029\n",
      "Loss: 0.393025279045105\n",
      "Loss: 0.4489980638027191\n",
      "Loss: 0.38536110520362854\n",
      "Epoch: 6\n",
      "Loss: 0.4489990174770355\n",
      "Loss: 0.380686491727829\n",
      "Loss: 0.4530567228794098\n",
      "Loss: 0.43214738368988037\n",
      "Loss: 0.3357720673084259\n",
      "Loss: 0.42937684059143066\n",
      "Epoch: 7\n",
      "Loss: 0.33620545268058777\n",
      "Loss: 0.3457074463367462\n",
      "Loss: 0.41338202357292175\n",
      "Loss: 0.35921236872673035\n",
      "Loss: 0.35580408573150635\n",
      "Loss: 0.3201333284378052\n",
      "Epoch: 8\n",
      "Loss: 0.34199514985084534\n",
      "Loss: 0.3360122740268707\n",
      "Loss: 0.36271172761917114\n",
      "Loss: 0.32776060700416565\n",
      "Loss: 0.42302241921424866\n",
      "Loss: 0.3768722414970398\n",
      "Epoch: 9\n",
      "Loss: 0.3033566176891327\n",
      "Loss: 0.40956076979637146\n",
      "Loss: 0.3601684272289276\n",
      "Loss: 0.40251675248146057\n",
      "Loss: 0.45214056968688965\n",
      "Loss: 0.28332003951072693\n"
     ]
    }
   ],
   "source": [
    "epochs = 10\n",
    "\n",
    "net.train()\n",
    "for i in range(epochs):\n",
    "    print(f'Epoch: {i}')\n",
    "    for j, (images, labels) in enumerate(train_loader):\n",
    "        \n",
    "        i1, i2 = images.view(batch_size, -1).split(784, dim=1)\n",
    "        i1 = Variable(i1.type(FloatTensor))\n",
    "        i2 = Variable(i2.type(FloatTensor))\n",
    "        labels = Variable(labels).type(LongTensor)\n",
    "\n",
    "        net.zero_grad()\n",
    "        optimizer.zero_grad()\n",
    "        \n",
    "        output1 = net(i1)\n",
    "        output2 = net(i2)\n",
    "        dist = torch.sqrt(((output1 - output2) ** 2).sum(axis=1))\n",
    "        loss = criterion(dist, labels)\n",
    "        loss.backward()\n",
    "        optimizer.step()\n",
    "        \n",
    "        if j % 100 == 0:\n",
    "            print(f'Loss: {loss.item()}')"
   ]
  },
  {
   "cell_type": "code",
   "execution_count": null,
   "metadata": {},
   "outputs": [],
   "source": []
  },
  {
   "cell_type": "code",
   "execution_count": 1139,
   "metadata": {},
   "outputs": [
    {
     "data": {
      "text/plain": [
       "Sequential(\n",
       "  (0): Linear(in_features=784, out_features=512, bias=True)\n",
       "  (1): PReLU(num_parameters=512)\n",
       "  (2): BatchNorm1d(512, eps=1e-05, momentum=0.1, affine=True, track_running_stats=True)\n",
       "  (3): Linear(in_features=512, out_features=512, bias=True)\n",
       "  (4): PReLU(num_parameters=512)\n",
       "  (5): BatchNorm1d(512, eps=1e-05, momentum=0.1, affine=True, track_running_stats=True)\n",
       "  (6): Linear(in_features=512, out_features=10, bias=True)\n",
       ")"
      ]
     },
     "execution_count": 1139,
     "metadata": {},
     "output_type": "execute_result"
    }
   ],
   "source": [
    "net.eval()"
   ]
  },
  {
   "cell_type": "code",
   "execution_count": null,
   "metadata": {},
   "outputs": [],
   "source": []
  },
  {
   "cell_type": "code",
   "execution_count": 1140,
   "metadata": {},
   "outputs": [
    {
     "data": {
      "text/plain": [
       "torch.Size([10000, 784])"
      ]
     },
     "execution_count": 1140,
     "metadata": {},
     "output_type": "execute_result"
    }
   ],
   "source": [
    "X_test.shape"
   ]
  },
  {
   "cell_type": "code",
   "execution_count": null,
   "metadata": {},
   "outputs": [],
   "source": []
  },
  {
   "cell_type": "code",
   "execution_count": null,
   "metadata": {},
   "outputs": [],
   "source": []
  },
  {
   "cell_type": "code",
   "execution_count": 1141,
   "metadata": {},
   "outputs": [
    {
     "name": "stderr",
     "output_type": "stream",
     "text": [
      "/var/folders/tt/_dxmbtvs2hg3dvltgsw9jfcsb99qpj/T/ipykernel_22513/4220187399.py:1: UserWarning: To copy construct from a tensor, it is recommended to use sourceTensor.clone().detach() or sourceTensor.clone().detach().requires_grad_(True), rather than torch.tensor(sourceTensor).\n",
      "  X_train = torch.tensor(X_train).type(FloatTensor)\n"
     ]
    }
   ],
   "source": [
    "X_train = torch.tensor(X_train).type(FloatTensor)"
   ]
  },
  {
   "cell_type": "code",
   "execution_count": 1142,
   "metadata": {},
   "outputs": [
    {
     "name": "stderr",
     "output_type": "stream",
     "text": [
      "/var/folders/tt/_dxmbtvs2hg3dvltgsw9jfcsb99qpj/T/ipykernel_22513/2973353628.py:1: UserWarning: To copy construct from a tensor, it is recommended to use sourceTensor.clone().detach() or sourceTensor.clone().detach().requires_grad_(True), rather than torch.tensor(sourceTensor).\n",
      "  X_test = torch.tensor(X_test).type(FloatTensor)\n"
     ]
    }
   ],
   "source": [
    "X_test = torch.tensor(X_test).type(FloatTensor)"
   ]
  },
  {
   "cell_type": "code",
   "execution_count": 1143,
   "metadata": {},
   "outputs": [
    {
     "data": {
      "text/plain": [
       "torch.Size([60000, 10])"
      ]
     },
     "execution_count": 1143,
     "metadata": {},
     "output_type": "execute_result"
    }
   ],
   "source": [
    "train_emb = net(X_train).cpu().detach()\n",
    "train_emb.shape"
   ]
  },
  {
   "cell_type": "code",
   "execution_count": 1144,
   "metadata": {},
   "outputs": [
    {
     "data": {
      "text/plain": [
       "torch.Size([10000, 10])"
      ]
     },
     "execution_count": 1144,
     "metadata": {},
     "output_type": "execute_result"
    }
   ],
   "source": [
    "test_emb = net(X_test).cpu().detach()\n",
    "test_emb.shape"
   ]
  },
  {
   "cell_type": "code",
   "execution_count": 1145,
   "metadata": {},
   "outputs": [],
   "source": [
    "train_dict = make_dict(train_emb, y_train)"
   ]
  },
  {
   "cell_type": "code",
   "execution_count": 1146,
   "metadata": {},
   "outputs": [
    {
     "data": {
      "text/plain": [
       "torch.Size([6000, 10])"
      ]
     },
     "execution_count": 1146,
     "metadata": {},
     "output_type": "execute_result"
    }
   ],
   "source": [
    "train_dict[5].shape"
   ]
  },
  {
   "cell_type": "code",
   "execution_count": 1147,
   "metadata": {},
   "outputs": [],
   "source": [
    "y_test = test_data.targets.numpy()"
   ]
  },
  {
   "cell_type": "code",
   "execution_count": null,
   "metadata": {},
   "outputs": [],
   "source": []
  },
  {
   "cell_type": "code",
   "execution_count": 1148,
   "metadata": {},
   "outputs": [],
   "source": [
    "y_pred_nc = predict_nc(test_emb, train_dict)"
   ]
  },
  {
   "cell_type": "code",
   "execution_count": 1151,
   "metadata": {},
   "outputs": [
    {
     "name": "stderr",
     "output_type": "stream",
     "text": [
      "100%|███████████████████████████████████████████████████████████████████████████████████████████████████████████████████████████████████████████████████████████████████████████| 10000/10000 [38:53<00:00,  4.29it/s]\n"
     ]
    }
   ],
   "source": [
    "y_pred_knn = predict_knn(test_emb, train_dict, k=5)"
   ]
  },
  {
   "cell_type": "code",
   "execution_count": null,
   "metadata": {},
   "outputs": [],
   "source": []
  },
  {
   "cell_type": "code",
   "execution_count": 1150,
   "metadata": {},
   "outputs": [
    {
     "data": {
      "text/plain": [
       "0.7857"
      ]
     },
     "execution_count": 1150,
     "metadata": {},
     "output_type": "execute_result"
    }
   ],
   "source": [
    "calculate_accuracy(y_pred_nc, y_test)"
   ]
  },
  {
   "cell_type": "code",
   "execution_count": 1152,
   "metadata": {},
   "outputs": [
    {
     "data": {
      "text/plain": [
       "0.86"
      ]
     },
     "execution_count": 1152,
     "metadata": {},
     "output_type": "execute_result"
    }
   ],
   "source": [
    "calculate_accuracy(y_pred_knn, y_test)"
   ]
  },
  {
   "cell_type": "code",
   "execution_count": null,
   "metadata": {},
   "outputs": [],
   "source": []
  },
  {
   "cell_type": "markdown",
   "metadata": {},
   "source": [
    "Contrastive, Mod contrastive, Triplet"
   ]
  },
  {
   "cell_type": "markdown",
   "metadata": {},
   "source": [
    "Forest covertypes: 0.706 vs 0.784 vs 0.654"
   ]
  },
  {
   "cell_type": "markdown",
   "metadata": {},
   "source": [
    "MNIST: accuracy 0.9833 vs 0.9835 vs 0.973"
   ]
  },
  {
   "cell_type": "markdown",
   "metadata": {},
   "source": [
    "FashionMNIST: accuracy 0.8464 vs 0.8514 vs 0.8278"
   ]
  },
  {
   "cell_type": "markdown",
   "metadata": {},
   "source": [
    "KMNIST: accuracy 0.9043 vs 0.9135 vs 0.8952"
   ]
  },
  {
   "cell_type": "code",
   "execution_count": null,
   "metadata": {},
   "outputs": [],
   "source": []
  },
  {
   "cell_type": "code",
   "execution_count": null,
   "metadata": {},
   "outputs": [],
   "source": []
  },
  {
   "cell_type": "code",
   "execution_count": 230,
   "metadata": {},
   "outputs": [],
   "source": [
    "train_data = torchvision.datasets.FashionMNIST(root='./data/', train=True, download=True)\n",
    "test_data = torchvision.datasets.FashionMNIST(root='./data/', train=False, download=True)"
   ]
  },
  {
   "cell_type": "code",
   "execution_count": 231,
   "metadata": {},
   "outputs": [
    {
     "data": {
      "text/plain": [
       "Dataset FashionMNIST\n",
       "    Number of datapoints: 60000\n",
       "    Root location: ./data/\n",
       "    Split: Train"
      ]
     },
     "execution_count": 231,
     "metadata": {},
     "output_type": "execute_result"
    }
   ],
   "source": [
    "train_data"
   ]
  },
  {
   "cell_type": "code",
   "execution_count": 232,
   "metadata": {},
   "outputs": [
    {
     "data": {
      "text/plain": [
       "Dataset FashionMNIST\n",
       "    Number of datapoints: 10000\n",
       "    Root location: ./data/\n",
       "    Split: Test"
      ]
     },
     "execution_count": 232,
     "metadata": {},
     "output_type": "execute_result"
    }
   ],
   "source": [
    "test_data"
   ]
  },
  {
   "cell_type": "code",
   "execution_count": 233,
   "metadata": {},
   "outputs": [
    {
     "data": {
      "text/plain": [
       "torch.Size([60000, 28, 28])"
      ]
     },
     "execution_count": 233,
     "metadata": {},
     "output_type": "execute_result"
    }
   ],
   "source": [
    "train_data.data.shape"
   ]
  },
  {
   "cell_type": "code",
   "execution_count": null,
   "metadata": {},
   "outputs": [],
   "source": []
  },
  {
   "cell_type": "code",
   "execution_count": null,
   "metadata": {},
   "outputs": [],
   "source": []
  },
  {
   "cell_type": "code",
   "execution_count": 469,
   "metadata": {},
   "outputs": [
    {
     "name": "stdout",
     "output_type": "stream",
     "text": [
      "Downloading http://codh.rois.ac.jp/kmnist/dataset/kmnist/train-images-idx3-ubyte.gz\n",
      "Downloading http://codh.rois.ac.jp/kmnist/dataset/kmnist/train-images-idx3-ubyte.gz to ./data/KMNIST\\raw\\train-images-idx3-ubyte.gz\n"
     ]
    },
    {
     "data": {
      "application/vnd.jupyter.widget-view+json": {
       "model_id": "d01ea50c446f451a9bbf686bf51e223c",
       "version_major": 2,
       "version_minor": 0
      },
      "text/plain": [
       "  0%|          | 0/18165135 [00:00<?, ?it/s]"
      ]
     },
     "metadata": {},
     "output_type": "display_data"
    },
    {
     "name": "stdout",
     "output_type": "stream",
     "text": [
      "Extracting ./data/KMNIST\\raw\\train-images-idx3-ubyte.gz to ./data/KMNIST\\raw\n",
      "\n",
      "Downloading http://codh.rois.ac.jp/kmnist/dataset/kmnist/train-labels-idx1-ubyte.gz\n",
      "Downloading http://codh.rois.ac.jp/kmnist/dataset/kmnist/train-labels-idx1-ubyte.gz to ./data/KMNIST\\raw\\train-labels-idx1-ubyte.gz\n"
     ]
    },
    {
     "data": {
      "application/vnd.jupyter.widget-view+json": {
       "model_id": "cf5d6ff96c214a0d9e1b74b3472c283a",
       "version_major": 2,
       "version_minor": 0
      },
      "text/plain": [
       "  0%|          | 0/29497 [00:00<?, ?it/s]"
      ]
     },
     "metadata": {},
     "output_type": "display_data"
    },
    {
     "name": "stdout",
     "output_type": "stream",
     "text": [
      "Extracting ./data/KMNIST\\raw\\train-labels-idx1-ubyte.gz to ./data/KMNIST\\raw\n",
      "\n",
      "Downloading http://codh.rois.ac.jp/kmnist/dataset/kmnist/t10k-images-idx3-ubyte.gz\n",
      "Downloading http://codh.rois.ac.jp/kmnist/dataset/kmnist/t10k-images-idx3-ubyte.gz to ./data/KMNIST\\raw\\t10k-images-idx3-ubyte.gz\n"
     ]
    },
    {
     "data": {
      "application/vnd.jupyter.widget-view+json": {
       "model_id": "a73b5fd0fa21403ea764d9c25ed68f8c",
       "version_major": 2,
       "version_minor": 0
      },
      "text/plain": [
       "  0%|          | 0/3041136 [00:00<?, ?it/s]"
      ]
     },
     "metadata": {},
     "output_type": "display_data"
    },
    {
     "name": "stdout",
     "output_type": "stream",
     "text": [
      "Extracting ./data/KMNIST\\raw\\t10k-images-idx3-ubyte.gz to ./data/KMNIST\\raw\n",
      "\n",
      "Downloading http://codh.rois.ac.jp/kmnist/dataset/kmnist/t10k-labels-idx1-ubyte.gz\n",
      "Downloading http://codh.rois.ac.jp/kmnist/dataset/kmnist/t10k-labels-idx1-ubyte.gz to ./data/KMNIST\\raw\\t10k-labels-idx1-ubyte.gz\n"
     ]
    },
    {
     "data": {
      "application/vnd.jupyter.widget-view+json": {
       "model_id": "7d7751a3c61641d8aa3cc8c74b4e8fe2",
       "version_major": 2,
       "version_minor": 0
      },
      "text/plain": [
       "  0%|          | 0/5120 [00:00<?, ?it/s]"
      ]
     },
     "metadata": {},
     "output_type": "display_data"
    },
    {
     "name": "stdout",
     "output_type": "stream",
     "text": [
      "Extracting ./data/KMNIST\\raw\\t10k-labels-idx1-ubyte.gz to ./data/KMNIST\\raw\n",
      "\n",
      "Processing...\n",
      "Done!\n"
     ]
    }
   ],
   "source": [
    "train_data = torchvision.datasets.KMNIST(root='./data/', train=True, download=True)\n",
    "test_data = torchvision.datasets.KMNIST(root='./data/', train=False, download=True)"
   ]
  },
  {
   "cell_type": "code",
   "execution_count": 470,
   "metadata": {},
   "outputs": [
    {
     "data": {
      "text/plain": [
       "Dataset KMNIST\n",
       "    Number of datapoints: 60000\n",
       "    Root location: ./data/\n",
       "    Split: Train"
      ]
     },
     "execution_count": 470,
     "metadata": {},
     "output_type": "execute_result"
    }
   ],
   "source": [
    "train_data"
   ]
  },
  {
   "cell_type": "code",
   "execution_count": 471,
   "metadata": {},
   "outputs": [
    {
     "data": {
      "text/plain": [
       "Dataset KMNIST\n",
       "    Number of datapoints: 10000\n",
       "    Root location: ./data/\n",
       "    Split: Test"
      ]
     },
     "execution_count": 471,
     "metadata": {},
     "output_type": "execute_result"
    }
   ],
   "source": [
    "test_data"
   ]
  },
  {
   "cell_type": "code",
   "execution_count": 472,
   "metadata": {},
   "outputs": [
    {
     "data": {
      "text/plain": [
       "torch.Size([60000, 28, 28])"
      ]
     },
     "execution_count": 472,
     "metadata": {},
     "output_type": "execute_result"
    }
   ],
   "source": [
    "train_data.data.shape"
   ]
  },
  {
   "cell_type": "code",
   "execution_count": 479,
   "metadata": {},
   "outputs": [
    {
     "data": {
      "text/plain": [
       "(-0.5, 27.5, 27.5, -0.5)"
      ]
     },
     "execution_count": 479,
     "metadata": {},
     "output_type": "execute_result"
    },
    {
     "data": {
      "image/png": "[encoded data removed]",
      "text/plain": [
       "<Figure size 432x288 with 1 Axes>"
      ]
     },
     "metadata": {
      "needs_background": "light"
     },
     "output_type": "display_data"
    }
   ],
   "source": [
    "fig = plt.figure()\n",
    "ax = plt.imshow(train_data.data[6], cmap='gray')\n",
    "plt.grid(False)\n",
    "plt.axis('off')"
   ]
  },
  {
   "cell_type": "code",
   "execution_count": null,
   "metadata": {},
   "outputs": [],
   "source": []
  },
  {
   "cell_type": "code",
   "execution_count": 189,
   "metadata": {},
   "outputs": [
    {
     "data": {
      "text/plain": [
       "76.34133873596926"
      ]
     },
     "execution_count": 189,
     "metadata": {},
     "output_type": "execute_result"
    }
   ],
   "source": [
    "np.sqrt(5828)"
   ]
  },
  {
   "cell_type": "code",
   "execution_count": null,
   "metadata": {},
   "outputs": [],
   "source": []
  },
  {
   "cell_type": "code",
   "execution_count": null,
   "metadata": {},
   "outputs": [],
   "source": []
  },
  {
   "cell_type": "code",
   "execution_count": null,
   "metadata": {},
   "outputs": [],
   "source": []
  },
  {
   "cell_type": "code",
   "execution_count": 221,
   "metadata": {},
   "outputs": [],
   "source": [
    "contrastive_res_map = dict()\n",
    "m = 2.0\n",
    "v_list = np.linspace(0.0, 1.0, 30)"
   ]
  },
  {
   "cell_type": "code",
   "execution_count": null,
   "metadata": {},
   "outputs": [],
   "source": []
  },
  {
   "cell_type": "code",
   "execution_count": 222,
   "metadata": {},
   "outputs": [
    {
     "name": "stderr",
     "output_type": "stream",
     "text": [
      "/var/folders/tt/_dxmbtvs2hg3dvltgsw9jfcsb99qpj/T/ipykernel_10174/1320488795.py:38: UserWarning: To copy construct from a tensor, it is recommended to use sourceTensor.clone().detach() or sourceTensor.clone().detach().requires_grad_(True), rather than torch.tensor(sourceTensor).\n",
      "  X_train = torch.tensor(X_train).type(FloatTensor)\n",
      "/var/folders/tt/_dxmbtvs2hg3dvltgsw9jfcsb99qpj/T/ipykernel_10174/1320488795.py:39: UserWarning: To copy construct from a tensor, it is recommended to use sourceTensor.clone().detach() or sourceTensor.clone().detach().requires_grad_(True), rather than torch.tensor(sourceTensor).\n",
      "  X_test = torch.tensor(X_test).type(FloatTensor)\n"
     ]
    },
    {
     "name": "stdout",
     "output_type": "stream",
     "text": [
      "v = 0.0: accuracy = 0.9594\n",
      "v = 0.034482758620689655: accuracy = 0.9619\n",
      "v = 0.06896551724137931: accuracy = 0.964\n",
      "v = 0.10344827586206896: accuracy = 0.9637\n",
      "v = 0.13793103448275862: accuracy = 0.966\n",
      "v = 0.1724137931034483: accuracy = 0.9608\n",
      "v = 0.20689655172413793: accuracy = 0.9625\n",
      "v = 0.24137931034482757: accuracy = 0.9621\n",
      "v = 0.27586206896551724: accuracy = 0.9633\n",
      "v = 0.3103448275862069: accuracy = 0.9581\n",
      "v = 0.3448275862068966: accuracy = 0.9641\n",
      "v = 0.3793103448275862: accuracy = 0.9571\n",
      "v = 0.41379310344827586: accuracy = 0.9561\n",
      "v = 0.4482758620689655: accuracy = 0.9649\n",
      "v = 0.48275862068965514: accuracy = 0.9581\n",
      "v = 0.5172413793103449: accuracy = 0.956\n",
      "v = 0.5517241379310345: accuracy = 0.9602\n",
      "v = 0.5862068965517241: accuracy = 0.956\n",
      "v = 0.6206896551724138: accuracy = 0.9523\n",
      "v = 0.6551724137931034: accuracy = 0.9509\n",
      "v = 0.6896551724137931: accuracy = 0.9544\n",
      "v = 0.7241379310344828: accuracy = 0.9517\n",
      "v = 0.7586206896551724: accuracy = 0.9437\n",
      "v = 0.7931034482758621: accuracy = 0.9478\n",
      "v = 0.8275862068965517: accuracy = 0.9501\n",
      "v = 0.8620689655172413: accuracy = 0.9389\n",
      "v = 0.896551724137931: accuracy = 0.9466\n",
      "v = 0.9310344827586207: accuracy = 0.9487\n",
      "v = 0.9655172413793103: accuracy = 0.942\n",
      "v = 1.0: accuracy = 0.9464\n"
     ]
    }
   ],
   "source": [
    "for v in v_list:\n",
    "    \n",
    "    net = torch.nn.Sequential(\n",
    "        nn.Linear(784, 512),\n",
    "        nn.PReLU(512),\n",
    "        nn.BatchNorm1d(512),\n",
    "        nn.Linear(512, 512),\n",
    "        nn.PReLU(512),\n",
    "        nn.BatchNorm1d(512),\n",
    "        nn.Linear(512, 10)\n",
    "    )\n",
    "    net = net.type(FloatTensor)\n",
    "    \n",
    "    params = net.parameters()\n",
    "    optimizer = torch.optim.Adam(params=params, lr=0.001)\n",
    "    criterion = ContrastiveLossModified(margin_dissim=m, margin_sim=v)\n",
    "\n",
    "    epochs = 5\n",
    "    for i in range(epochs):\n",
    "        for j, (images, labels) in enumerate(train_loader):\n",
    "            net.train()\n",
    "            \n",
    "            i1, i2 = images.view(batch_size, -1).split(784, dim=1)\n",
    "            i1 = Variable(i1.type(FloatTensor))\n",
    "            i2 = Variable(i2.type(FloatTensor))\n",
    "            labels = Variable(labels).type(LongTensor)\n",
    "    \n",
    "            net.zero_grad()\n",
    "            output1 = net(i1)\n",
    "            output2 = net(i2)\n",
    "            dist = torch.sqrt(((output1 - output2) ** 2).sum(axis=1))\n",
    "            loss = criterion(dist, labels)\n",
    "            loss.backward()\n",
    "            optimizer.step()\n",
    "\n",
    "    net.eval()\n",
    "                \n",
    "    X_train = torch.tensor(X_train).type(FloatTensor)\n",
    "    X_test = torch.tensor(X_test).type(FloatTensor)\n",
    "    train_emb = net(X_train).cpu().detach()\n",
    "    test_emb = net(X_test).cpu().detach()\n",
    "    train_dict = make_dict(train_emb, y_train)\n",
    "    y_test = test_data.targets.numpy()\n",
    "    res = calculate_accuracy(test_emb, train_dict, y_test)\n",
    "    contrastive_res_map[v] = res\n",
    "    print(f'v = {v}: accuracy = {res}')"
   ]
  },
  {
   "cell_type": "code",
   "execution_count": null,
   "metadata": {},
   "outputs": [],
   "source": []
  },
  {
   "cell_type": "code",
   "execution_count": 44,
   "metadata": {},
   "outputs": [],
   "source": [
    "contrastive_res_map = {0.0: 0.9594, 0.034482758620689655: 0.9619, 0.06896551724137931: 0.964, 0.10344827586206896: 0.9637, 0.13793103448275862: 0.966, 0.1724137931034483: 0.9648, 0.20689655172413793: 0.9625, 0.24137931034482757: 0.9621, 0.27586206896551724: 0.9633, 0.3103448275862069: 0.9627, 0.3448275862068966: 0.9603, 0.3793103448275862: 0.9571, 0.41379310344827586: 0.9561, 0.4482758620689655: 0.9587, 0.48275862068965514: 0.9581, 0.5172413793103449: 0.956, 0.5517241379310345: 0.9583, 0.5862068965517241: 0.956, 0.6206896551724138: 0.9523, 0.6551724137931034: 0.9509, 0.6896551724137931: 0.9544, 0.7241379310344828: 0.9517, 0.7586206896551724: 0.9474, 0.7931034482758621: 0.9478, 0.8275862068965517: 0.9501, 0.8620689655172413: 0.9459, 0.896551724137931: 0.9466, 0.9310344827586207: 0.9487, 0.9655172413793103: 0.9472, 1.0: 0.9464}"
   ]
  },
  {
   "cell_type": "code",
   "execution_count": 45,
   "metadata": {},
   "outputs": [
    {
     "data": {
      "image/png": "[encoded data removed]",
      "text/plain": [
       "<Figure size 1800x800 with 1 Axes>"
      ]
     },
     "metadata": {},
     "output_type": "display_data"
    }
   ],
   "source": [
    "fig = plt.figure(figsize=(18, 8))\n",
    "plt.plot(contrastive_res_map.keys(), contrastive_res_map.values(), color='red', marker='.', ms=12)\n",
    "plt.title('График зависимости точности классификации с попарными потерями от параметра v при m = 2', fontsize=20)\n",
    "plt.xlabel('Значения параметра v', fontsize=15)\n",
    "plt.ylabel('Точность классификации', fontsize=15)\n",
    "plt.xticks(np.arange(0, 1.1, 0.1))\n",
    "# plt.yticks(np.arange(0, 2.2, 0.2))\n",
    "# plt.ylim([0.95, 1])\n",
    "plt.show()"
   ]
  },
  {
   "cell_type": "code",
   "execution_count": 46,
   "metadata": {},
   "outputs": [
    {
     "name": "stderr",
     "output_type": "stream",
     "text": [
      "Zapf NOT subset; don't know how to subset; dropped\n",
      "fdsc NOT subset; don't know how to subset; dropped\n",
      "feat NOT subset; don't know how to subset; dropped\n",
      "morx NOT subset; don't know how to subset; dropped\n"
     ]
    }
   ],
   "source": [
    "fig.savefig('contrastive_loss_acc.pdf', format='pdf', dpi=600)"
   ]
  },
  {
   "cell_type": "code",
   "execution_count": 246,
   "metadata": {},
   "outputs": [
    {
     "name": "stdout",
     "output_type": "stream",
     "text": [
      "{0.0: 0.9594, 0.034482758620689655: 0.9619, 0.06896551724137931: 0.964, 0.10344827586206896: 0.9637, 0.13793103448275862: 0.966, 0.1724137931034483: 0.9648, 0.20689655172413793: 0.9625, 0.24137931034482757: 0.9621, 0.27586206896551724: 0.9633, 0.3103448275862069: 0.9627, 0.3448275862068966: 0.9603, 0.3793103448275862: 0.9571, 0.41379310344827586: 0.9561, 0.4482758620689655: 0.9587, 0.48275862068965514: 0.9581, 0.5172413793103449: 0.956, 0.5517241379310345: 0.9583, 0.5862068965517241: 0.956, 0.6206896551724138: 0.9523, 0.6551724137931034: 0.9509, 0.6896551724137931: 0.9544, 0.7241379310344828: 0.9517, 0.7586206896551724: 0.9474, 0.7931034482758621: 0.9478, 0.8275862068965517: 0.9501, 0.8620689655172413: 0.9459, 0.896551724137931: 0.9466, 0.9310344827586207: 0.9487, 0.9655172413793103: 0.9472, 1.0: 0.9464}\n"
     ]
    }
   ],
   "source": [
    "print(contrastive_res_map)"
   ]
  },
  {
   "cell_type": "code",
   "execution_count": null,
   "metadata": {},
   "outputs": [],
   "source": []
  },
  {
   "cell_type": "code",
   "execution_count": null,
   "metadata": {},
   "outputs": [],
   "source": []
  },
  {
   "cell_type": "code",
   "execution_count": null,
   "metadata": {},
   "outputs": [],
   "source": []
  },
  {
   "cell_type": "code",
   "execution_count": 56,
   "metadata": {},
   "outputs": [],
   "source": [
    "best_m = []\n",
    "best_v = []\n",
    "best_acc = []\n",
    "for m_val in m:\n",
    "    best_m.append(m_val)\n",
    "    max_acc = 0.0\n",
    "    for key, value in res_map.items():\n",
    "        if key[0] == m_val and value > max_acc:\n",
    "            max_v = key[1]\n",
    "            max_acc = value\n",
    "    best_v.append(max_v)\n",
    "    best_acc.append(max_acc)"
   ]
  },
  {
   "cell_type": "code",
   "execution_count": 60,
   "metadata": {},
   "outputs": [
    {
     "name": "stdout",
     "output_type": "stream",
     "text": [
      "[1.0, 1.4736842105263157, 1.9473684210526314, 2.4210526315789473, 2.894736842105263, 3.3684210526315788, 3.8421052631578947, 4.315789473684211, 4.789473684210526, 5.263157894736842, 5.7368421052631575, 6.2105263157894735, 6.684210526315789, 7.157894736842105, 7.63157894736842, 8.105263157894736, 8.578947368421051, 9.052631578947368, 9.526315789473683, 10.0]\n"
     ]
    }
   ],
   "source": [
    "print(best_m)"
   ]
  },
  {
   "cell_type": "code",
   "execution_count": 61,
   "metadata": {},
   "outputs": [
    {
     "name": "stdout",
     "output_type": "stream",
     "text": [
      "[0.10526315789473684, 0.21052631578947367, 0.21052631578947367, 0.21052631578947367, 0.10526315789473684, 0.0, 0.0, 0.10526315789473684, 0.0, 0.0, 0.10526315789473684, 0.42105263157894735, 0.10526315789473684, 0.631578947368421, 0.0, 0.9473684210526315, 0.9473684210526315, 0.7368421052631579, 0.10526315789473684, 1.4736842105263157]\n"
     ]
    }
   ],
   "source": [
    "print(best_v)"
   ]
  },
  {
   "cell_type": "code",
   "execution_count": 124,
   "metadata": {},
   "outputs": [
    {
     "data": {
      "text/plain": [
       "(10.0, 1.4736842105263157)"
      ]
     },
     "execution_count": 124,
     "metadata": {},
     "output_type": "execute_result"
    }
   ],
   "source": [
    "i = 19\n",
    "best_m[i], best_v[i]"
   ]
  },
  {
   "cell_type": "code",
   "execution_count": 137,
   "metadata": {},
   "outputs": [
    {
     "data": {
      "image/png": "[encoded data removed]",
      "text/plain": [
       "<Figure size 1800x800 with 1 Axes>"
      ]
     },
     "metadata": {},
     "output_type": "display_data"
    }
   ],
   "source": [
    "fig = plt.figure(figsize=(18, 8))\n",
    "plt.plot(best_m, best_v, color='red', marker='.', ms=12)\n",
    "plt.title('График зависимости параметров Contrastive Loss, с которыми достигалась лучшая точность', fontsize=19)\n",
    "plt.xlabel('Значения параметра m', fontsize=14)\n",
    "plt.ylabel('Значения параметра v', fontsize=14)\n",
    "plt.xticks(np.arange(1, 11))\n",
    "# plt.yticks(np.arange(800, 1501, 100))\n",
    "plt.show()"
   ]
  },
  {
   "cell_type": "code",
   "execution_count": 138,
   "metadata": {},
   "outputs": [
    {
     "name": "stderr",
     "output_type": "stream",
     "text": [
      "Zapf NOT subset; don't know how to subset; dropped\n",
      "fdsc NOT subset; don't know how to subset; dropped\n",
      "feat NOT subset; don't know how to subset; dropped\n",
      "morx NOT subset; don't know how to subset; dropped\n"
     ]
    }
   ],
   "source": [
    "fig.savefig('contrastive_loss_params.pdf', format='pdf', dpi=600)"
   ]
  },
  {
   "cell_type": "code",
   "execution_count": null,
   "metadata": {},
   "outputs": [],
   "source": []
  },
  {
   "cell_type": "code",
   "execution_count": null,
   "metadata": {},
   "outputs": [],
   "source": []
  },
  {
   "cell_type": "markdown",
   "metadata": {},
   "source": [
    "# Triplet Loss"
   ]
  },
  {
   "cell_type": "code",
   "execution_count": 1033,
   "metadata": {},
   "outputs": [],
   "source": [
    "def create_batch(batch_size):\n",
    "    anchors=np.zeros((batch_size,784))\n",
    "    positives=np.zeros((batch_size,784))\n",
    "    negatives=np.zeros((batch_size,784))\n",
    "    \n",
    "    for i in range(0,batch_size):\n",
    "            index=random.randint(0,len(X_train)-1)\n",
    "            anc=X_train[index]\n",
    "            label_of_anc=y_train[index]\n",
    "            indices_of_pos=np.squeeze(np.where(y_train==label_of_anc))\n",
    "            indices_of_neg=np.squeeze(np.where(y_train!=label_of_anc))\n",
    "            #print(indices_of_pos)\n",
    "            pos=X_train[indices_of_pos[random.randint(0,len(indices_of_pos)-1)]]\n",
    "            neg=X_train[indices_of_neg[random.randint(0,len(indices_of_neg)-1)]]\n",
    "            positives[i]=pos\n",
    "            negatives[i]=neg\n",
    "            anchors[i]=anc\n",
    "    return [anchors,positives,negatives]"
   ]
  },
  {
   "cell_type": "code",
   "execution_count": null,
   "metadata": {},
   "outputs": [],
   "source": []
  },
  {
   "cell_type": "code",
   "execution_count": 1034,
   "metadata": {},
   "outputs": [],
   "source": [
    "train_data = torchvision.datasets.MNIST(root='./data/', train=True, download=True)\n",
    "test_data = torchvision.datasets.MNIST(root='./data/', train=False, download=True)"
   ]
  },
  {
   "cell_type": "code",
   "execution_count": 7,
   "metadata": {},
   "outputs": [],
   "source": [
    "# train_data = torchvision.datasets.FashionMNIST(root='./data/', train=True, download=True)\n",
    "# test_data = torchvision.datasets.FashionMNIST(root='./data/', train=False, download=True)"
   ]
  },
  {
   "cell_type": "code",
   "execution_count": 8,
   "metadata": {},
   "outputs": [],
   "source": [
    "# train_data = torchvision.datasets.KMNIST(root='./data/', train=True, download=True)\n",
    "# test_data = torchvision.datasets.KMNIST(root='./data/', train=False, download=True)"
   ]
  },
  {
   "cell_type": "code",
   "execution_count": 1035,
   "metadata": {},
   "outputs": [],
   "source": [
    "X_train = train_data.data.reshape(60000, 784)\n",
    "y_train = train_data.targets\n",
    "X_test = test_data.data.reshape(10000, 784)\n",
    "y_test = test_data.targets"
   ]
  },
  {
   "cell_type": "code",
   "execution_count": null,
   "metadata": {},
   "outputs": [],
   "source": []
  },
  {
   "cell_type": "code",
   "execution_count": 1083,
   "metadata": {},
   "outputs": [],
   "source": [
    "net = torch.nn.Sequential(\n",
    "        nn.Linear(784, 512),\n",
    "        nn.PReLU(512),\n",
    "        nn.BatchNorm1d(512),\n",
    "        nn.Linear(512, 512),\n",
    "        nn.PReLU(512),\n",
    "        nn.BatchNorm1d(512),\n",
    "        nn.Linear(512, 10))\n",
    "\n",
    "net = net.type(FloatTensor)"
   ]
  },
  {
   "cell_type": "code",
   "execution_count": 1084,
   "metadata": {},
   "outputs": [],
   "source": [
    "params = net.parameters()\n",
    "optimizer = torch.optim.Adam(params=params, lr=0.001)"
   ]
  },
  {
   "cell_type": "code",
   "execution_count": 1085,
   "metadata": {},
   "outputs": [],
   "source": [
    "alpha = 2.0"
   ]
  },
  {
   "cell_type": "code",
   "execution_count": null,
   "metadata": {},
   "outputs": [],
   "source": []
  },
  {
   "cell_type": "code",
   "execution_count": 1058,
   "metadata": {},
   "outputs": [
    {
     "name": "stdout",
     "output_type": "stream",
     "text": [
      "0%, loss=15.981902122497559\n",
      "5%, loss=0.9163497686386108\n",
      "10%, loss=0.3786792457103729\n",
      "15%, loss=0.3233743906021118\n",
      "20%, loss=0.252868115901947\n",
      "25%, loss=0.20677438378334045\n",
      "30%, loss=0.17167426645755768\n",
      "35%, loss=0.17678715288639069\n",
      "40%, loss=0.2942909598350525\n",
      "45%, loss=0.18269309401512146\n",
      "50%, loss=0.09498395770788193\n",
      "55%, loss=0.17364554107189178\n",
      "60%, loss=0.04780006408691406\n",
      "65%, loss=0.19708748161792755\n",
      "70%, loss=0.24361823499202728\n",
      "75%, loss=0.06740012019872665\n",
      "80%, loss=0.19201235473155975\n",
      "85%, loss=0.13129852712154388\n",
      "90%, loss=0.16266120970249176\n",
      "95%, loss=0.1803549975156784\n"
     ]
    }
   ],
   "source": [
    "net.train()\n",
    "for i in range(1000):\n",
    "    anchors, positives, negatives = create_batch(200)\n",
    "    net.zero_grad()\n",
    "    optimizer.zero_grad()\n",
    "    \n",
    "    anchors = net(torch.tensor(anchors).type(FloatTensor))\n",
    "    positives = net(torch.tensor(positives).type(FloatTensor))\n",
    "    negatives = net(torch.tensor(negatives).type(FloatTensor))\n",
    "    dp = ((anchors - positives) ** 2).sum(axis=1)\n",
    "    dn = ((anchors - negatives) ** 2).sum(axis=1)\n",
    "    loss = torch.mean(torch.clamp(dp ** 2  - dn ** 2 + alpha, min=0.0))\n",
    "    if i % 50 == 0:\n",
    "        print(f'{i // 10}%, loss={loss}')\n",
    "    loss.backward()\n",
    "    optimizer.step()"
   ]
  },
  {
   "cell_type": "code",
   "execution_count": null,
   "metadata": {},
   "outputs": [],
   "source": []
  },
  {
   "cell_type": "code",
   "execution_count": null,
   "metadata": {},
   "outputs": [],
   "source": []
  },
  {
   "cell_type": "code",
   "execution_count": 1088,
   "metadata": {},
   "outputs": [
    {
     "name": "stderr",
     "output_type": "stream",
     "text": [
      "/var/folders/tt/_dxmbtvs2hg3dvltgsw9jfcsb99qpj/T/ipykernel_22513/4220187399.py:1: UserWarning: To copy construct from a tensor, it is recommended to use sourceTensor.clone().detach() or sourceTensor.clone().detach().requires_grad_(True), rather than torch.tensor(sourceTensor).\n",
      "  X_train = torch.tensor(X_train).type(FloatTensor)\n"
     ]
    }
   ],
   "source": [
    "X_train = torch.tensor(X_train).type(FloatTensor)"
   ]
  },
  {
   "cell_type": "code",
   "execution_count": 1089,
   "metadata": {},
   "outputs": [
    {
     "data": {
      "text/plain": [
       "torch.Size([60000, 10])"
      ]
     },
     "execution_count": 1089,
     "metadata": {},
     "output_type": "execute_result"
    }
   ],
   "source": [
    "train_emb = net(X_train).cpu().detach()\n",
    "train_emb.shape"
   ]
  },
  {
   "cell_type": "code",
   "execution_count": 1090,
   "metadata": {},
   "outputs": [
    {
     "name": "stderr",
     "output_type": "stream",
     "text": [
      "/var/folders/tt/_dxmbtvs2hg3dvltgsw9jfcsb99qpj/T/ipykernel_22513/2973353628.py:1: UserWarning: To copy construct from a tensor, it is recommended to use sourceTensor.clone().detach() or sourceTensor.clone().detach().requires_grad_(True), rather than torch.tensor(sourceTensor).\n",
      "  X_test = torch.tensor(X_test).type(FloatTensor)\n"
     ]
    }
   ],
   "source": [
    "X_test = torch.tensor(X_test).type(FloatTensor)"
   ]
  },
  {
   "cell_type": "code",
   "execution_count": 1091,
   "metadata": {},
   "outputs": [
    {
     "data": {
      "text/plain": [
       "torch.Size([10000, 10])"
      ]
     },
     "execution_count": 1091,
     "metadata": {},
     "output_type": "execute_result"
    }
   ],
   "source": [
    "test_emb = net(X_test).cpu().detach()\n",
    "test_emb.shape"
   ]
  },
  {
   "cell_type": "code",
   "execution_count": 1092,
   "metadata": {},
   "outputs": [],
   "source": [
    "train_dict = make_dict(train_emb, y_train)"
   ]
  },
  {
   "cell_type": "code",
   "execution_count": 1093,
   "metadata": {},
   "outputs": [],
   "source": [
    "y_test = test_data.targets.numpy()"
   ]
  },
  {
   "cell_type": "code",
   "execution_count": null,
   "metadata": {},
   "outputs": [],
   "source": []
  },
  {
   "cell_type": "code",
   "execution_count": 1094,
   "metadata": {},
   "outputs": [],
   "source": [
    "y_pred_nc = predict_nc(test_emb, train_dict)"
   ]
  },
  {
   "cell_type": "code",
   "execution_count": null,
   "metadata": {},
   "outputs": [],
   "source": [
    "y_pred_knn = predict_knn(test_emb, train_dict, k=5)"
   ]
  },
  {
   "cell_type": "code",
   "execution_count": 1095,
   "metadata": {},
   "outputs": [
    {
     "data": {
      "text/plain": [
       "0.9448"
      ]
     },
     "execution_count": 1095,
     "metadata": {},
     "output_type": "execute_result"
    }
   ],
   "source": [
    "calculate_accuracy(y_pred_nc, y_test)"
   ]
  },
  {
   "cell_type": "code",
   "execution_count": null,
   "metadata": {},
   "outputs": [],
   "source": []
  },
  {
   "cell_type": "markdown",
   "metadata": {},
   "source": [
    "MNIST: 0.9274 vs 0.9348\n",
    "\n",
    "FashionMNIST: 0.7746 vs 0.7829\n",
    "\n",
    "KMNIST: 0.7334 vs 0.7642"
   ]
  },
  {
   "cell_type": "code",
   "execution_count": null,
   "metadata": {},
   "outputs": [],
   "source": []
  },
  {
   "cell_type": "code",
   "execution_count": null,
   "metadata": {},
   "outputs": [],
   "source": []
  },
  {
   "cell_type": "markdown",
   "metadata": {},
   "source": [
    "## Modified"
   ]
  },
  {
   "cell_type": "code",
   "execution_count": 1086,
   "metadata": {},
   "outputs": [],
   "source": [
    "beta=0.2"
   ]
  },
  {
   "cell_type": "code",
   "execution_count": 1087,
   "metadata": {},
   "outputs": [
    {
     "name": "stdout",
     "output_type": "stream",
     "text": [
      "0%, loss=14.972787857055664\n",
      "5%, loss=0.7289018034934998\n",
      "10%, loss=0.3225722908973694\n",
      "15%, loss=0.2795156240463257\n",
      "20%, loss=0.19879068434238434\n",
      "25%, loss=0.29422637820243835\n",
      "30%, loss=0.18970808386802673\n",
      "35%, loss=0.151548370718956\n",
      "40%, loss=0.2301701307296753\n",
      "45%, loss=0.23225156962871552\n",
      "50%, loss=0.4266977310180664\n",
      "55%, loss=0.24451854825019836\n",
      "60%, loss=0.1781097799539566\n",
      "65%, loss=0.07834489643573761\n",
      "70%, loss=0.14447525143623352\n",
      "75%, loss=0.1272575706243515\n",
      "80%, loss=0.09316045045852661\n",
      "85%, loss=0.27128031849861145\n",
      "90%, loss=0.10666980594396591\n",
      "95%, loss=0.06935160607099533\n"
     ]
    }
   ],
   "source": [
    "net.train()\n",
    "for i in range(1000):\n",
    "    anchors, positives, negatives = create_batch(200)\n",
    "    net.zero_grad()\n",
    "    optimizer.zero_grad()\n",
    "    anchors = net(torch.tensor(anchors).type(FloatTensor))\n",
    "    positives = net(torch.tensor(positives).type(FloatTensor))\n",
    "    negatives = net(torch.tensor(negatives).type(FloatTensor))\n",
    "    dp = ((anchors - positives) ** 2).sum(axis=1)\n",
    "    dn = ((anchors - negatives) ** 2).sum(axis=1)\n",
    "    loss = torch.mean(torch.clamp((torch.clamp(dp, min=beta)) ** 2  - dn ** 2 + alpha, min=0.0))\n",
    "    if i % 50 == 0:\n",
    "        print(f'{i // 10}%, loss={loss}')\n",
    "    loss.backward()\n",
    "    optimizer.step()"
   ]
  },
  {
   "cell_type": "code",
   "execution_count": null,
   "metadata": {},
   "outputs": [],
   "source": []
  },
  {
   "cell_type": "code",
   "execution_count": null,
   "metadata": {},
   "outputs": [],
   "source": []
  },
  {
   "cell_type": "code",
   "execution_count": 29,
   "metadata": {},
   "outputs": [],
   "source": [
    "triplet_res_map = dict()\n",
    "m = 2.0\n",
    "v_list = np.linspace(0.0, 1.0, 30)"
   ]
  },
  {
   "cell_type": "code",
   "execution_count": 30,
   "metadata": {},
   "outputs": [
    {
     "name": "stderr",
     "output_type": "stream",
     "text": [
      "/var/folders/tt/_dxmbtvs2hg3dvltgsw9jfcsb99qpj/T/ipykernel_17196/2342849848.py:32: UserWarning: To copy construct from a tensor, it is recommended to use sourceTensor.clone().detach() or sourceTensor.clone().detach().requires_grad_(True), rather than torch.tensor(sourceTensor).\n",
      "  X_train = torch.tensor(X_train).type(FloatTensor)\n",
      "/var/folders/tt/_dxmbtvs2hg3dvltgsw9jfcsb99qpj/T/ipykernel_17196/2342849848.py:33: UserWarning: To copy construct from a tensor, it is recommended to use sourceTensor.clone().detach() or sourceTensor.clone().detach().requires_grad_(True), rather than torch.tensor(sourceTensor).\n",
      "  X_test = torch.tensor(X_test).type(FloatTensor)\n"
     ]
    },
    {
     "name": "stdout",
     "output_type": "stream",
     "text": [
      "v = 0.0: accuracy = 0.9255\n",
      "v = 0.034482758620689655: accuracy = 0.9323\n",
      "v = 0.06896551724137931: accuracy = 0.9358\n",
      "v = 0.10344827586206896: accuracy = 0.9338\n",
      "v = 0.13793103448275862: accuracy = 0.9236\n",
      "v = 0.1724137931034483: accuracy = 0.9279\n",
      "v = 0.20689655172413793: accuracy = 0.9234\n",
      "v = 0.24137931034482757: accuracy = 0.927\n",
      "v = 0.27586206896551724: accuracy = 0.9311\n",
      "v = 0.3103448275862069: accuracy = 0.9325\n",
      "v = 0.3448275862068966: accuracy = 0.932\n",
      "v = 0.3793103448275862: accuracy = 0.9291\n",
      "v = 0.41379310344827586: accuracy = 0.9357\n",
      "v = 0.4482758620689655: accuracy = 0.9256\n",
      "v = 0.48275862068965514: accuracy = 0.9332\n",
      "v = 0.5172413793103449: accuracy = 0.9369\n",
      "v = 0.5517241379310345: accuracy = 0.9307\n",
      "v = 0.5862068965517241: accuracy = 0.928\n",
      "v = 0.6206896551724138: accuracy = 0.9252\n",
      "v = 0.6551724137931034: accuracy = 0.9171\n",
      "v = 0.6896551724137931: accuracy = 0.9365\n",
      "v = 0.7241379310344828: accuracy = 0.9295\n",
      "v = 0.7586206896551724: accuracy = 0.9328\n",
      "v = 0.7931034482758621: accuracy = 0.9264\n",
      "v = 0.8275862068965517: accuracy = 0.9249\n",
      "v = 0.8620689655172413: accuracy = 0.9316\n",
      "v = 0.896551724137931: accuracy = 0.9345\n",
      "v = 0.9310344827586207: accuracy = 0.922\n",
      "v = 0.9655172413793103: accuracy = 0.9302\n",
      "v = 1.0: accuracy = 0.9315\n"
     ]
    }
   ],
   "source": [
    "for v in v_list:\n",
    "    \n",
    "    net = torch.nn.Sequential(\n",
    "        nn.Linear(784, 512),\n",
    "        nn.PReLU(512),\n",
    "        nn.BatchNorm1d(512),\n",
    "        nn.Linear(512, 512),\n",
    "        nn.PReLU(512),\n",
    "        nn.BatchNorm1d(512),\n",
    "        nn.Linear(512, 10)\n",
    "    )\n",
    "    net = net.type(FloatTensor)\n",
    "    \n",
    "    params = net.parameters()\n",
    "    optimizer = torch.optim.Adam(params=params, lr=0.001)\n",
    "\n",
    "    for i in range(1000):\n",
    "        net.train()\n",
    "        anchors, positives, negatives = create_batch(100)\n",
    "        net.zero_grad()\n",
    "        anchors = net(torch.tensor(anchors).type(FloatTensor))\n",
    "        positives = net(torch.tensor(positives).type(FloatTensor))\n",
    "        negatives = net(torch.tensor(negatives).type(FloatTensor))\n",
    "        dp = ((anchors - positives) ** 2).sum(axis=1)\n",
    "        dn = ((anchors - negatives) ** 2).sum(axis=1)\n",
    "        loss = torch.mean(torch.clamp((torch.clamp(dp, min=v)) ** 2  - dn ** 2 + m, min=0.0))\n",
    "        loss.backward()\n",
    "        optimizer.step()\n",
    "\n",
    "    net.eval()\n",
    "                \n",
    "    X_train = torch.tensor(X_train).type(FloatTensor)\n",
    "    X_test = torch.tensor(X_test).type(FloatTensor)\n",
    "    train_emb = net(X_train).cpu().detach()\n",
    "    test_emb = net(X_test).cpu().detach()\n",
    "    train_dict = make_dict(train_emb, y_train)\n",
    "    y_test = test_data.targets.numpy()\n",
    "    res = calculate_accuracy(test_emb, train_dict, y_test)\n",
    "    triplet_res_map[v] = res\n",
    "    print(f'v = {v}: accuracy = {res}')"
   ]
  },
  {
   "cell_type": "code",
   "execution_count": null,
   "metadata": {},
   "outputs": [],
   "source": []
  },
  {
   "cell_type": "code",
   "execution_count": 40,
   "metadata": {},
   "outputs": [
    {
     "data": {
      "image/png": "[encoded data removed]",
      "text/plain": [
       "<Figure size 1800x800 with 1 Axes>"
      ]
     },
     "metadata": {},
     "output_type": "display_data"
    }
   ],
   "source": [
    "fig = plt.figure(figsize=(18, 8))\n",
    "plt.plot(triplet_res_map.keys(), triplet_res_map.values(), color='red', marker='.', ms=12)\n",
    "plt.title('График зависимости точности классификации с тройными потерями от параметра v при m = 2', fontsize=20)\n",
    "plt.xlabel('Значения параметра v', fontsize=15)\n",
    "plt.ylabel('Точность классификации', fontsize=15)\n",
    "plt.xticks(np.arange(0, 1.1, 0.1))\n",
    "# plt.yticks(np.arange(0, 2.2, 0.2))\n",
    "# plt.ylim([0.95, 1])\n",
    "plt.show()"
   ]
  },
  {
   "cell_type": "code",
   "execution_count": 41,
   "metadata": {},
   "outputs": [
    {
     "name": "stderr",
     "output_type": "stream",
     "text": [
      "Zapf NOT subset; don't know how to subset; dropped\n",
      "fdsc NOT subset; don't know how to subset; dropped\n",
      "feat NOT subset; don't know how to subset; dropped\n",
      "morx NOT subset; don't know how to subset; dropped\n"
     ]
    }
   ],
   "source": [
    "fig.savefig('triplet_loss_acc.pdf', format='pdf', dpi=600)"
   ]
  },
  {
   "cell_type": "code",
   "execution_count": 42,
   "metadata": {},
   "outputs": [
    {
     "name": "stdout",
     "output_type": "stream",
     "text": [
      "{0.0: 0.9255, 0.034482758620689655: 0.9323, 0.06896551724137931: 0.9358, 0.10344827586206896: 0.9352, 0.13793103448275862: 0.9342, 0.1724137931034483: 0.9347, 0.20689655172413793: 0.9349, 0.24137931034482757: 0.9355, 0.27586206896551724: 0.9333, 0.3103448275862069: 0.9325, 0.3448275862068966: 0.932, 0.3793103448275862: 0.9291, 0.41379310344827586: 0.9284, 0.4482758620689655: 0.9256, 0.48275862068965514: 0.9277, 0.5172413793103449: 0.9273, 0.5517241379310345: 0.9275, 0.5862068965517241: 0.928, 0.6206896551724138: 0.9252, 0.6551724137931034: 0.9258, 0.6896551724137931: 0.9281, 0.7241379310344828: 0.9295, 0.7586206896551724: 0.9274, 0.7931034482758621: 0.9264, 0.8275862068965517: 0.9249, 0.8620689655172413: 0.9269, 0.896551724137931: 0.9243, 0.9310344827586207: 0.922, 0.9655172413793103: 0.9218, 1.0: 0.9212}\n"
     ]
    }
   ],
   "source": [
    "print(triplet_res_map)"
   ]
  },
  {
   "cell_type": "code",
   "execution_count": null,
   "metadata": {},
   "outputs": [],
   "source": []
  },
  {
   "cell_type": "code",
   "execution_count": null,
   "metadata": {},
   "outputs": [],
   "source": []
  },
  {
   "cell_type": "code",
   "execution_count": null,
   "metadata": {},
   "outputs": [],
   "source": []
  },
  {
   "cell_type": "code",
   "execution_count": 144,
   "metadata": {},
   "outputs": [],
   "source": [
    "m = np.linspace(1.0, 10.0, num=20)\n",
    "v = np.linspace(0.0, 2.0, num=20)\n",
    "res_map_triplet = dict()"
   ]
  },
  {
   "cell_type": "code",
   "execution_count": 146,
   "metadata": {},
   "outputs": [
    {
     "name": "stderr",
     "output_type": "stream",
     "text": [
      "/var/folders/tt/_dxmbtvs2hg3dvltgsw9jfcsb99qpj/T/ipykernel_10174/3349413298.py:33: UserWarning: To copy construct from a tensor, it is recommended to use sourceTensor.clone().detach() or sourceTensor.clone().detach().requires_grad_(True), rather than torch.tensor(sourceTensor).\n",
      "  X_train = torch.tensor(X_train).type(FloatTensor)\n",
      "/var/folders/tt/_dxmbtvs2hg3dvltgsw9jfcsb99qpj/T/ipykernel_10174/3349413298.py:34: UserWarning: To copy construct from a tensor, it is recommended to use sourceTensor.clone().detach() or sourceTensor.clone().detach().requires_grad_(True), rather than torch.tensor(sourceTensor).\n",
      "  X_test = torch.tensor(X_test).type(FloatTensor)\n"
     ]
    },
    {
     "name": "stdout",
     "output_type": "stream",
     "text": [
      "m = 1.0, v = 0.0: accuracy = 0.929\n",
      "m = 1.0, v = 0.10526315789473684: accuracy = 0.926\n",
      "m = 1.0, v = 0.21052631578947367: accuracy = 0.9278\n",
      "m = 1.0, v = 0.3157894736842105: accuracy = 0.9311\n",
      "m = 1.0, v = 0.42105263157894735: accuracy = 0.9282\n",
      "m = 1.0, v = 0.5263157894736842: accuracy = 0.93\n",
      "m = 1.0, v = 0.631578947368421: accuracy = 0.9296\n",
      "m = 1.0, v = 0.7368421052631579: accuracy = 0.9351\n",
      "m = 1.0, v = 0.8421052631578947: accuracy = 0.9283\n",
      "m = 1.0, v = 0.9473684210526315: accuracy = 0.9191\n",
      "m = 1.4736842105263157, v = 0.0: accuracy = 0.9313\n",
      "m = 1.4736842105263157, v = 0.10526315789473684: accuracy = 0.9294\n",
      "m = 1.4736842105263157, v = 0.21052631578947367: accuracy = 0.9216\n",
      "m = 1.4736842105263157, v = 0.3157894736842105: accuracy = 0.9279\n",
      "m = 1.4736842105263157, v = 0.42105263157894735: accuracy = 0.9365\n",
      "m = 1.4736842105263157, v = 0.5263157894736842: accuracy = 0.9347\n",
      "m = 1.4736842105263157, v = 0.631578947368421: accuracy = 0.9294\n",
      "m = 1.4736842105263157, v = 0.7368421052631579: accuracy = 0.9287\n",
      "m = 1.4736842105263157, v = 0.8421052631578947: accuracy = 0.9326\n",
      "m = 1.4736842105263157, v = 0.9473684210526315: accuracy = 0.9271\n",
      "m = 1.4736842105263157, v = 1.0526315789473684: accuracy = 0.9203\n",
      "m = 1.4736842105263157, v = 1.1578947368421053: accuracy = 0.9315\n",
      "m = 1.4736842105263157, v = 1.263157894736842: accuracy = 0.9225\n",
      "m = 1.4736842105263157, v = 1.3684210526315788: accuracy = 0.9306\n",
      "m = 1.9473684210526314, v = 0.0: accuracy = 0.9338\n",
      "m = 1.9473684210526314, v = 0.10526315789473684: accuracy = 0.9324\n",
      "m = 1.9473684210526314, v = 0.21052631578947367: accuracy = 0.9328\n",
      "m = 1.9473684210526314, v = 0.3157894736842105: accuracy = 0.9355\n",
      "m = 1.9473684210526314, v = 0.42105263157894735: accuracy = 0.9321\n",
      "m = 1.9473684210526314, v = 0.5263157894736842: accuracy = 0.9368\n",
      "m = 1.9473684210526314, v = 0.631578947368421: accuracy = 0.932\n",
      "m = 1.9473684210526314, v = 0.7368421052631579: accuracy = 0.9265\n",
      "m = 1.9473684210526314, v = 0.8421052631578947: accuracy = 0.9302\n",
      "m = 1.9473684210526314, v = 0.9473684210526315: accuracy = 0.927\n",
      "m = 1.9473684210526314, v = 1.0526315789473684: accuracy = 0.9236\n",
      "m = 1.9473684210526314, v = 1.1578947368421053: accuracy = 0.9298\n",
      "m = 1.9473684210526314, v = 1.263157894736842: accuracy = 0.928\n",
      "m = 1.9473684210526314, v = 1.3684210526315788: accuracy = 0.9372\n",
      "m = 1.9473684210526314, v = 1.4736842105263157: accuracy = 0.9169\n",
      "m = 1.9473684210526314, v = 1.5789473684210527: accuracy = 0.9245\n",
      "m = 1.9473684210526314, v = 1.6842105263157894: accuracy = 0.9285\n",
      "m = 1.9473684210526314, v = 1.789473684210526: accuracy = 0.9132\n",
      "m = 1.9473684210526314, v = 1.894736842105263: accuracy = 0.9136\n",
      "m = 2.4210526315789473, v = 0.0: accuracy = 0.9323\n",
      "m = 2.4210526315789473, v = 0.10526315789473684: accuracy = 0.9341\n",
      "m = 2.4210526315789473, v = 0.21052631578947367: accuracy = 0.9307\n",
      "m = 2.4210526315789473, v = 0.3157894736842105: accuracy = 0.9301\n",
      "m = 2.4210526315789473, v = 0.42105263157894735: accuracy = 0.9313\n",
      "m = 2.4210526315789473, v = 0.5263157894736842: accuracy = 0.9305\n",
      "m = 2.4210526315789473, v = 0.631578947368421: accuracy = 0.9339\n",
      "m = 2.4210526315789473, v = 0.7368421052631579: accuracy = 0.9341\n",
      "m = 2.4210526315789473, v = 0.8421052631578947: accuracy = 0.9257\n",
      "m = 2.4210526315789473, v = 0.9473684210526315: accuracy = 0.9221\n",
      "m = 2.4210526315789473, v = 1.0526315789473684: accuracy = 0.9379\n",
      "m = 2.4210526315789473, v = 1.1578947368421053: accuracy = 0.9332\n",
      "m = 2.4210526315789473, v = 1.263157894736842: accuracy = 0.9165\n",
      "m = 2.4210526315789473, v = 1.3684210526315788: accuracy = 0.9325\n",
      "m = 2.4210526315789473, v = 1.4736842105263157: accuracy = 0.9161\n",
      "m = 2.4210526315789473, v = 1.5789473684210527: accuracy = 0.93\n",
      "m = 2.4210526315789473, v = 1.6842105263157894: accuracy = 0.9262\n",
      "m = 2.4210526315789473, v = 1.789473684210526: accuracy = 0.9239\n",
      "m = 2.4210526315789473, v = 1.894736842105263: accuracy = 0.925\n",
      "m = 2.4210526315789473, v = 2.0: accuracy = 0.9299\n",
      "m = 2.894736842105263, v = 0.0: accuracy = 0.9276\n",
      "m = 2.894736842105263, v = 0.10526315789473684: accuracy = 0.9347\n",
      "m = 2.894736842105263, v = 0.21052631578947367: accuracy = 0.9288\n",
      "m = 2.894736842105263, v = 0.3157894736842105: accuracy = 0.9336\n",
      "m = 2.894736842105263, v = 0.42105263157894735: accuracy = 0.9351\n",
      "m = 2.894736842105263, v = 0.5263157894736842: accuracy = 0.9237\n",
      "m = 2.894736842105263, v = 0.631578947368421: accuracy = 0.9252\n",
      "m = 2.894736842105263, v = 0.7368421052631579: accuracy = 0.9195\n",
      "m = 2.894736842105263, v = 0.8421052631578947: accuracy = 0.9329\n",
      "m = 2.894736842105263, v = 0.9473684210526315: accuracy = 0.935\n",
      "m = 2.894736842105263, v = 1.0526315789473684: accuracy = 0.9235\n",
      "m = 2.894736842105263, v = 1.1578947368421053: accuracy = 0.9263\n",
      "m = 2.894736842105263, v = 1.263157894736842: accuracy = 0.9111\n",
      "m = 2.894736842105263, v = 1.3684210526315788: accuracy = 0.9388\n",
      "m = 2.894736842105263, v = 1.4736842105263157: accuracy = 0.9332\n",
      "m = 2.894736842105263, v = 1.5789473684210527: accuracy = 0.93\n",
      "m = 2.894736842105263, v = 1.6842105263157894: accuracy = 0.916\n",
      "m = 2.894736842105263, v = 1.789473684210526: accuracy = 0.9309\n",
      "m = 2.894736842105263, v = 1.894736842105263: accuracy = 0.9313\n",
      "m = 2.894736842105263, v = 2.0: accuracy = 0.9265\n",
      "m = 3.3684210526315788, v = 0.0: accuracy = 0.9268\n",
      "m = 3.3684210526315788, v = 0.10526315789473684: accuracy = 0.9265\n",
      "m = 3.3684210526315788, v = 0.21052631578947367: accuracy = 0.9145\n",
      "m = 3.3684210526315788, v = 0.3157894736842105: accuracy = 0.9337\n",
      "m = 3.3684210526315788, v = 0.42105263157894735: accuracy = 0.9261\n",
      "m = 3.3684210526315788, v = 0.5263157894736842: accuracy = 0.9391\n",
      "m = 3.3684210526315788, v = 0.631578947368421: accuracy = 0.928\n",
      "m = 3.3684210526315788, v = 0.7368421052631579: accuracy = 0.9277\n",
      "m = 3.3684210526315788, v = 0.8421052631578947: accuracy = 0.9322\n",
      "m = 3.3684210526315788, v = 0.9473684210526315: accuracy = 0.9337\n",
      "m = 3.3684210526315788, v = 1.0526315789473684: accuracy = 0.9335\n",
      "m = 3.3684210526315788, v = 1.1578947368421053: accuracy = 0.9316\n",
      "m = 3.3684210526315788, v = 1.263157894736842: accuracy = 0.9266\n",
      "m = 3.3684210526315788, v = 1.3684210526315788: accuracy = 0.9372\n",
      "m = 3.3684210526315788, v = 1.4736842105263157: accuracy = 0.9115\n",
      "m = 3.3684210526315788, v = 1.5789473684210527: accuracy = 0.9278\n",
      "m = 3.3684210526315788, v = 1.6842105263157894: accuracy = 0.9288\n",
      "m = 3.3684210526315788, v = 1.789473684210526: accuracy = 0.9255\n",
      "m = 3.3684210526315788, v = 1.894736842105263: accuracy = 0.9344\n",
      "m = 3.3684210526315788, v = 2.0: accuracy = 0.9172\n",
      "m = 3.8421052631578947, v = 0.0: accuracy = 0.9293\n",
      "m = 3.8421052631578947, v = 0.10526315789473684: accuracy = 0.9269\n",
      "m = 3.8421052631578947, v = 0.21052631578947367: accuracy = 0.931\n",
      "m = 3.8421052631578947, v = 0.3157894736842105: accuracy = 0.9306\n",
      "m = 3.8421052631578947, v = 0.42105263157894735: accuracy = 0.9218\n",
      "m = 3.8421052631578947, v = 0.5263157894736842: accuracy = 0.9366\n",
      "m = 3.8421052631578947, v = 0.631578947368421: accuracy = 0.9327\n",
      "m = 3.8421052631578947, v = 0.7368421052631579: accuracy = 0.9373\n",
      "m = 3.8421052631578947, v = 0.8421052631578947: accuracy = 0.9251\n",
      "m = 3.8421052631578947, v = 0.9473684210526315: accuracy = 0.929\n",
      "m = 3.8421052631578947, v = 1.0526315789473684: accuracy = 0.9341\n",
      "m = 3.8421052631578947, v = 1.1578947368421053: accuracy = 0.9283\n",
      "m = 3.8421052631578947, v = 1.263157894736842: accuracy = 0.926\n",
      "m = 3.8421052631578947, v = 1.3684210526315788: accuracy = 0.9199\n",
      "m = 3.8421052631578947, v = 1.4736842105263157: accuracy = 0.9204\n",
      "m = 3.8421052631578947, v = 1.5789473684210527: accuracy = 0.9075\n",
      "m = 3.8421052631578947, v = 1.6842105263157894: accuracy = 0.9252\n",
      "m = 3.8421052631578947, v = 1.789473684210526: accuracy = 0.9225\n",
      "m = 3.8421052631578947, v = 1.894736842105263: accuracy = 0.9291\n",
      "m = 3.8421052631578947, v = 2.0: accuracy = 0.9333\n",
      "m = 4.315789473684211, v = 0.0: accuracy = 0.9366\n",
      "m = 4.315789473684211, v = 0.10526315789473684: accuracy = 0.931\n",
      "m = 4.315789473684211, v = 0.21052631578947367: accuracy = 0.9404\n",
      "m = 4.315789473684211, v = 0.3157894736842105: accuracy = 0.9307\n",
      "m = 4.315789473684211, v = 0.42105263157894735: accuracy = 0.9289\n",
      "m = 4.315789473684211, v = 0.5263157894736842: accuracy = 0.9356\n",
      "m = 4.315789473684211, v = 0.631578947368421: accuracy = 0.9191\n",
      "m = 4.315789473684211, v = 0.7368421052631579: accuracy = 0.9331\n",
      "m = 4.315789473684211, v = 0.8421052631578947: accuracy = 0.9284\n",
      "m = 4.315789473684211, v = 0.9473684210526315: accuracy = 0.9399\n",
      "m = 4.315789473684211, v = 1.0526315789473684: accuracy = 0.9328\n",
      "m = 4.315789473684211, v = 1.1578947368421053: accuracy = 0.9354\n",
      "m = 4.315789473684211, v = 1.263157894736842: accuracy = 0.9371\n",
      "m = 4.315789473684211, v = 1.3684210526315788: accuracy = 0.9257\n",
      "m = 4.315789473684211, v = 1.4736842105263157: accuracy = 0.9356\n",
      "m = 4.315789473684211, v = 1.5789473684210527: accuracy = 0.9347\n",
      "m = 4.315789473684211, v = 1.6842105263157894: accuracy = 0.9325\n",
      "m = 4.315789473684211, v = 1.789473684210526: accuracy = 0.9253\n",
      "m = 4.315789473684211, v = 1.894736842105263: accuracy = 0.9332\n",
      "m = 4.315789473684211, v = 2.0: accuracy = 0.9171\n",
      "m = 4.789473684210526, v = 0.0: accuracy = 0.9348\n",
      "m = 4.789473684210526, v = 0.10526315789473684: accuracy = 0.9336\n",
      "m = 4.789473684210526, v = 0.21052631578947367: accuracy = 0.9363\n",
      "m = 4.789473684210526, v = 0.3157894736842105: accuracy = 0.9346\n",
      "m = 4.789473684210526, v = 0.42105263157894735: accuracy = 0.9272\n",
      "m = 4.789473684210526, v = 0.5263157894736842: accuracy = 0.9261\n",
      "m = 4.789473684210526, v = 0.631578947368421: accuracy = 0.9341\n",
      "m = 4.789473684210526, v = 0.7368421052631579: accuracy = 0.9345\n",
      "m = 4.789473684210526, v = 0.8421052631578947: accuracy = 0.9377\n",
      "m = 4.789473684210526, v = 0.9473684210526315: accuracy = 0.9371\n",
      "m = 4.789473684210526, v = 1.0526315789473684: accuracy = 0.9308\n",
      "m = 4.789473684210526, v = 1.1578947368421053: accuracy = 0.9309\n",
      "m = 4.789473684210526, v = 1.263157894736842: accuracy = 0.9352\n",
      "m = 4.789473684210526, v = 1.3684210526315788: accuracy = 0.9225\n",
      "m = 4.789473684210526, v = 1.4736842105263157: accuracy = 0.9291\n",
      "m = 4.789473684210526, v = 1.5789473684210527: accuracy = 0.9344\n",
      "m = 4.789473684210526, v = 1.6842105263157894: accuracy = 0.9337\n",
      "m = 4.789473684210526, v = 1.789473684210526: accuracy = 0.9246\n",
      "m = 4.789473684210526, v = 1.894736842105263: accuracy = 0.9202\n",
      "m = 4.789473684210526, v = 2.0: accuracy = 0.9328\n",
      "m = 5.263157894736842, v = 0.0: accuracy = 0.936\n",
      "m = 5.263157894736842, v = 0.10526315789473684: accuracy = 0.9328\n",
      "m = 5.263157894736842, v = 0.21052631578947367: accuracy = 0.9327\n",
      "m = 5.263157894736842, v = 0.3157894736842105: accuracy = 0.9396\n",
      "m = 5.263157894736842, v = 0.42105263157894735: accuracy = 0.9396\n",
      "m = 5.263157894736842, v = 0.5263157894736842: accuracy = 0.9293\n",
      "m = 5.263157894736842, v = 0.631578947368421: accuracy = 0.9259\n",
      "m = 5.263157894736842, v = 0.7368421052631579: accuracy = 0.9265\n",
      "m = 5.263157894736842, v = 0.8421052631578947: accuracy = 0.9362\n",
      "m = 5.263157894736842, v = 0.9473684210526315: accuracy = 0.9305\n",
      "m = 5.263157894736842, v = 1.0526315789473684: accuracy = 0.9398\n",
      "m = 5.263157894736842, v = 1.1578947368421053: accuracy = 0.9311\n",
      "m = 5.263157894736842, v = 1.263157894736842: accuracy = 0.9368\n",
      "m = 5.263157894736842, v = 1.3684210526315788: accuracy = 0.8956\n",
      "m = 5.263157894736842, v = 1.4736842105263157: accuracy = 0.9209\n",
      "m = 5.263157894736842, v = 1.5789473684210527: accuracy = 0.9334\n",
      "m = 5.263157894736842, v = 1.6842105263157894: accuracy = 0.9319\n"
     ]
    },
    {
     "ename": "KeyboardInterrupt",
     "evalue": "",
     "output_type": "error",
     "traceback": [
      "\u001b[0;31m---------------------------------------------------------------------------\u001b[0m",
      "\u001b[0;31mKeyboardInterrupt\u001b[0m                         Traceback (most recent call last)",
      "Cell \u001b[0;32mIn[146], line 30\u001b[0m\n\u001b[1;32m     28\u001b[0m     dn \u001b[38;5;241m=\u001b[39m ((anchors \u001b[38;5;241m-\u001b[39m negatives) \u001b[38;5;241m*\u001b[39m\u001b[38;5;241m*\u001b[39m \u001b[38;5;241m2\u001b[39m)\u001b[38;5;241m.\u001b[39msum(axis\u001b[38;5;241m=\u001b[39m\u001b[38;5;241m1\u001b[39m)\n\u001b[1;32m     29\u001b[0m     loss \u001b[38;5;241m=\u001b[39m torch\u001b[38;5;241m.\u001b[39mmean(torch\u001b[38;5;241m.\u001b[39mclamp((torch\u001b[38;5;241m.\u001b[39mclamp(dp, \u001b[38;5;28mmin\u001b[39m\u001b[38;5;241m=\u001b[39mv_value)) \u001b[38;5;241m*\u001b[39m\u001b[38;5;241m*\u001b[39m \u001b[38;5;241m2\u001b[39m  \u001b[38;5;241m-\u001b[39m dn \u001b[38;5;241m*\u001b[39m\u001b[38;5;241m*\u001b[39m \u001b[38;5;241m2\u001b[39m \u001b[38;5;241m+\u001b[39m m_value, \u001b[38;5;28mmin\u001b[39m\u001b[38;5;241m=\u001b[39m\u001b[38;5;241m0.0\u001b[39m))\n\u001b[0;32m---> 30\u001b[0m     \u001b[43mloss\u001b[49m\u001b[38;5;241;43m.\u001b[39;49m\u001b[43mbackward\u001b[49m\u001b[43m(\u001b[49m\u001b[43m)\u001b[49m\n\u001b[1;32m     31\u001b[0m     optimizer\u001b[38;5;241m.\u001b[39mstep()\n\u001b[1;32m     33\u001b[0m X_train \u001b[38;5;241m=\u001b[39m torch\u001b[38;5;241m.\u001b[39mtensor(X_train)\u001b[38;5;241m.\u001b[39mtype(FloatTensor)\n",
      "File \u001b[0;32m~/.pyenv/versions/3.9.2/lib/python3.9/site-packages/torch/_tensor.py:581\u001b[0m, in \u001b[0;36mTensor.backward\u001b[0;34m(self, gradient, retain_graph, create_graph, inputs)\u001b[0m\n\u001b[1;32m    571\u001b[0m \u001b[38;5;28;01mif\u001b[39;00m has_torch_function_unary(\u001b[38;5;28mself\u001b[39m):\n\u001b[1;32m    572\u001b[0m     \u001b[38;5;28;01mreturn\u001b[39;00m handle_torch_function(\n\u001b[1;32m    573\u001b[0m         Tensor\u001b[38;5;241m.\u001b[39mbackward,\n\u001b[1;32m    574\u001b[0m         (\u001b[38;5;28mself\u001b[39m,),\n\u001b[0;32m   (...)\u001b[0m\n\u001b[1;32m    579\u001b[0m         inputs\u001b[38;5;241m=\u001b[39minputs,\n\u001b[1;32m    580\u001b[0m     )\n\u001b[0;32m--> 581\u001b[0m \u001b[43mtorch\u001b[49m\u001b[38;5;241;43m.\u001b[39;49m\u001b[43mautograd\u001b[49m\u001b[38;5;241;43m.\u001b[39;49m\u001b[43mbackward\u001b[49m\u001b[43m(\u001b[49m\n\u001b[1;32m    582\u001b[0m \u001b[43m    \u001b[49m\u001b[38;5;28;43mself\u001b[39;49m\u001b[43m,\u001b[49m\u001b[43m \u001b[49m\u001b[43mgradient\u001b[49m\u001b[43m,\u001b[49m\u001b[43m \u001b[49m\u001b[43mretain_graph\u001b[49m\u001b[43m,\u001b[49m\u001b[43m \u001b[49m\u001b[43mcreate_graph\u001b[49m\u001b[43m,\u001b[49m\u001b[43m \u001b[49m\u001b[43minputs\u001b[49m\u001b[38;5;241;43m=\u001b[39;49m\u001b[43minputs\u001b[49m\n\u001b[1;32m    583\u001b[0m \u001b[43m\u001b[49m\u001b[43m)\u001b[49m\n",
      "File \u001b[0;32m~/.pyenv/versions/3.9.2/lib/python3.9/site-packages/torch/autograd/__init__.py:347\u001b[0m, in \u001b[0;36mbackward\u001b[0;34m(tensors, grad_tensors, retain_graph, create_graph, grad_variables, inputs)\u001b[0m\n\u001b[1;32m    342\u001b[0m     retain_graph \u001b[38;5;241m=\u001b[39m create_graph\n\u001b[1;32m    344\u001b[0m \u001b[38;5;66;03m# The reason we repeat the same comment below is that\u001b[39;00m\n\u001b[1;32m    345\u001b[0m \u001b[38;5;66;03m# some Python versions print out the first line of a multi-line function\u001b[39;00m\n\u001b[1;32m    346\u001b[0m \u001b[38;5;66;03m# calls in the traceback and some print out the last line\u001b[39;00m\n\u001b[0;32m--> 347\u001b[0m \u001b[43m_engine_run_backward\u001b[49m\u001b[43m(\u001b[49m\n\u001b[1;32m    348\u001b[0m \u001b[43m    \u001b[49m\u001b[43mtensors\u001b[49m\u001b[43m,\u001b[49m\n\u001b[1;32m    349\u001b[0m \u001b[43m    \u001b[49m\u001b[43mgrad_tensors_\u001b[49m\u001b[43m,\u001b[49m\n\u001b[1;32m    350\u001b[0m \u001b[43m    \u001b[49m\u001b[43mretain_graph\u001b[49m\u001b[43m,\u001b[49m\n\u001b[1;32m    351\u001b[0m \u001b[43m    \u001b[49m\u001b[43mcreate_graph\u001b[49m\u001b[43m,\u001b[49m\n\u001b[1;32m    352\u001b[0m \u001b[43m    \u001b[49m\u001b[43minputs\u001b[49m\u001b[43m,\u001b[49m\n\u001b[1;32m    353\u001b[0m \u001b[43m    \u001b[49m\u001b[43mallow_unreachable\u001b[49m\u001b[38;5;241;43m=\u001b[39;49m\u001b[38;5;28;43;01mTrue\u001b[39;49;00m\u001b[43m,\u001b[49m\n\u001b[1;32m    354\u001b[0m \u001b[43m    \u001b[49m\u001b[43maccumulate_grad\u001b[49m\u001b[38;5;241;43m=\u001b[39;49m\u001b[38;5;28;43;01mTrue\u001b[39;49;00m\u001b[43m,\u001b[49m\n\u001b[1;32m    355\u001b[0m \u001b[43m\u001b[49m\u001b[43m)\u001b[49m\n",
      "File \u001b[0;32m~/.pyenv/versions/3.9.2/lib/python3.9/site-packages/torch/autograd/graph.py:825\u001b[0m, in \u001b[0;36m_engine_run_backward\u001b[0;34m(t_outputs, *args, **kwargs)\u001b[0m\n\u001b[1;32m    823\u001b[0m     unregister_hooks \u001b[38;5;241m=\u001b[39m _register_logging_hooks_on_whole_graph(t_outputs)\n\u001b[1;32m    824\u001b[0m \u001b[38;5;28;01mtry\u001b[39;00m:\n\u001b[0;32m--> 825\u001b[0m     \u001b[38;5;28;01mreturn\u001b[39;00m \u001b[43mVariable\u001b[49m\u001b[38;5;241;43m.\u001b[39;49m\u001b[43m_execution_engine\u001b[49m\u001b[38;5;241;43m.\u001b[39;49m\u001b[43mrun_backward\u001b[49m\u001b[43m(\u001b[49m\u001b[43m  \u001b[49m\u001b[38;5;66;43;03m# Calls into the C++ engine to run the backward pass\u001b[39;49;00m\n\u001b[1;32m    826\u001b[0m \u001b[43m        \u001b[49m\u001b[43mt_outputs\u001b[49m\u001b[43m,\u001b[49m\u001b[43m \u001b[49m\u001b[38;5;241;43m*\u001b[39;49m\u001b[43margs\u001b[49m\u001b[43m,\u001b[49m\u001b[43m \u001b[49m\u001b[38;5;241;43m*\u001b[39;49m\u001b[38;5;241;43m*\u001b[39;49m\u001b[43mkwargs\u001b[49m\n\u001b[1;32m    827\u001b[0m \u001b[43m    \u001b[49m\u001b[43m)\u001b[49m  \u001b[38;5;66;03m# Calls into the C++ engine to run the backward pass\u001b[39;00m\n\u001b[1;32m    828\u001b[0m \u001b[38;5;28;01mfinally\u001b[39;00m:\n\u001b[1;32m    829\u001b[0m     \u001b[38;5;28;01mif\u001b[39;00m attach_logging_hooks:\n",
      "\u001b[0;31mKeyboardInterrupt\u001b[0m: "
     ]
    }
   ],
   "source": [
    "for m_value in m:\n",
    "    for v_value in v:\n",
    "        if v_value >= m_value:\n",
    "            continue\n",
    "        \n",
    "        net = torch.nn.Sequential(\n",
    "            nn.Linear(784, 512),\n",
    "            nn.PReLU(512),\n",
    "            nn.BatchNorm1d(512),\n",
    "            nn.Linear(512, 512),\n",
    "            nn.PReLU(512),\n",
    "            nn.BatchNorm1d(512),\n",
    "            nn.Linear(512, 10)\n",
    "        )\n",
    "        net = net.type(FloatTensor)\n",
    "        \n",
    "        params = net.parameters()\n",
    "        optimizer = torch.optim.Adam(params=params, lr=0.001)\n",
    "\n",
    "        for i in range(1000):\n",
    "            net.train()\n",
    "            anchors, positives, negatives = create_batch(100)\n",
    "            net.zero_grad()\n",
    "            anchors = net(torch.tensor(anchors).type(FloatTensor))\n",
    "            positives = net(torch.tensor(positives).type(FloatTensor))\n",
    "            negatives = net(torch.tensor(negatives).type(FloatTensor))\n",
    "            dp = ((anchors - positives) ** 2).sum(axis=1)\n",
    "            dn = ((anchors - negatives) ** 2).sum(axis=1)\n",
    "            loss = torch.mean(torch.clamp((torch.clamp(dp, min=v_value)) ** 2  - dn ** 2 + m_value, min=0.0))\n",
    "            loss.backward()\n",
    "            optimizer.step()\n",
    "                    \n",
    "        X_train = torch.tensor(X_train).type(FloatTensor)\n",
    "        X_test = torch.tensor(X_test).type(FloatTensor)\n",
    "        train_emb = net(X_train).cpu().detach()\n",
    "        test_emb = net(X_test).cpu().detach()\n",
    "        train_dict = make_dict(train_emb, y_train)\n",
    "        y_test = test_data.targets.numpy()\n",
    "        res = calculate_accuracy(test_emb, train_dict, y_test)\n",
    "        res_map_triplet[(m_value, v_value)] = res\n",
    "        print(f'm = {m_value}, v = {v_value}: accuracy = {res}')"
   ]
  },
  {
   "cell_type": "code",
   "execution_count": null,
   "metadata": {},
   "outputs": [],
   "source": []
  },
  {
   "cell_type": "code",
   "execution_count": 153,
   "metadata": {},
   "outputs": [
    {
     "data": {
      "image/png": "[encoded data removed]",
      "text/plain": [
       "<Figure size 1800x800 with 1 Axes>"
      ]
     },
     "metadata": {},
     "output_type": "display_data"
    }
   ],
   "source": [
    "fig = plt.figure(figsize=(18, 8))\n",
    "plt.plot(best_m, best_v, color='red', marker='.', ms=12)\n",
    "plt.title('График зависимости параметров Triplet Loss, с которыми достигалась лучшая точность', fontsize=19)\n",
    "plt.xlabel('Значения параметра m', fontsize=14)\n",
    "plt.ylabel('Значения параметра v', fontsize=14)\n",
    "plt.xticks(np.arange(1, 11))\n",
    "plt.yticks(np.arange(0, 2.2, 0.2))\n",
    "plt.show()"
   ]
  },
  {
   "cell_type": "code",
   "execution_count": 154,
   "metadata": {},
   "outputs": [
    {
     "name": "stderr",
     "output_type": "stream",
     "text": [
      "Zapf NOT subset; don't know how to subset; dropped\n",
      "fdsc NOT subset; don't know how to subset; dropped\n",
      "feat NOT subset; don't know how to subset; dropped\n",
      "morx NOT subset; don't know how to subset; dropped\n"
     ]
    }
   ],
   "source": [
    "fig.savefig('triplet_loss_params.pdf', format='pdf', dpi=600)"
   ]
  },
  {
   "cell_type": "code",
   "execution_count": null,
   "metadata": {},
   "outputs": [],
   "source": []
  },
  {
   "cell_type": "markdown",
   "metadata": {},
   "source": [
    "# InfoNCE Loss"
   ]
  },
  {
   "cell_type": "code",
   "execution_count": 1114,
   "metadata": {},
   "outputs": [],
   "source": [
    "k = 15"
   ]
  },
  {
   "cell_type": "code",
   "execution_count": 1097,
   "metadata": {},
   "outputs": [],
   "source": [
    "def create_batch(batch_size):\n",
    "    anchors=np.zeros((batch_size, 784))\n",
    "    positives=np.zeros((batch_size, 784))\n",
    "    negatives=np.zeros((batch_size, k, 784))\n",
    "    \n",
    "    for i in range(0, batch_size):\n",
    "            index=random.randint(0,len(X_train)-1)\n",
    "            anc=X_train[index]\n",
    "            label_of_anc=y_train[index]\n",
    "            indices_of_pos=np.squeeze(np.where(y_train==label_of_anc))\n",
    "            indices_of_neg=np.squeeze(np.where(y_train!=label_of_anc))\n",
    "            #print(indices_of_pos)\n",
    "            pos=X_train[indices_of_pos[random.randint(0,len(indices_of_pos)-1)]]\n",
    "            neg=X_train[np.random.choice(indices_of_neg, size=k, replace=False)]\n",
    "            positives[i]=pos\n",
    "            negatives[i]=neg\n",
    "            anchors[i]=anc\n",
    "    return [anchors,positives,negatives]"
   ]
  },
  {
   "cell_type": "code",
   "execution_count": null,
   "metadata": {},
   "outputs": [],
   "source": []
  },
  {
   "cell_type": "code",
   "execution_count": 1098,
   "metadata": {},
   "outputs": [],
   "source": [
    "train_data = torchvision.datasets.MNIST(root='./data/', train=True, download=True)\n",
    "test_data = torchvision.datasets.MNIST(root='./data/', train=False, download=True)"
   ]
  },
  {
   "cell_type": "code",
   "execution_count": 206,
   "metadata": {},
   "outputs": [],
   "source": [
    "# train_data = torchvision.datasets.FashionMNIST(root='./data/', train=True, download=True)\n",
    "# test_data = torchvision.datasets.FashionMNIST(root='./data/', train=False, download=True)"
   ]
  },
  {
   "cell_type": "code",
   "execution_count": 256,
   "metadata": {},
   "outputs": [],
   "source": [
    "# train_data = torchvision.datasets.KMNIST(root='./data/', train=True, download=True)\n",
    "# test_data = torchvision.datasets.KMNIST(root='./data/', train=False, download=True)"
   ]
  },
  {
   "cell_type": "code",
   "execution_count": 1099,
   "metadata": {},
   "outputs": [],
   "source": [
    "X_train = train_data.data.reshape(60000, 784)\n",
    "y_train = train_data.targets\n",
    "X_test = test_data.data.reshape(10000, 784)\n",
    "y_test = test_data.targets"
   ]
  },
  {
   "cell_type": "code",
   "execution_count": 1115,
   "metadata": {},
   "outputs": [],
   "source": [
    "net = torch.nn.Sequential(\n",
    "        nn.Linear(784, 512),\n",
    "        nn.PReLU(512),\n",
    "        nn.BatchNorm1d(512),\n",
    "        nn.Linear(512, 512),\n",
    "        nn.PReLU(512),\n",
    "        nn.BatchNorm1d(512),\n",
    "        nn.Linear(512, 10))\n",
    "\n",
    "net = net.type(FloatTensor)"
   ]
  },
  {
   "cell_type": "code",
   "execution_count": 1116,
   "metadata": {},
   "outputs": [],
   "source": [
    "params = net.parameters()\n",
    "optimizer = torch.optim.Adam(params=params, lr=0.001)"
   ]
  },
  {
   "cell_type": "code",
   "execution_count": null,
   "metadata": {},
   "outputs": [],
   "source": []
  },
  {
   "cell_type": "code",
   "execution_count": 1117,
   "metadata": {},
   "outputs": [],
   "source": [
    "import torch\n",
    "import torch.nn.functional as F\n",
    "from torch import nn"
   ]
  },
  {
   "cell_type": "code",
   "execution_count": 1118,
   "metadata": {},
   "outputs": [],
   "source": [
    "class InfoNCE(nn.Module):\n",
    "    \"\"\"\n",
    "    Calculates the InfoNCE loss for self-supervised learning.\n",
    "    This contrastive loss enforces the embeddings of similar (positive) samples to be close\n",
    "        and those of different (negative) samples to be distant.\n",
    "    A query embedding is compared with one positive key and with one or more negative keys.\n",
    "\n",
    "    References:\n",
    "        https://arxiv.org/abs/1807.03748v2\n",
    "        https://arxiv.org/abs/2010.05113\n",
    "\n",
    "    Args:\n",
    "        temperature: Logits are divided by temperature before calculating the cross entropy.\n",
    "        reduction: Reduction method applied to the output.\n",
    "            Value must be one of ['none', 'sum', 'mean'].\n",
    "            See torch.nn.functional.cross_entropy for more details about each option.\n",
    "        negative_mode: Determines how the (optional) negative_keys are handled.\n",
    "            Value must be one of ['paired', 'unpaired'].\n",
    "            If 'paired', then each query sample is paired with a number of negative keys.\n",
    "            Comparable to a triplet loss, but with multiple negatives per sample.\n",
    "            If 'unpaired', then the set of negative keys are all unrelated to any positive key.\n",
    "\n",
    "    Input shape:\n",
    "        query: (N, D) Tensor with query samples (e.g. embeddings of the input).\n",
    "        positive_key: (N, D) Tensor with positive samples (e.g. embeddings of augmented input).\n",
    "        negative_keys (optional): Tensor with negative samples (e.g. embeddings of other inputs)\n",
    "            If negative_mode = 'paired', then negative_keys is a (N, M, D) Tensor.\n",
    "            If negative_mode = 'unpaired', then negative_keys is a (M, D) Tensor.\n",
    "            If None, then the negative keys for a sample are the positive keys for the other samples.\n",
    "\n",
    "    Returns:\n",
    "         Value of the InfoNCE Loss.\n",
    "\n",
    "     Examples:\n",
    "        >>> loss = InfoNCE()\n",
    "        >>> batch_size, num_negative, embedding_size = 32, 48, 128\n",
    "        >>> query = torch.randn(batch_size, embedding_size)\n",
    "        >>> positive_key = torch.randn(batch_size, embedding_size)\n",
    "        >>> negative_keys = torch.randn(num_negative, embedding_size)\n",
    "        >>> output = loss(query, positive_key, negative_keys)\n",
    "    \"\"\"\n",
    "\n",
    "    def __init__(self, temperature=0.1, reduction='mean', negative_mode='unpaired'):\n",
    "        super().__init__()\n",
    "        self.temperature = temperature\n",
    "        self.reduction = reduction\n",
    "        self.negative_mode = negative_mode\n",
    "\n",
    "    def forward(self, query, positive_key, negative_keys=None):\n",
    "        return info_nce(query, positive_key, negative_keys,\n",
    "                        temperature=self.temperature,\n",
    "                        reduction=self.reduction,\n",
    "                        negative_mode=self.negative_mode)\n",
    "\n",
    "\n",
    "def info_nce(query, positive_key, negative_keys=None, temperature=0.1, reduction='mean', negative_mode='unpaired'):\n",
    "    # Check input dimensionality.\n",
    "    if query.dim() != 2:\n",
    "        raise ValueError('<query> must have 2 dimensions.')\n",
    "    if positive_key.dim() != 2:\n",
    "        raise ValueError('<positive_key> must have 2 dimensions.')\n",
    "    if negative_keys is not None:\n",
    "        if negative_mode == 'unpaired' and negative_keys.dim() != 2:\n",
    "            raise ValueError(\"<negative_keys> must have 2 dimensions if <negative_mode> == 'unpaired'.\")\n",
    "        if negative_mode == 'paired' and negative_keys.dim() != 3:\n",
    "            raise ValueError(\"<negative_keys> must have 3 dimensions if <negative_mode> == 'paired'.\")\n",
    "\n",
    "    # Check matching number of samples.\n",
    "    if len(query) != len(positive_key):\n",
    "        raise ValueError('<query> and <positive_key> must must have the same number of samples.')\n",
    "    if negative_keys is not None:\n",
    "        if negative_mode == 'paired' and len(query) != len(negative_keys):\n",
    "            raise ValueError(\"If negative_mode == 'paired', then <negative_keys> must have the same number of samples as <query>.\")\n",
    "\n",
    "    # Embedding vectors should have same number of components.\n",
    "    if query.shape[-1] != positive_key.shape[-1]:\n",
    "        raise ValueError('Vectors of <query> and <positive_key> should have the same number of components.')\n",
    "    if negative_keys is not None:\n",
    "        if query.shape[-1] != negative_keys.shape[-1]:\n",
    "            raise ValueError('Vectors of <query> and <negative_keys> should have the same number of components.')\n",
    "\n",
    "    # Normalize to unit vectors\n",
    "    query, positive_key, negative_keys = normalize(query, positive_key, negative_keys)\n",
    "    if negative_keys is not None:\n",
    "        # Explicit negative keys\n",
    "\n",
    "        # Cosine between positive pairs\n",
    "        positive_logit = torch.sum(query * positive_key, dim=1, keepdim=True)\n",
    "\n",
    "        if negative_mode == 'unpaired':\n",
    "            # Cosine between all query-negative combinations\n",
    "            negative_logits = query @ transpose(negative_keys)\n",
    "\n",
    "        elif negative_mode == 'paired':\n",
    "            query = query.unsqueeze(1)\n",
    "            negative_logits = query @ transpose(negative_keys)\n",
    "            negative_logits = negative_logits.squeeze(1)\n",
    "\n",
    "        # First index in last dimension are the positive samples\n",
    "        logits = torch.cat([positive_logit, negative_logits], dim=1)\n",
    "        labels = torch.zeros(len(logits), dtype=torch.long, device=query.device)\n",
    "    else:\n",
    "        # Negative keys are implicitly off-diagonal positive keys.\n",
    "\n",
    "        # Cosine between all combinations\n",
    "        logits = query @ transpose(positive_key)\n",
    "\n",
    "        # Positive keys are the entries on the diagonal\n",
    "        labels = torch.arange(len(query), device=query.device)\n",
    "\n",
    "    return F.cross_entropy(logits / temperature, labels, reduction=reduction)\n",
    "\n",
    "\n",
    "def transpose(x):\n",
    "    return x.transpose(-2, -1)\n",
    "\n",
    "\n",
    "def normalize(*xs):\n",
    "    return [None if x is None else F.normalize(x, dim=-1) for x in xs]"
   ]
  },
  {
   "cell_type": "code",
   "execution_count": 1119,
   "metadata": {},
   "outputs": [],
   "source": [
    "loss = InfoNCE(negative_mode='paired')"
   ]
  },
  {
   "cell_type": "code",
   "execution_count": null,
   "metadata": {},
   "outputs": [],
   "source": []
  },
  {
   "cell_type": "code",
   "execution_count": 1120,
   "metadata": {},
   "outputs": [
    {
     "name": "stdout",
     "output_type": "stream",
     "text": [
      "0%, loss=5.010801315307617\n",
      "5%, loss=0.9941871762275696\n",
      "10%, loss=0.9168933033943176\n",
      "15%, loss=0.6625989675521851\n",
      "20%, loss=0.46998733282089233\n",
      "25%, loss=0.4957210123538971\n",
      "30%, loss=0.35472312569618225\n",
      "35%, loss=0.4049158990383148\n",
      "40%, loss=0.298570841550827\n",
      "45%, loss=0.3002535104751587\n",
      "50%, loss=0.21247915923595428\n",
      "55%, loss=0.20701728761196136\n",
      "60%, loss=0.11709211021661758\n",
      "65%, loss=0.2124336212873459\n",
      "70%, loss=0.16353145241737366\n",
      "75%, loss=0.1831529587507248\n",
      "80%, loss=0.2989306151866913\n",
      "85%, loss=0.29011860489845276\n",
      "90%, loss=0.2518996298313141\n",
      "95%, loss=0.19093596935272217\n"
     ]
    }
   ],
   "source": [
    "net.train()\n",
    "for i in range(1000):\n",
    "    anchors, positives, negatives = create_batch(100)\n",
    "    net.zero_grad()\n",
    "    optimizer.zero_grad()\n",
    "    anchors = net(torch.tensor(anchors).type(FloatTensor))\n",
    "    positives = net(torch.tensor(positives).type(FloatTensor))\n",
    "    neg_list = []\n",
    "    for j in range(100):\n",
    "        n_j = net(torch.tensor(negatives[j]).type(FloatTensor))\n",
    "        neg_list.append(n_j)\n",
    "    negatives = torch.stack(neg_list, dim=0)\n",
    "\n",
    "    l = loss(anchors, positives, negatives)\n",
    "    if i % 50 == 0:\n",
    "        print(f'{i // 10}%, loss={l}')\n",
    "    l.backward()\n",
    "    optimizer.step()"
   ]
  },
  {
   "cell_type": "code",
   "execution_count": null,
   "metadata": {},
   "outputs": [],
   "source": []
  },
  {
   "cell_type": "code",
   "execution_count": 1121,
   "metadata": {},
   "outputs": [
    {
     "name": "stderr",
     "output_type": "stream",
     "text": [
      "/var/folders/tt/_dxmbtvs2hg3dvltgsw9jfcsb99qpj/T/ipykernel_22513/2862135675.py:1: UserWarning: To copy construct from a tensor, it is recommended to use sourceTensor.clone().detach() or sourceTensor.clone().detach().requires_grad_(True), rather than torch.tensor(sourceTensor).\n",
      "  X_train = torch.tensor(X_train).type(FloatTensor)\n"
     ]
    },
    {
     "data": {
      "text/plain": [
       "torch.Size([60000, 10])"
      ]
     },
     "execution_count": 1121,
     "metadata": {},
     "output_type": "execute_result"
    }
   ],
   "source": [
    "X_train = torch.tensor(X_train).type(FloatTensor)\n",
    "train_emb = net(X_train).cpu().detach()\n",
    "train_emb.shape"
   ]
  },
  {
   "cell_type": "code",
   "execution_count": 1122,
   "metadata": {},
   "outputs": [
    {
     "name": "stderr",
     "output_type": "stream",
     "text": [
      "/var/folders/tt/_dxmbtvs2hg3dvltgsw9jfcsb99qpj/T/ipykernel_22513/3097526249.py:1: UserWarning: To copy construct from a tensor, it is recommended to use sourceTensor.clone().detach() or sourceTensor.clone().detach().requires_grad_(True), rather than torch.tensor(sourceTensor).\n",
      "  X_test = torch.tensor(X_test).type(FloatTensor)\n"
     ]
    },
    {
     "data": {
      "text/plain": [
       "torch.Size([10000, 10])"
      ]
     },
     "execution_count": 1122,
     "metadata": {},
     "output_type": "execute_result"
    }
   ],
   "source": [
    "X_test = torch.tensor(X_test).type(FloatTensor)\n",
    "test_emb = net(X_test).cpu().detach()\n",
    "test_emb.shape"
   ]
  },
  {
   "cell_type": "code",
   "execution_count": 1123,
   "metadata": {},
   "outputs": [],
   "source": [
    "train_dict = make_dict(train_emb, y_train)"
   ]
  },
  {
   "cell_type": "code",
   "execution_count": 1124,
   "metadata": {},
   "outputs": [],
   "source": [
    "y_test = test_data.targets.numpy()"
   ]
  },
  {
   "cell_type": "code",
   "execution_count": 1125,
   "metadata": {},
   "outputs": [],
   "source": [
    "y_pred_nc = predict_nc(test_emb, train_dict)"
   ]
  },
  {
   "cell_type": "code",
   "execution_count": null,
   "metadata": {},
   "outputs": [],
   "source": [
    "y_pred_knn = predict_knn(test_emb, train_dict, k=5)"
   ]
  },
  {
   "cell_type": "code",
   "execution_count": 1126,
   "metadata": {},
   "outputs": [
    {
     "data": {
      "text/plain": [
       "0.9499"
      ]
     },
     "execution_count": 1126,
     "metadata": {},
     "output_type": "execute_result"
    }
   ],
   "source": [
    "calculate_accuracy(y_pred_nc, y_test)"
   ]
  },
  {
   "cell_type": "code",
   "execution_count": null,
   "metadata": {},
   "outputs": [],
   "source": []
  },
  {
   "cell_type": "code",
   "execution_count": null,
   "metadata": {},
   "outputs": [],
   "source": []
  },
  {
   "cell_type": "markdown",
   "metadata": {},
   "source": [
    "## Modified"
   ]
  },
  {
   "cell_type": "code",
   "execution_count": 166,
   "metadata": {},
   "outputs": [],
   "source": [
    "class InfoNCE_Modified(nn.Module):\n",
    "    \"\"\"\n",
    "    Calculates the InfoNCE loss for self-supervised learning.\n",
    "    This contrastive loss enforces the embeddings of similar (positive) samples to be close\n",
    "        and those of different (negative) samples to be distant.\n",
    "    A query embedding is compared with one positive key and with one or more negative keys.\n",
    "\n",
    "    References:\n",
    "        https://arxiv.org/abs/1807.03748v2\n",
    "        https://arxiv.org/abs/2010.05113\n",
    "\n",
    "    Args:\n",
    "        temperature: Logits are divided by temperature before calculating the cross entropy.\n",
    "        reduction: Reduction method applied to the output.\n",
    "            Value must be one of ['none', 'sum', 'mean'].\n",
    "            See torch.nn.functional.cross_entropy for more details about each option.\n",
    "        negative_mode: Determines how the (optional) negative_keys are handled.\n",
    "            Value must be one of ['paired', 'unpaired'].\n",
    "            If 'paired', then each query sample is paired with a number of negative keys.\n",
    "            Comparable to a triplet loss, but with multiple negatives per sample.\n",
    "            If 'unpaired', then the set of negative keys are all unrelated to any positive key.\n",
    "\n",
    "    Input shape:\n",
    "        query: (N, D) Tensor with query samples (e.g. embeddings of the input).\n",
    "        positive_key: (N, D) Tensor with positive samples (e.g. embeddings of augmented input).\n",
    "        negative_keys (optional): Tensor with negative samples (e.g. embeddings of other inputs)\n",
    "            If negative_mode = 'paired', then negative_keys is a (N, M, D) Tensor.\n",
    "            If negative_mode = 'unpaired', then negative_keys is a (M, D) Tensor.\n",
    "            If None, then the negative keys for a sample are the positive keys for the other samples.\n",
    "\n",
    "    Returns:\n",
    "         Value of the InfoNCE Loss.\n",
    "\n",
    "     Examples:\n",
    "        >>> loss = InfoNCE()\n",
    "        >>> batch_size, num_negative, embedding_size = 32, 48, 128\n",
    "        >>> query = torch.randn(batch_size, embedding_size)\n",
    "        >>> positive_key = torch.randn(batch_size, embedding_size)\n",
    "        >>> negative_keys = torch.randn(num_negative, embedding_size)\n",
    "        >>> output = loss(query, positive_key, negative_keys)\n",
    "    \"\"\"\n",
    "\n",
    "    def __init__(self, temperature=0.1, reduction='mean', negative_mode='unpaired', beta=0.1):\n",
    "        super().__init__()\n",
    "        self.temperature = temperature\n",
    "        self.reduction = reduction\n",
    "        self.negative_mode = negative_mode\n",
    "        self.beta = beta\n",
    "\n",
    "    def forward(self, query, positive_key, negative_keys=None):\n",
    "        return info_nce(query, positive_key, negative_keys,\n",
    "                        temperature=self.temperature,\n",
    "                        reduction=self.reduction,\n",
    "                        negative_mode=self.negative_mode, beta=self.beta)\n",
    "\n",
    "\n",
    "def info_nce(query, positive_key, negative_keys=None, temperature=0.1, reduction='mean', negative_mode='unpaired', beta=0.1):\n",
    "    # Check input dimensionality.\n",
    "    if query.dim() != 2:\n",
    "        raise ValueError('<query> must have 2 dimensions.')\n",
    "    if positive_key.dim() != 2:\n",
    "        raise ValueError('<positive_key> must have 2 dimensions.')\n",
    "    if negative_keys is not None:\n",
    "        if negative_mode == 'unpaired' and negative_keys.dim() != 2:\n",
    "            raise ValueError(\"<negative_keys> must have 2 dimensions if <negative_mode> == 'unpaired'.\")\n",
    "        if negative_mode == 'paired' and negative_keys.dim() != 3:\n",
    "            raise ValueError(\"<negative_keys> must have 3 dimensions if <negative_mode> == 'paired'.\")\n",
    "\n",
    "    # Check matching number of samples.\n",
    "    if len(query) != len(positive_key):\n",
    "        raise ValueError('<query> and <positive_key> must must have the same number of samples.')\n",
    "    if negative_keys is not None:\n",
    "        if negative_mode == 'paired' and len(query) != len(negative_keys):\n",
    "            raise ValueError(\"If negative_mode == 'paired', then <negative_keys> must have the same number of samples as <query>.\")\n",
    "\n",
    "    # Embedding vectors should have same number of components.\n",
    "    if query.shape[-1] != positive_key.shape[-1]:\n",
    "        raise ValueError('Vectors of <query> and <positive_key> should have the same number of components.')\n",
    "    if negative_keys is not None:\n",
    "        if query.shape[-1] != negative_keys.shape[-1]:\n",
    "            raise ValueError('Vectors of <query> and <negative_keys> should have the same number of components.')\n",
    "\n",
    "    # Normalize to unit vectors\n",
    "    query, positive_key, negative_keys = normalize(query, positive_key, negative_keys)\n",
    "    if negative_keys is not None:\n",
    "        # Explicit negative keys\n",
    "\n",
    "        # Cosine between positive pairs\n",
    "        positive_logit = torch.sum(query * positive_key, dim=1, keepdim=True)\n",
    "        positive_logit = torch.clamp(positive_logit, max=beta)\n",
    "\n",
    "        if negative_mode == 'unpaired':\n",
    "            # Cosine between all query-negative combinations\n",
    "            negative_logits = query @ transpose(negative_keys)\n",
    "\n",
    "        elif negative_mode == 'paired':\n",
    "            query = query.unsqueeze(1)\n",
    "            negative_logits = query @ transpose(negative_keys)\n",
    "            negative_logits = negative_logits.squeeze(1)\n",
    "\n",
    "        # First index in last dimension are the positive samples\n",
    "        logits = torch.cat([positive_logit, negative_logits], dim=1)\n",
    "        labels = torch.zeros(len(logits), dtype=torch.long, device=query.device)\n",
    "    else:\n",
    "        # Negative keys are implicitly off-diagonal positive keys.\n",
    "\n",
    "        # Cosine between all combinations\n",
    "        logits = query @ transpose(positive_key)\n",
    "\n",
    "        # Positive keys are the entries on the diagonal\n",
    "        labels = torch.arange(len(query), device=query.device)\n",
    "\n",
    "    return F.cross_entropy(logits / temperature, labels, reduction=reduction)\n",
    "\n",
    "\n",
    "def transpose(x):\n",
    "    return x.transpose(-2, -1)\n",
    "\n",
    "\n",
    "def normalize(*xs):\n",
    "    return [None if x is None else F.normalize(x, dim=-1) for x in xs]"
   ]
  },
  {
   "cell_type": "code",
   "execution_count": 261,
   "metadata": {},
   "outputs": [],
   "source": [
    "loss = InfoNCE_Modified(negative_mode='paired', beta=0.6)"
   ]
  },
  {
   "cell_type": "code",
   "execution_count": 262,
   "metadata": {},
   "outputs": [
    {
     "name": "stdout",
     "output_type": "stream",
     "text": [
      "0%, loss=5.675112247467041\n",
      "5%, loss=2.8843507766723633\n",
      "10%, loss=2.0857770442962646\n",
      "15%, loss=2.4247307777404785\n",
      "20%, loss=1.9283294677734375\n",
      "25%, loss=1.574702501296997\n",
      "30%, loss=1.275483250617981\n",
      "35%, loss=1.4950238466262817\n",
      "40%, loss=1.2237567901611328\n",
      "45%, loss=0.963381290435791\n",
      "50%, loss=1.0603059530258179\n",
      "55%, loss=1.0169755220413208\n",
      "60%, loss=0.8793382048606873\n",
      "65%, loss=0.8907890915870667\n",
      "70%, loss=0.8210601210594177\n",
      "75%, loss=0.7093599438667297\n",
      "80%, loss=0.7272754907608032\n",
      "85%, loss=0.6901994943618774\n",
      "90%, loss=0.5795981884002686\n",
      "95%, loss=0.4816484749317169\n"
     ]
    }
   ],
   "source": [
    "net.train()\n",
    "for i in range(1000):\n",
    "    anchors, positives, negatives = create_batch(100)\n",
    "    net.zero_grad()\n",
    "    optimizer.zero_grad()\n",
    "    anchors = net(torch.tensor(anchors).type(FloatTensor).to(device))\n",
    "    positives = net(torch.tensor(positives).type(FloatTensor).to(device))\n",
    "    neg_list = []\n",
    "    for j in range(100):\n",
    "        n_j = net(torch.tensor(negatives[j]).type(FloatTensor).to(device))\n",
    "        neg_list.append(n_j)\n",
    "    negatives = torch.stack(neg_list, dim=0)\n",
    "\n",
    "    l = loss(anchors, positives, negatives)\n",
    "    if i % 50 == 0:\n",
    "        print(f'{i // 10}%, loss={l}')\n",
    "    l.backward()\n",
    "    optimizer.step()"
   ]
  },
  {
   "cell_type": "code",
   "execution_count": null,
   "metadata": {},
   "outputs": [],
   "source": []
  },
  {
   "cell_type": "code",
   "execution_count": 263,
   "metadata": {},
   "outputs": [
    {
     "name": "stderr",
     "output_type": "stream",
     "text": [
      "/var/folders/tt/_dxmbtvs2hg3dvltgsw9jfcsb99qpj/T/ipykernel_86807/2862135675.py:1: UserWarning: To copy construct from a tensor, it is recommended to use sourceTensor.clone().detach() or sourceTensor.clone().detach().requires_grad_(True), rather than torch.tensor(sourceTensor).\n",
      "  X_train = torch.tensor(X_train).type(FloatTensor)\n"
     ]
    },
    {
     "data": {
      "text/plain": [
       "torch.Size([60000, 10])"
      ]
     },
     "execution_count": 263,
     "metadata": {},
     "output_type": "execute_result"
    }
   ],
   "source": [
    "X_train = torch.tensor(X_train).type(FloatTensor)\n",
    "train_emb = net(X_train).cpu().detach()\n",
    "train_emb.shape"
   ]
  },
  {
   "cell_type": "code",
   "execution_count": 264,
   "metadata": {},
   "outputs": [
    {
     "name": "stderr",
     "output_type": "stream",
     "text": [
      "/var/folders/tt/_dxmbtvs2hg3dvltgsw9jfcsb99qpj/T/ipykernel_86807/3097526249.py:1: UserWarning: To copy construct from a tensor, it is recommended to use sourceTensor.clone().detach() or sourceTensor.clone().detach().requires_grad_(True), rather than torch.tensor(sourceTensor).\n",
      "  X_test = torch.tensor(X_test).type(FloatTensor)\n"
     ]
    },
    {
     "data": {
      "text/plain": [
       "torch.Size([10000, 10])"
      ]
     },
     "execution_count": 264,
     "metadata": {},
     "output_type": "execute_result"
    }
   ],
   "source": [
    "X_test = torch.tensor(X_test).type(FloatTensor)\n",
    "test_emb = net(X_test).cpu().detach()\n",
    "test_emb.shape"
   ]
  },
  {
   "cell_type": "code",
   "execution_count": 265,
   "metadata": {},
   "outputs": [],
   "source": [
    "train_dict = make_dict(train_emb, y_train)"
   ]
  },
  {
   "cell_type": "code",
   "execution_count": 266,
   "metadata": {},
   "outputs": [],
   "source": [
    "y_test = test_data.targets.numpy()"
   ]
  },
  {
   "cell_type": "code",
   "execution_count": null,
   "metadata": {},
   "outputs": [],
   "source": [
    "y_pred_nc = predict_nc(test_emb, train_dict)"
   ]
  },
  {
   "cell_type": "code",
   "execution_count": null,
   "metadata": {},
   "outputs": [],
   "source": [
    "y_pred_knn = predict_knn(test_emb, train_dict, k=5)"
   ]
  },
  {
   "cell_type": "code",
   "execution_count": 267,
   "metadata": {},
   "outputs": [
    {
     "data": {
      "text/plain": [
       "0.8769"
      ]
     },
     "execution_count": 267,
     "metadata": {},
     "output_type": "execute_result"
    }
   ],
   "source": [
    "calculate_accuracy(y_pred_nc, y_test)"
   ]
  },
  {
   "cell_type": "code",
   "execution_count": null,
   "metadata": {},
   "outputs": [],
   "source": []
  },
  {
   "cell_type": "code",
   "execution_count": null,
   "metadata": {},
   "outputs": [],
   "source": []
  },
  {
   "cell_type": "markdown",
   "metadata": {},
   "source": [
    "## InfoNCE results (base vs modified)\n",
    "\n",
    "MNIST: 0.9335 vs 0.9637\n",
    "\n",
    "FashionMNIST: 0.8006 vs 0.8186\n",
    "\n",
    "KMNIST: 0.8573 vs 0.8769\n"
   ]
  },
  {
   "cell_type": "code",
   "execution_count": null,
   "metadata": {},
   "outputs": [],
   "source": []
  },
  {
   "cell_type": "code",
   "execution_count": 169,
   "metadata": {},
   "outputs": [],
   "source": [
    "res_map_infonce_k_10 = dict()\n",
    "res_map_infonce_k_20 = dict()\n",
    "res_map_infonce_k_30 = dict()"
   ]
  },
  {
   "cell_type": "code",
   "execution_count": 173,
   "metadata": {},
   "outputs": [],
   "source": [
    "k = 20"
   ]
  },
  {
   "cell_type": "code",
   "execution_count": 174,
   "metadata": {},
   "outputs": [
    {
     "name": "stderr",
     "output_type": "stream",
     "text": [
      "/var/folders/tt/_dxmbtvs2hg3dvltgsw9jfcsb99qpj/T/ipykernel_10174/421949015.py:34: UserWarning: To copy construct from a tensor, it is recommended to use sourceTensor.clone().detach() or sourceTensor.clone().detach().requires_grad_(True), rather than torch.tensor(sourceTensor).\n",
      "  X_train = torch.tensor(X_train).type(FloatTensor)\n",
      "/var/folders/tt/_dxmbtvs2hg3dvltgsw9jfcsb99qpj/T/ipykernel_10174/421949015.py:36: UserWarning: To copy construct from a tensor, it is recommended to use sourceTensor.clone().detach() or sourceTensor.clone().detach().requires_grad_(True), rather than torch.tensor(sourceTensor).\n",
      "  X_test = torch.tensor(X_test).type(FloatTensor)\n"
     ]
    },
    {
     "name": "stdout",
     "output_type": "stream",
     "text": [
      "v = 0.0 accuracy = 0.9591\n",
      "v = 0.05263157894736842 accuracy = 0.9459\n",
      "v = 0.10526315789473684 accuracy = 0.9515\n",
      "v = 0.15789473684210525 accuracy = 0.9528\n",
      "v = 0.21052631578947367 accuracy = 0.9563\n",
      "v = 0.2631578947368421 accuracy = 0.9662\n",
      "v = 0.3157894736842105 accuracy = 0.9647\n",
      "v = 0.3684210526315789 accuracy = 0.9685\n",
      "v = 0.42105263157894735 accuracy = 0.9734\n",
      "v = 0.47368421052631576 accuracy = 0.9597\n",
      "v = 0.5263157894736842 accuracy = 0.9695\n",
      "v = 0.5789473684210527 accuracy = 0.9671\n",
      "v = 0.631578947368421 accuracy = 0.9723\n",
      "v = 0.6842105263157894 accuracy = 0.9705\n",
      "v = 0.7368421052631579 accuracy = 0.9686\n",
      "v = 0.7894736842105263 accuracy = 0.9626\n",
      "v = 0.8421052631578947 accuracy = 0.9602\n",
      "v = 0.894736842105263 accuracy = 0.9628\n",
      "v = 0.9473684210526315 accuracy = 0.9571\n",
      "v = 1.0 accuracy = 0.9556\n"
     ]
    }
   ],
   "source": [
    "for v in np.linspace(0.0, 1.0, num=20):\n",
    "    net = torch.nn.Sequential(\n",
    "        nn.Linear(784, 512),\n",
    "        nn.PReLU(512),\n",
    "        nn.BatchNorm1d(512),\n",
    "        nn.Linear(512, 512),\n",
    "        nn.PReLU(512),\n",
    "        nn.BatchNorm1d(512),\n",
    "        nn.Linear(512, 10)\n",
    "    )\n",
    "    net = net.type(FloatTensor)\n",
    "\n",
    "    params = net.parameters()\n",
    "    optimizer = torch.optim.Adam(params=params, lr=0.001)\n",
    "\n",
    "    loss = InfoNCE_Modified(negative_mode='paired', beta=v)\n",
    "    \n",
    "    for i in range(1000):\n",
    "        net.train()\n",
    "        anchors, positives, negatives = create_batch(100)\n",
    "        net.zero_grad()\n",
    "        anchors = net(torch.tensor(anchors).type(FloatTensor))\n",
    "        positives = net(torch.tensor(positives).type(FloatTensor))\n",
    "        neg_list = []\n",
    "        for j in range(100):\n",
    "            n_j = net(torch.tensor(negatives[j]).type(FloatTensor))\n",
    "            neg_list.append(n_j)\n",
    "        negatives = torch.stack(neg_list, dim=0)\n",
    "    \n",
    "        l = loss(anchors, positives, negatives)\n",
    "        l.backward()\n",
    "        optimizer.step()\n",
    "\n",
    "    X_train = torch.tensor(X_train).type(FloatTensor)\n",
    "    train_emb = net(X_train).cpu().detach()\n",
    "    X_test = torch.tensor(X_test).type(FloatTensor)\n",
    "    test_emb = net(X_test).cpu().detach()\n",
    "    train_dict = make_dict(train_emb, y_train)\n",
    "    y_test = test_data.targets.numpy()\n",
    "    res = calculate_accuracy(test_emb, train_dict, y_test)\n",
    "    res_map_infonce_k_20[v] = res\n",
    "    print(f'v = {v} accuracy = {res}')"
   ]
  },
  {
   "cell_type": "code",
   "execution_count": null,
   "metadata": {},
   "outputs": [],
   "source": []
  },
  {
   "cell_type": "code",
   "execution_count": null,
   "metadata": {},
   "outputs": [],
   "source": []
  },
  {
   "cell_type": "code",
   "execution_count": 193,
   "metadata": {},
   "outputs": [
    {
     "data": {
      "image/png": "[encoded data removed]",
      "text/plain": [
       "<Figure size 1800x800 with 1 Axes>"
      ]
     },
     "metadata": {},
     "output_type": "display_data"
    }
   ],
   "source": [
    "fig = plt.figure(figsize=(18, 8))\n",
    "plt.plot(res_map_infonce_k_10.keys(), res_map_infonce_k_10.values(), color='red', marker='.', ms=12)\n",
    "plt.title('График зависимости точности классификации с вероятностными потерями при K = 10 от параметра v', fontsize=19)\n",
    "plt.xlabel('Значения параметра v', fontsize=14)\n",
    "plt.ylabel('Точность классификации', fontsize=14)\n",
    "plt.xticks(np.arange(0, 1.1, 0.1))\n",
    "# plt.yticks(np.arange(0, 2.2, 0.2))\n",
    "plt.show()"
   ]
  },
  {
   "cell_type": "code",
   "execution_count": 194,
   "metadata": {},
   "outputs": [
    {
     "name": "stderr",
     "output_type": "stream",
     "text": [
      "Zapf NOT subset; don't know how to subset; dropped\n",
      "fdsc NOT subset; don't know how to subset; dropped\n",
      "feat NOT subset; don't know how to subset; dropped\n",
      "morx NOT subset; don't know how to subset; dropped\n"
     ]
    }
   ],
   "source": [
    "fig.savefig('infonce_loss_k_10.pdf', format='pdf', dpi=600)"
   ]
  },
  {
   "cell_type": "code",
   "execution_count": null,
   "metadata": {},
   "outputs": [],
   "source": []
  },
  {
   "cell_type": "code",
   "execution_count": 190,
   "metadata": {},
   "outputs": [
    {
     "data": {
      "text/plain": [
       "{0.0: 0.9591,\n",
       " 0.05263157894736842: 0.9502,\n",
       " 0.10526315789473684: 0.9515,\n",
       " 0.15789473684210525: 0.9528,\n",
       " 0.21052631578947367: 0.9563,\n",
       " 0.2631578947368421: 0.9662,\n",
       " 0.3157894736842105: 0.9647,\n",
       " 0.3684210526315789: 0.9685,\n",
       " 0.42105263157894735: 0.9734,\n",
       " 0.47368421052631576: 0.9672,\n",
       " 0.5263157894736842: 0.9695,\n",
       " 0.5789473684210527: 0.9671,\n",
       " 0.631578947368421: 0.9723,\n",
       " 0.6842105263157894: 0.9705,\n",
       " 0.7368421052631579: 0.9686,\n",
       " 0.7894736842105263: 0.9626,\n",
       " 0.8421052631578947: 0.9602,\n",
       " 0.894736842105263: 0.9628,\n",
       " 0.9473684210526315: 0.9571,\n",
       " 1.0: 0.9556}"
      ]
     },
     "execution_count": 190,
     "metadata": {},
     "output_type": "execute_result"
    }
   ],
   "source": [
    "res_map_infonce_k_20"
   ]
  },
  {
   "cell_type": "code",
   "execution_count": null,
   "metadata": {},
   "outputs": [],
   "source": []
  },
  {
   "cell_type": "code",
   "execution_count": 10,
   "metadata": {},
   "outputs": [
    {
     "data": {
      "image/png": "[encoded data removed]",
      "text/plain": [
       "<Figure size 1800x800 with 1 Axes>"
      ]
     },
     "metadata": {},
     "output_type": "display_data"
    }
   ],
   "source": [
    "fig = plt.figure(figsize=(18, 8))\n",
    "plt.plot(res_map_infonce_k_20.keys(), res_map_infonce_k_20.values(), color='red', marker='.', ms=12)\n",
    "plt.title('График зависимости точности классификации с вероятностными потерями от параметра v при K = 20', fontsize=20)\n",
    "plt.xlabel('Значения параметра v', fontsize=15)\n",
    "plt.ylabel('Точность классификации', fontsize=15)\n",
    "plt.xticks(np.arange(0, 1.1, 0.1))\n",
    "# plt.yticks(np.arange(0, 2.2, 0.2))\n",
    "plt.show()"
   ]
  },
  {
   "cell_type": "code",
   "execution_count": 11,
   "metadata": {},
   "outputs": [
    {
     "name": "stderr",
     "output_type": "stream",
     "text": [
      "Zapf NOT subset; don't know how to subset; dropped\n",
      "fdsc NOT subset; don't know how to subset; dropped\n",
      "feat NOT subset; don't know how to subset; dropped\n",
      "morx NOT subset; don't know how to subset; dropped\n"
     ]
    }
   ],
   "source": [
    "fig.savefig('infonce_loss_k_20_acc.pdf', format='pdf', dpi=600)"
   ]
  },
  {
   "cell_type": "code",
   "execution_count": null,
   "metadata": {},
   "outputs": [],
   "source": []
  }
 ],
 "metadata": {
  "kernelspec": {
   "display_name": "Python 3 (ipykernel)",
   "language": "python",
   "name": "python3"
  },
  "language_info": {
   "codemirror_mode": {
    "name": "ipython",
    "version": 3
   },
   "file_extension": ".py",
   "mimetype": "text/x-python",
   "name": "python",
   "nbconvert_exporter": "python",
   "pygments_lexer": "ipython3",
   "version": "3.9.2"
  }
 },
 "nbformat": 4,
 "nbformat_minor": 4
}
